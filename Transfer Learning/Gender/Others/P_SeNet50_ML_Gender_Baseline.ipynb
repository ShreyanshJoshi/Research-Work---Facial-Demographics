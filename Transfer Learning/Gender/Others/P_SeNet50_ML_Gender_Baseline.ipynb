{
  "nbformat": 4,
  "nbformat_minor": 0,
  "metadata": {
    "colab": {
      "name": "P-SeNet50 - ML- Gender - Baseline.ipynb",
      "provenance": [],
      "collapsed_sections": []
    },
    "kernelspec": {
      "name": "python3",
      "display_name": "Python 3"
    },
    "accelerator": "GPU"
  },
  "cells": [
    {
      "cell_type": "code",
      "metadata": {
        "id": "EcRD_xVhR54r"
      },
      "source": [
        "import numpy as np\n",
        "import matplotlib.pyplot as plt\n",
        "import pandas as pd\n",
        "import os\n",
        "import pickle\n",
        "from sklearn.model_selection import GridSearchCV\n",
        "from sklearn.metrics import accuracy_score, roc_auc_score\n",
        "import time\n",
        "%matplotlib inline"
      ],
      "execution_count": null,
      "outputs": []
    },
    {
      "cell_type": "code",
      "metadata": {
        "id": "zldDlxBYRfyJ",
        "colab": {
          "base_uri": "https://localhost:8080/",
          "height": 204
        },
        "outputId": "04926661-3043-4b61-85c3-00a41ec01b1d"
      },
      "source": [
        "#Loading Labels\n",
        "traindf = pd.read_excel('/content/drive/My Drive/Paper/UTKFace/traindf.xlsx')\n",
        "valdf = pd.read_excel('/content/drive/My Drive/Paper/UTKFace/valdf.xlsx')\n",
        "testdf = pd.read_excel('/content/drive/My Drive/Paper/UTKFace/testdf.xlsx')\n",
        "traindf.head()"
      ],
      "execution_count": null,
      "outputs": [
        {
          "output_type": "execute_result",
          "data": {
            "text/html": [
              "<div>\n",
              "<style scoped>\n",
              "    .dataframe tbody tr th:only-of-type {\n",
              "        vertical-align: middle;\n",
              "    }\n",
              "\n",
              "    .dataframe tbody tr th {\n",
              "        vertical-align: top;\n",
              "    }\n",
              "\n",
              "    .dataframe thead th {\n",
              "        text-align: right;\n",
              "    }\n",
              "</style>\n",
              "<table border=\"1\" class=\"dataframe\">\n",
              "  <thead>\n",
              "    <tr style=\"text-align: right;\">\n",
              "      <th></th>\n",
              "      <th>Unnamed: 0</th>\n",
              "      <th>age</th>\n",
              "      <th>gender</th>\n",
              "      <th>race</th>\n",
              "      <th>file</th>\n",
              "    </tr>\n",
              "  </thead>\n",
              "  <tbody>\n",
              "    <tr>\n",
              "      <th>0</th>\n",
              "      <td>21938</td>\n",
              "      <td>50</td>\n",
              "      <td>0</td>\n",
              "      <td>3</td>\n",
              "      <td>50_0_3_20170119204521040.jpg.chip.jpg</td>\n",
              "    </tr>\n",
              "    <tr>\n",
              "      <th>1</th>\n",
              "      <td>10250</td>\n",
              "      <td>49</td>\n",
              "      <td>0</td>\n",
              "      <td>3</td>\n",
              "      <td>49_0_3_20170104214426925.jpg.chip.jpg</td>\n",
              "    </tr>\n",
              "    <tr>\n",
              "      <th>2</th>\n",
              "      <td>17693</td>\n",
              "      <td>24</td>\n",
              "      <td>0</td>\n",
              "      <td>2</td>\n",
              "      <td>24_0_2_20170116172525947.jpg.chip.jpg</td>\n",
              "    </tr>\n",
              "    <tr>\n",
              "      <th>3</th>\n",
              "      <td>649</td>\n",
              "      <td>55</td>\n",
              "      <td>0</td>\n",
              "      <td>3</td>\n",
              "      <td>55_0_3_20170119171117830.jpg.chip.jpg</td>\n",
              "    </tr>\n",
              "    <tr>\n",
              "      <th>4</th>\n",
              "      <td>7397</td>\n",
              "      <td>80</td>\n",
              "      <td>1</td>\n",
              "      <td>0</td>\n",
              "      <td>80_1_0_20170110131358567.jpg.chip.jpg</td>\n",
              "    </tr>\n",
              "  </tbody>\n",
              "</table>\n",
              "</div>"
            ],
            "text/plain": [
              "   Unnamed: 0  age  gender  race                                   file\n",
              "0       21938   50       0     3  50_0_3_20170119204521040.jpg.chip.jpg\n",
              "1       10250   49       0     3  49_0_3_20170104214426925.jpg.chip.jpg\n",
              "2       17693   24       0     2  24_0_2_20170116172525947.jpg.chip.jpg\n",
              "3         649   55       0     3  55_0_3_20170119171117830.jpg.chip.jpg\n",
              "4        7397   80       1     0  80_1_0_20170110131358567.jpg.chip.jpg"
            ]
          },
          "metadata": {
            "tags": []
          },
          "execution_count": 20
        }
      ]
    },
    {
      "cell_type": "code",
      "metadata": {
        "id": "FUibcw8_zoHv"
      },
      "source": [
        "X_train = np.load('/content/drive/My Drive/Paper/UTKFace/ML/SeNet50/X_train.npy')\n",
        "X_val = np.load('/content/drive/My Drive/Paper/UTKFace/ML/SeNet50/X_val.npy')\n",
        "X_test = np.load('/content/drive/My Drive/Paper/UTKFace/ML/SeNet50/X_test.npy')"
      ],
      "execution_count": null,
      "outputs": []
    },
    {
      "cell_type": "code",
      "metadata": {
        "id": "ctiZtknJz7nD"
      },
      "source": [
        "def scale(X):\n",
        "  mean = X.mean(axis=0)\n",
        "  std = X.std(axis=0)\n",
        "  X-=mean\n",
        "  X/=std\n",
        "  return X"
      ],
      "execution_count": null,
      "outputs": []
    },
    {
      "cell_type": "code",
      "metadata": {
        "id": "CqtcTdZVzl-5"
      },
      "source": [
        "X_train_scaled = scale(X_train)\n",
        "X_val_scaled = scale(X_val)\n",
        "X_test_scaled = scale(X_test)"
      ],
      "execution_count": null,
      "outputs": []
    },
    {
      "cell_type": "code",
      "metadata": {
        "id": "O5_ibC810_1t"
      },
      "source": [
        "y_train = traindf['gender'].values\n",
        "y_val = valdf['gender'].values\n",
        "y_test = testdf['gender'].values"
      ],
      "execution_count": null,
      "outputs": []
    },
    {
      "cell_type": "markdown",
      "metadata": {
        "id": "p6Z_N296S2wB"
      },
      "source": [
        "Gender ML Models\n"
      ]
    },
    {
      "cell_type": "code",
      "metadata": {
        "id": "omHIHCg_vueV"
      },
      "source": [
        "#@title Installing hypopt\n",
        "!pip install hypopt -q\n"
      ],
      "execution_count": null,
      "outputs": []
    },
    {
      "cell_type": "code",
      "metadata": {
        "id": "fu5loBscx9WE",
        "colab": {
          "base_uri": "https://localhost:8080/",
          "height": 272
        },
        "outputId": "d4979e7e-e4b8-42a3-f82b-dbad22e14701"
      },
      "source": [
        "#@title Logistic Regression --- Baseline\n",
        "\n",
        "from sklearn.linear_model import LogisticRegression\n",
        "from sklearn.metrics import accuracy_score, roc_auc_score\n",
        "\n",
        "model = LogisticRegression(max_iter=1000,class_weight='balanced',random_state=0)\n",
        "model.fit(X_train_scaled,y_train)\n",
        "\n",
        "y_pred_train = model.predict(X_train_scaled)\n",
        "y_pred_test = model.predict(X_test_scaled)\n",
        "\n",
        "print('ACCURACY : \\n')\n",
        "print('Train : ' + str(accuracy_score(y_train,y_pred_train)))\n",
        "print('Test : ' + str(accuracy_score(y_test,y_pred_test)))\n",
        "\n",
        "print('\\n ROC_AUC_SCORE : \\n')\n",
        "print('Train : ' + str(roc_auc_score(y_train,y_pred_train)))\n",
        "print('Test : ' + str(roc_auc_score(y_test,y_pred_test)))\n",
        "\n",
        "print(model.get_params)\n",
        "filename = \"/content/drive/My Drive/Paper/UTKFace/ML/SeNet50/Gender/Untuned/LR.sav\"\n",
        "pickle.dump(model, open(filename, 'wb'))\n",
        "loaded_model = pickle.load(open(filename, 'rb'))\n",
        "result = loaded_model.score(X_test_scaled, y_test)\n",
        "print(result)"
      ],
      "execution_count": null,
      "outputs": [
        {
          "output_type": "stream",
          "text": [
            "ACCURACY : \n",
            "\n",
            "Train : 0.9738410421391277\n",
            "Test : 0.9211303247574862\n",
            "\n",
            " ROC_AUC_SCORE : \n",
            "\n",
            "Train : 0.9739300186502483\n",
            "Test : 0.9206005738893189\n",
            "<bound method BaseEstimator.get_params of LogisticRegression(C=1.0, class_weight='balanced', dual=False,\n",
            "                   fit_intercept=True, intercept_scaling=1, l1_ratio=None,\n",
            "                   max_iter=1000, multi_class='auto', n_jobs=None, penalty='l2',\n",
            "                   random_state=0, solver='lbfgs', tol=0.0001, verbose=0,\n",
            "                   warm_start=False)>\n",
            "0.9211303247574862\n"
          ],
          "name": "stdout"
        }
      ]
    },
    {
      "cell_type": "code",
      "metadata": {
        "id": "DQKplUBRSzBG",
        "colab": {
          "base_uri": "https://localhost:8080/",
          "height": 289
        },
        "outputId": "5cfc3893-9156-476b-8ce1-a824f14dd47a"
      },
      "source": [
        "#@title Linear SVC --- Baseline\n",
        "\n",
        "from sklearn.svm import LinearSVC\n",
        "from sklearn.metrics import accuracy_score, roc_auc_score\n",
        "\n",
        "model = LinearSVC(class_weight='balanced',random_state=0)\n",
        "model.fit(X_train_scaled,y_train)\n",
        "\n",
        "y_pred_train = model.predict(X_train_scaled)\n",
        "y_pred_test = model.predict(X_test_scaled)\n",
        "\n",
        "print('ACCURACY : \\n')\n",
        "print('Train : ' + str(accuracy_score(y_train,y_pred_train)))\n",
        "print('Test : ' + str(accuracy_score(y_test,y_pred_test)))\n",
        "\n",
        "print('\\n ROC_AUC_SCORE : \\n')\n",
        "print('Train : ' + str(roc_auc_score(y_train,y_pred_train)))\n",
        "print('Test : ' + str(roc_auc_score(y_test,y_pred_test)))\n",
        "\n",
        "print(model.get_params)\n",
        "filename = \"/content/drive/My Drive/Paper/UTKFace/ML/SeNet50/Gender/Untuned/Linear SVC.sav\"\n",
        "pickle.dump(model, open(filename, 'wb'))\n",
        "loaded_model = pickle.load(open(filename, 'rb'))\n",
        "result = loaded_model.score(X_test_scaled, y_test)\n",
        "print(result)"
      ],
      "execution_count": null,
      "outputs": [
        {
          "output_type": "stream",
          "text": [
            "/usr/local/lib/python3.6/dist-packages/sklearn/svm/_base.py:947: ConvergenceWarning: Liblinear failed to converge, increase the number of iterations.\n",
            "  \"the number of iterations.\", ConvergenceWarning)\n"
          ],
          "name": "stderr"
        },
        {
          "output_type": "stream",
          "text": [
            "ACCURACY : \n",
            "\n",
            "Train : 0.9612889615526607\n",
            "Test : 0.9143821172501054\n",
            "\n",
            " ROC_AUC_SCORE : \n",
            "\n",
            "Train : 0.9608809873372284\n",
            "Test : 0.9135299467306413\n",
            "<bound method BaseEstimator.get_params of LinearSVC(C=1.0, class_weight='balanced', dual=True, fit_intercept=True,\n",
            "          intercept_scaling=1, loss='squared_hinge', max_iter=1000,\n",
            "          multi_class='ovr', penalty='l2', random_state=0, tol=0.0001,\n",
            "          verbose=0)>\n",
            "0.9143821172501054\n"
          ],
          "name": "stdout"
        }
      ]
    },
    {
      "cell_type": "code",
      "metadata": {
        "id": "Zk817cMXlIze",
        "colab": {
          "base_uri": "https://localhost:8080/",
          "height": 255
        },
        "outputId": "d724d978-d828-4980-82b2-943a73dca360"
      },
      "source": [
        "#@title SVC --- Baseline\n",
        "\n",
        "from sklearn.svm import SVC\n",
        "from sklearn.metrics import accuracy_score, roc_auc_score\n",
        "\n",
        "model = SVC(class_weight='balanced',random_state=0)\n",
        "model.fit(X_train_scaled,y_train)\n",
        "\n",
        "y_pred_train = model.predict(X_train_scaled)\n",
        "y_pred_test = model.predict(X_test_scaled)\n",
        "\n",
        "print('ACCURACY : \\n')\n",
        "print('Train : ' + str(accuracy_score(y_train,y_pred_train)))\n",
        "print('Test : ' + str(accuracy_score(y_test,y_pred_test)))\n",
        "\n",
        "print('\\n ROC_AUC_SCORE : \\n')\n",
        "print('Train : ' + str(roc_auc_score(y_train,y_pred_train)))\n",
        "print('Test : ' + str(roc_auc_score(y_test,y_pred_test)))\n",
        "\n",
        "print(model.get_params)\n",
        "filename = \"/content/drive/My Drive/Paper/UTKFace/ML/SeNet50/Gender/Untuned/SVC.sav\"\n",
        "pickle.dump(model, open(filename, 'wb'))\n",
        "loaded_model = pickle.load(open(filename, 'rb'))\n",
        "result = loaded_model.score(X_test_scaled, y_test)\n",
        "print(result)"
      ],
      "execution_count": null,
      "outputs": [
        {
          "output_type": "stream",
          "text": [
            "ACCURACY : \n",
            "\n",
            "Train : 0.9713095300880755\n",
            "Test : 0.9464361029101644\n",
            "\n",
            " ROC_AUC_SCORE : \n",
            "\n",
            "Train : 0.9714215992838662\n",
            "Test : 0.946432720529016\n",
            "<bound method BaseEstimator.get_params of SVC(C=1.0, break_ties=False, cache_size=200, class_weight='balanced', coef0=0.0,\n",
            "    decision_function_shape='ovr', degree=3, gamma='scale', kernel='rbf',\n",
            "    max_iter=-1, probability=False, random_state=0, shrinking=True, tol=0.001,\n",
            "    verbose=False)>\n",
            "0.9464361029101644\n"
          ],
          "name": "stdout"
        }
      ]
    },
    {
      "cell_type": "code",
      "metadata": {
        "id": "KCwqaOFOtHL0",
        "colab": {
          "base_uri": "https://localhost:8080/",
          "height": 289
        },
        "outputId": "523db26b-37a2-4a5b-ba1f-561d8fbb8c1a"
      },
      "source": [
        "#@title Decision Tree --- Baseline\n",
        "\n",
        "from sklearn.tree import DecisionTreeClassifier\n",
        "from sklearn.metrics import accuracy_score, roc_auc_score\n",
        "\n",
        "model = DecisionTreeClassifier(class_weight='balanced',random_state=0)\n",
        "model.fit(X_train,y_train)\n",
        "\n",
        "y_pred_train = model.predict(X_train)\n",
        "y_pred_test = model.predict(X_test)\n",
        "\n",
        "print('ACCURACY : \\n')\n",
        "print('Train : ' + str(accuracy_score(y_train,y_pred_train)))\n",
        "print('Test : ' + str(accuracy_score(y_test,y_pred_test)))\n",
        "\n",
        "print('\\n ROC_AUC_SCORE : \\n')\n",
        "print('Train : ' + str(roc_auc_score(y_train,y_pred_train)))\n",
        "print('Test : ' + str(roc_auc_score(y_test,y_pred_test)))\n",
        "\n",
        "print(model.get_params)\n",
        "filename = \"/content/drive/My Drive/Paper/UTKFace/ML/SeNet50/Gender/Untuned/DTree.sav\"\n",
        "pickle.dump(model, open(filename, 'wb'))\n",
        "loaded_model = pickle.load(open(filename, 'rb'))\n",
        "result = loaded_model.score(X_test_scaled, y_test)\n",
        "print(result)"
      ],
      "execution_count": null,
      "outputs": [
        {
          "output_type": "stream",
          "text": [
            "ACCURACY : \n",
            "\n",
            "Train : 0.998681504140077\n",
            "Test : 0.5925769717418811\n",
            "\n",
            " ROC_AUC_SCORE : \n",
            "\n",
            "Train : 0.9987373737373738\n",
            "Test : 0.5948667125664084\n",
            "<bound method BaseEstimator.get_params of DecisionTreeClassifier(ccp_alpha=0.0, class_weight='balanced', criterion='gini',\n",
            "                       max_depth=None, max_features=None, max_leaf_nodes=None,\n",
            "                       min_impurity_decrease=0.0, min_impurity_split=None,\n",
            "                       min_samples_leaf=1, min_samples_split=2,\n",
            "                       min_weight_fraction_leaf=0.0, presort='deprecated',\n",
            "                       random_state=0, splitter='best')>\n",
            "0.5925769717418811\n"
          ],
          "name": "stdout"
        }
      ]
    },
    {
      "cell_type": "code",
      "metadata": {
        "id": "kxcKz-iry4-3",
        "colab": {
          "base_uri": "https://localhost:8080/",
          "height": 459
        },
        "outputId": "6aec2847-d8e5-4c7a-f7b2-7000babe57cf"
      },
      "source": [
        "#@title BaggingClassifier - LR --- Baseline\n",
        "\n",
        "from sklearn.ensemble import BaggingClassifier\n",
        "from sklearn.linear_model import LogisticRegression\n",
        "from sklearn.metrics import accuracy_score, roc_auc_score\n",
        "\n",
        "lr = LogisticRegression(max_iter=1000,class_weight='balanced',random_state=0)\n",
        "model = BaggingClassifier(base_estimator=lr, random_state=0)\n",
        "model.fit(X_train_scaled,y_train)\n",
        "\n",
        "y_pred_train = model.predict(X_train_scaled)\n",
        "y_pred_test = model.predict(X_test_scaled)\n",
        "\n",
        "print('ACCURACY : \\n')\n",
        "print('Train : ' + str(accuracy_score(y_train,y_pred_train)))\n",
        "print('Test : ' + str(accuracy_score(y_test,y_pred_test)))\n",
        "\n",
        "print('\\n ROC_AUC_SCORE : \\n')\n",
        "print('Train : ' + str(roc_auc_score(y_train,y_pred_train)))\n",
        "print('Test : ' + str(roc_auc_score(y_test,y_pred_test)))\n",
        "\n",
        "print(model.get_params)\n",
        "filename = \"/content/drive/My Drive/Paper/UTKFace/ML/SeNet50/Gender/Untuned/Bagging LR.sav\"\n",
        "pickle.dump(model, open(filename, 'wb'))\n",
        "loaded_model = pickle.load(open(filename, 'rb'))\n",
        "result = loaded_model.score(X_test_scaled, y_test)\n",
        "print(result)"
      ],
      "execution_count": null,
      "outputs": [
        {
          "output_type": "stream",
          "text": [
            "ACCURACY : \n",
            "\n",
            "Train : 0.9839670903433363\n",
            "Test : 0.929143821172501\n",
            "\n",
            " ROC_AUC_SCORE : \n",
            "\n",
            "Train : 0.9840151375804174\n",
            "Test : 0.9287139234443623\n",
            "<bound method BaseEstimator.get_params of BaggingClassifier(base_estimator=LogisticRegression(C=1.0,\n",
            "                                                    class_weight='balanced',\n",
            "                                                    dual=False,\n",
            "                                                    fit_intercept=True,\n",
            "                                                    intercept_scaling=1,\n",
            "                                                    l1_ratio=None,\n",
            "                                                    max_iter=1000,\n",
            "                                                    multi_class='auto',\n",
            "                                                    n_jobs=None, penalty='l2',\n",
            "                                                    random_state=0,\n",
            "                                                    solver='lbfgs', tol=0.0001,\n",
            "                                                    verbose=0,\n",
            "                                                    warm_start=False),\n",
            "                  bootstrap=True, bootstrap_features=False, max_features=1.0,\n",
            "                  max_samples=1.0, n_estimators=10, n_jobs=None,\n",
            "                  oob_score=False, random_state=0, verbose=0, warm_start=False)>\n",
            "0.929143821172501\n"
          ],
          "name": "stdout"
        }
      ]
    },
    {
      "cell_type": "code",
      "metadata": {
        "id": "-KcOU1xZ_vjV",
        "colab": {
          "base_uri": "https://localhost:8080/",
          "height": 340
        },
        "outputId": "03e39904-ccea-45aa-d641-6073bba2e45e"
      },
      "source": [
        "#@title Random Forest - LR --- Baseline\n",
        "import time \n",
        "from sklearn.ensemble import RandomForestClassifier\n",
        "from sklearn.metrics import accuracy_score, roc_auc_score\n",
        "\n",
        "tic = time.time()\n",
        "model = RandomForestClassifier(random_state=0,class_weight='balanced')\n",
        "model.fit(X_train,y_train)\n",
        "\n",
        "y_pred_train = model.predict(X_train)\n",
        "y_pred_test = model.predict(X_test)\n",
        "\n",
        "print('ACCURACY : \\n')\n",
        "print('Train : ' + str(accuracy_score(y_train,y_pred_train)))\n",
        "print('Test : ' + str(accuracy_score(y_test,y_pred_test)))\n",
        "\n",
        "print('\\n ROC_AUC_SCORE : \\n')\n",
        "print('Train : ' + str(roc_auc_score(y_train,y_pred_train)))\n",
        "print('Test : ' + str(roc_auc_score(y_test,y_pred_test)))\n",
        "\n",
        "toc = time.time()\n",
        "print('Elapsed Time: '+ str(int(toc-tic)))\n",
        "\n",
        "print(model.get_params)\n",
        "filename = \"/content/drive/My Drive/Paper/UTKFace/ML/SeNet50/Gender/Untuned/RF.sav\"\n",
        "pickle.dump(model, open(filename, 'wb'))\n",
        "loaded_model = pickle.load(open(filename, 'rb'))\n",
        "result = loaded_model.score(X_test_scaled, y_test)\n",
        "print(result)"
      ],
      "execution_count": null,
      "outputs": [
        {
          "output_type": "stream",
          "text": [
            "ACCURACY : \n",
            "\n",
            "Train : 0.998681504140077\n",
            "Test : 0.929143821172501\n",
            "\n",
            " ROC_AUC_SCORE : \n",
            "\n",
            "Train : 0.9987093147566605\n",
            "Test : 0.9281262784574835\n",
            "Elapsed Time: 134\n",
            "<bound method BaseEstimator.get_params of RandomForestClassifier(bootstrap=True, ccp_alpha=0.0, class_weight='balanced',\n",
            "                       criterion='gini', max_depth=None, max_features='auto',\n",
            "                       max_leaf_nodes=None, max_samples=None,\n",
            "                       min_impurity_decrease=0.0, min_impurity_split=None,\n",
            "                       min_samples_leaf=1, min_samples_split=2,\n",
            "                       min_weight_fraction_leaf=0.0, n_estimators=100,\n",
            "                       n_jobs=None, oob_score=False, random_state=0, verbose=0,\n",
            "                       warm_start=False)>\n",
            "0.929143821172501\n"
          ],
          "name": "stdout"
        }
      ]
    },
    {
      "cell_type": "code",
      "metadata": {
        "id": "kFgeypt3Bysv"
      },
      "source": [
        "#@title Ada Boost\n",
        "\n",
        "from sklearn.ensemble import AdaBoostClassifier\n",
        "from sklearn.tree import DecisionTreeClassifier\n",
        "\n",
        "tic = time.time()\n",
        "dt = DecisionTreeClassifier(class_weight='balanced',random_state=0)\n",
        "model = AdaBoostClassifier(base_estimator=dt, random_state=0)\n",
        "model.fit(X_train,y_train)\n",
        "\n",
        "y_pred_train = model.predict(X_train)\n",
        "y_pred_test = model.predict(X_test)\n",
        "\n",
        "print('ACCURACY : \\n')\n",
        "print('Train : ' + str(accuracy_score(y_train,y_pred_train)))\n",
        "print('Test : ' + str(accuracy_score(y_test,y_pred_test)))\n",
        "\n",
        "print('\\n ROC_AUC_SCORE : \\n')\n",
        "print('Train : ' + str(roc_auc_score(y_train,y_pred_train)))\n",
        "print('Test : ' + str(roc_auc_score(y_test,y_pred_test)))\n",
        "\n",
        "toc = time.time()\n",
        "print('Elapsed Time: '+ str(int(toc-tic)))\n",
        "\n",
        "print(model.get_params)\n",
        "filename = \"/content/drive/My Drive/Paper/UTKFace/ML/SeNet50/Gender/Untuned/AdaBoost dt.sav\"\n",
        "pickle.dump(model, open(filename, 'wb'))\n",
        "loaded_model = pickle.load(open(filename, 'rb'))\n",
        "result = loaded_model.score(X_test_scaled, y_test)\n",
        "print(result)"
      ],
      "execution_count": null,
      "outputs": []
    },
    {
      "cell_type": "code",
      "metadata": {
        "id": "o3g4WtYhCwpE",
        "colab": {
          "base_uri": "https://localhost:8080/",
          "height": 374
        },
        "outputId": "e4d63855-c45b-482e-a064-ff5b703b6348"
      },
      "source": [
        "#@title Gradient Boosted Trees\n",
        "\n",
        "from sklearn.ensemble import GradientBoostingClassifier\n",
        "\n",
        "tic = time.time()\n",
        "model = GradientBoostingClassifier(random_state=0)\n",
        "model.fit(X_train,y_train)\n",
        "\n",
        "y_pred_train = model.predict(X_train)\n",
        "y_pred_test = model.predict(X_test)\n",
        "\n",
        "print('ACCURACY : \\n')\n",
        "print('Train : ' + str(accuracy_score(y_train,y_pred_train)))\n",
        "print('Test : ' + str(accuracy_score(y_test,y_pred_test)))\n",
        "\n",
        "print('\\n ROC_AUC_SCORE : \\n')\n",
        "print('Train : ' + str(roc_auc_score(y_train,y_pred_train)))\n",
        "print('Test : ' + str(roc_auc_score(y_test,y_pred_test)))\n",
        "\n",
        "toc = time.time()\n",
        "print('Elapsed Time: '+ str(int(toc-tic)))\n",
        "\n",
        "print(model.get_params)\n",
        "filename = \"/content/drive/My Drive/Paper/UTKFace/ML/SeNet50/Gender/Untuned/GBoost Clf.sav\"\n",
        "pickle.dump(model, open(filename, 'wb'))\n",
        "loaded_model = pickle.load(open(filename, 'rb'))\n",
        "result = loaded_model.score(X_test_scaled, y_test)\n",
        "print(result)"
      ],
      "execution_count": null,
      "outputs": [
        {
          "output_type": "stream",
          "text": [
            "ACCURACY : \n",
            "\n",
            "Train : 0.9514793523548336\n",
            "Test : 0.9337832138338253\n",
            "\n",
            " ROC_AUC_SCORE : \n",
            "\n",
            "Train : 0.9516039603629274\n",
            "Test : 0.9343808310134006\n",
            "Elapsed Time: 1475\n",
            "<bound method BaseEstimator.get_params of GradientBoostingClassifier(ccp_alpha=0.0, criterion='friedman_mse', init=None,\n",
            "                           learning_rate=0.1, loss='deviance', max_depth=3,\n",
            "                           max_features=None, max_leaf_nodes=None,\n",
            "                           min_impurity_decrease=0.0, min_impurity_split=None,\n",
            "                           min_samples_leaf=1, min_samples_split=2,\n",
            "                           min_weight_fraction_leaf=0.0, n_estimators=100,\n",
            "                           n_iter_no_change=None, presort='deprecated',\n",
            "                           random_state=0, subsample=1.0, tol=0.0001,\n",
            "                           validation_fraction=0.1, verbose=0,\n",
            "                           warm_start=False)>\n",
            "0.9337832138338253\n"
          ],
          "name": "stdout"
        }
      ]
    },
    {
      "cell_type": "code",
      "metadata": {
        "id": "SMZY3w-VDpvN",
        "colab": {
          "base_uri": "https://localhost:8080/",
          "height": 238
        },
        "outputId": "18efcb90-e4ad-4653-91d2-0b7d36e1268f"
      },
      "source": [
        "#@title LDA\n",
        "\n",
        "from sklearn.discriminant_analysis import LinearDiscriminantAnalysis\n",
        "\n",
        "tic= time.time()\n",
        "model = LinearDiscriminantAnalysis()\n",
        "model.fit(X_train,y_train)\n",
        "\n",
        "y_pred_train = model.predict(X_train)\n",
        "y_pred_test = model.predict(X_test)\n",
        "\n",
        "print('ACCURACY : \\n')\n",
        "print('Train : ' + str(accuracy_score(y_train,y_pred_train)))\n",
        "print('Test : ' + str(accuracy_score(y_test,y_pred_test)))\n",
        "\n",
        "print('\\n ROC_AUC_SCORE : \\n')\n",
        "print('Train : ' + str(roc_auc_score(y_train,y_pred_train)))\n",
        "print('Test : ' + str(roc_auc_score(y_test,y_pred_test)))\n",
        "\n",
        "toc = time.time()\n",
        "print('Elapsed Time: '+ str(int(toc-tic)))\n",
        "\n",
        "print(model.get_params)\n",
        "filename = \"/content/drive/My Drive/Paper/UTKFace/ML/SeNet50/Gender/Untuned/LDA.sav\"\n",
        "pickle.dump(model, open(filename, 'wb'))\n",
        "loaded_model = pickle.load(open(filename, 'rb'))\n",
        "result = loaded_model.score(X_test_scaled, y_test)\n",
        "print(result)"
      ],
      "execution_count": null,
      "outputs": [
        {
          "output_type": "stream",
          "text": [
            "ACCURACY : \n",
            "\n",
            "Train : 0.9530088075523443\n",
            "Test : 0.9439055250948967\n",
            "\n",
            " ROC_AUC_SCORE : \n",
            "\n",
            "Train : 0.9530873128147159\n",
            "Test : 0.9438979001580834\n",
            "Elapsed Time: 30\n",
            "<bound method BaseEstimator.get_params of LinearDiscriminantAnalysis(n_components=None, priors=None, shrinkage=None,\n",
            "                           solver='svd', store_covariance=False, tol=0.0001)>\n",
            "0.9439055250948967\n"
          ],
          "name": "stdout"
        }
      ]
    },
    {
      "cell_type": "code",
      "metadata": {
        "id": "KODg750oEcap",
        "colab": {
          "base_uri": "https://localhost:8080/",
          "height": 238
        },
        "outputId": "b1b58042-77a5-4b05-febd-92a43e9fbc51"
      },
      "source": [
        "#@title QDA\n",
        "\n",
        "from sklearn.discriminant_analysis import QuadraticDiscriminantAnalysis\n",
        "\n",
        "tic= time.time()\n",
        "model = QuadraticDiscriminantAnalysis()\n",
        "model.fit(X_train,y_train)\n",
        "\n",
        "y_pred_train = model.predict(X_train)\n",
        "y_pred_test = model.predict(X_test)\n",
        "\n",
        "print('ACCURACY : \\n')\n",
        "print('Train : ' + str(accuracy_score(y_train,y_pred_train)))\n",
        "print('Test : ' + str(accuracy_score(y_test,y_pred_test)))\n",
        "\n",
        "print('\\n ROC_AUC_SCORE : \\n')\n",
        "print('Train : ' + str(roc_auc_score(y_train,y_pred_train)))\n",
        "print('Test : ' + str(roc_auc_score(y_test,y_pred_test)))\n",
        "\n",
        "toc = time.time()\n",
        "print('Elapsed Time: '+ str(int(toc-tic)))\n",
        "\n",
        "print(model.get_params)\n",
        "filename = \"/content/drive/My Drive/Paper/UTKFace/ML/SeNet50/Gender/Untuned/QDA.sav\"\n",
        "pickle.dump(model, open(filename, 'wb'))\n",
        "loaded_model = pickle.load(open(filename, 'rb'))\n",
        "result = loaded_model.score(X_test_scaled, y_test)\n",
        "print(result)"
      ],
      "execution_count": null,
      "outputs": [
        {
          "output_type": "stream",
          "text": [
            "ACCURACY : \n",
            "\n",
            "Train : 0.9880280575918992\n",
            "Test : 0.9380008435259384\n",
            "\n",
            " ROC_AUC_SCORE : \n",
            "\n",
            "Train : 0.9882126752571516\n",
            "Test : 0.9383981275186057\n",
            "Elapsed Time: 35\n",
            "<bound method BaseEstimator.get_params of QuadraticDiscriminantAnalysis(priors=None, reg_param=0.0,\n",
            "                              store_covariance=False, tol=0.0001)>\n",
            "0.9380008435259384\n"
          ],
          "name": "stdout"
        }
      ]
    },
    {
      "cell_type": "code",
      "metadata": {
        "id": "Olg8sK-7EmtA",
        "colab": {
          "base_uri": "https://localhost:8080/",
          "height": 323
        },
        "outputId": "fa66165f-d1b3-4721-c54a-b0b188a24aee"
      },
      "source": [
        "#@title XGBOOST\n",
        "\n",
        "from xgboost import XGBClassifier\n",
        "from sklearn.metrics import accuracy_score, roc_auc_score\n",
        "\n",
        "tic = time.time()\n",
        "model = XGBClassifier(objective='binary:logistic',random_state=0,booster='gbtree',)\n",
        "model.fit(X_train, y_train)\n",
        "\n",
        "y_pred_train = model.predict(X_train)\n",
        "y_pred_test = model.predict(X_test)\n",
        "\n",
        "print('ACCURACY : \\n')\n",
        "print('Train : ' + str(accuracy_score(y_train,y_pred_train)))\n",
        "print('Test : ' + str(accuracy_score(y_test,y_pred_test)))\n",
        "\n",
        "print('\\n ROC_AUC_SCORE : \\n')\n",
        "print('Train : ' + str(roc_auc_score(y_train,y_pred_train)))\n",
        "print('Test : ' + str(roc_auc_score(y_test,y_pred_test)))\n",
        "\n",
        "toc = time.time()\n",
        "print('Elapsed Time: '+ str(int(toc-tic)))\n",
        "\n",
        "print(model.get_params)\n",
        "filename = \"/content/drive/My Drive/Paper/UTKFace/ML/SeNet50/Gender/Untuned/XGB.sav\"\n",
        "pickle.dump(model, open(filename, 'wb'))\n",
        "loaded_model = pickle.load(open(filename, 'rb'))\n",
        "result = loaded_model.score(X_test_scaled, y_test)\n",
        "print(result)"
      ],
      "execution_count": null,
      "outputs": [
        {
          "output_type": "stream",
          "text": [
            "ACCURACY : \n",
            "\n",
            "Train : 0.9502663361637045\n",
            "Test : 0.9380008435259384\n",
            "\n",
            " ROC_AUC_SCORE : \n",
            "\n",
            "Train : 0.9504049322270269\n",
            "Test : 0.9378104825317272\n",
            "Elapsed Time: 252\n",
            "<bound method XGBModel.get_params of XGBClassifier(base_score=0.5, booster='gbtree', colsample_bylevel=1,\n",
            "              colsample_bynode=1, colsample_bytree=1, gamma=0,\n",
            "              learning_rate=0.1, max_delta_step=0, max_depth=3,\n",
            "              min_child_weight=1, missing=None, n_estimators=100, n_jobs=1,\n",
            "              nthread=None, objective='binary:logistic', random_state=0,\n",
            "              reg_alpha=0, reg_lambda=1, scale_pos_weight=1, seed=None,\n",
            "              silent=None, subsample=1, verbosity=1)>\n",
            "0.9380008435259384\n"
          ],
          "name": "stdout"
        }
      ]
    }
  ]
}