{
  "nbformat": 4,
  "nbformat_minor": 0,
  "metadata": {
    "colab": {
      "name": "P-VGG16 - Gender.ipynb",
      "provenance": []
    },
    "kernelspec": {
      "name": "python3",
      "display_name": "Python 3"
    },
    "accelerator": "GPU"
  },
  "cells": [
    {
      "cell_type": "code",
      "metadata": {
        "id": "EcRD_xVhR54r"
      },
      "source": [
        "import numpy as np\n",
        "import matplotlib.pyplot as plt\n",
        "import pandas as pd\n",
        "import os\n",
        "import tensorflow as tf\n",
        "from keras.models import Sequential\n",
        "from keras.layers.core import Dense, Dropout, Flatten, Activation\n",
        "from keras.layers import Conv2D, MaxPooling2D,AlphaDropout,SeparableConv2D, SpatialDropout2D, MaxPooling2D\n",
        "from keras.datasets import cifar10\n",
        "from keras.utils import np_utils\n",
        "from keras.layers.normalization import BatchNormalization\n",
        "from keras.callbacks import EarlyStopping\n",
        "%matplotlib inline"
      ],
      "execution_count": null,
      "outputs": []
    },
    {
      "cell_type": "code",
      "metadata": {
        "id": "zldDlxBYRfyJ"
      },
      "source": [
        "#Loading Labels\n",
        "traindf = pd.read_excel('/content/drive/My Drive/Paper/UTKFace/traindf.xlsx')\n",
        "valdf = pd.read_excel('/content/drive/My Drive/Paper/UTKFace/valdf.xlsx')\n",
        "testdf = pd.read_excel('/content/drive/My Drive/Paper/UTKFace/testdf.xlsx')\n",
        "traindf.head()"
      ],
      "execution_count": null,
      "outputs": []
    },
    {
      "cell_type": "code",
      "metadata": {
        "id": "5y5NX5jnTRNu",
        "colab": {
          "base_uri": "https://localhost:8080/",
          "height": 68
        },
        "outputId": "f8893ad2-ca40-4fe4-b43c-331c707f8ed3"
      },
      "source": [
        "traindf['gender'].value_counts()"
      ],
      "execution_count": null,
      "outputs": [
        {
          "output_type": "execute_result",
          "data": {
            "text/plain": [
              "0    9900\n",
              "1    9061\n",
              "Name: gender, dtype: int64"
            ]
          },
          "metadata": {
            "tags": []
          },
          "execution_count": 4
        }
      ]
    },
    {
      "cell_type": "code",
      "metadata": {
        "id": "QshxX4bLR4p-",
        "colab": {
          "base_uri": "https://localhost:8080/",
          "height": 34
        },
        "outputId": "8c2e006d-3fc0-4786-eca0-42e93d891ae1"
      },
      "source": [
        "#Loading Features Extracted using ResNet50\n",
        "\n",
        "fx_train_res_pp= np.load('/content/drive/My Drive/Paper/UTKFace/fx_train_res_pp.npy')\n",
        "fx_val_res_pp = np.load('/content/drive/My Drive/Paper/UTKFace/fx_val_res_pp.npy')\n",
        "fx_test_res_pp = np.load('/content/drive/My Drive/Paper/UTKFace/fx_test_res_pp.npy')\n",
        "print(\"Loaded!\")"
      ],
      "execution_count": null,
      "outputs": [
        {
          "output_type": "stream",
          "text": [
            "Loaded!\n"
          ],
          "name": "stdout"
        }
      ]
    },
    {
      "cell_type": "code",
      "metadata": {
        "id": "8NJLp2rOD7KC"
      },
      "source": [
        "x_train= np.load('/content/drive/My Drive/Paper/UTKFace/x_train.npy')\n",
        "x_val = np.load('/content/drive/My Drive/Paper/UTKFace/x_val.npy')\n",
        "x_test = np.load('/content/drive/My Drive/Paper/UTKFace/x_test.npy')"
      ],
      "execution_count": null,
      "outputs": []
    },
    {
      "cell_type": "code",
      "metadata": {
        "id": "p5Bou53wENiS",
        "colab": {
          "base_uri": "https://localhost:8080/",
          "height": 34
        },
        "outputId": "c0213129-bf9f-4e95-fb8f-06edf22d5f42"
      },
      "source": [
        "!pip install git+https://github.com/rcmalli/keras-vggface.git -q"
      ],
      "execution_count": null,
      "outputs": [
        {
          "output_type": "stream",
          "text": [
            "  Building wheel for keras-vggface (setup.py) ... \u001b[?25l\u001b[?25hdone\n"
          ],
          "name": "stdout"
        }
      ]
    },
    {
      "cell_type": "code",
      "metadata": {
        "id": "5XCxAUt8Ez_-",
        "colab": {
          "base_uri": "https://localhost:8080/",
          "height": 51
        },
        "outputId": "240242e6-4e8a-4db9-c182-fe2a29fdea0a"
      },
      "source": [
        "from keras_vggface.vggface import VGGFace\n",
        "vgg16 = VGGFace(model='vgg16',include_top=False, input_shape=(200, 200, 3))"
      ],
      "execution_count": null,
      "outputs": [
        {
          "output_type": "stream",
          "text": [
            "Downloading data from https://github.com/rcmalli/keras-vggface/releases/download/v2.0/rcmalli_vggface_tf_notop_vgg16.h5\n",
            "58916864/58909280 [==============================] - 1s 0us/step\n"
          ],
          "name": "stdout"
        }
      ]
    },
    {
      "cell_type": "code",
      "metadata": {
        "id": "ANyArKGZE3zT"
      },
      "source": [
        "fx_train_vgg = vgg16.predict(x_train)\n",
        "fx_val_vgg = vgg16.predict(x_val)\n",
        "fx_test_vgg = vgg16.predict(x_test)"
      ],
      "execution_count": null,
      "outputs": []
    },
    {
      "cell_type": "code",
      "metadata": {
        "id": "dNSDxgsHJV58"
      },
      "source": [
        "np.save('/content/drive/My Drive/Paper/UTKFace/fx_train_vgg.npy',fx_train_vgg)\n",
        "np.save('/content/drive/My Drive/Paper/UTKFace/fx_val_vgg.npy',fx_val_vgg)\n",
        "np.save('/content/drive/My Drive/Paper/UTKFace/fx_test_vgg.npy',fx_test_vgg)"
      ],
      "execution_count": null,
      "outputs": []
    },
    {
      "cell_type": "markdown",
      "metadata": {
        "id": "p6Z_N296S2wB"
      },
      "source": [
        "Gender Classification Model"
      ]
    },
    {
      "cell_type": "code",
      "metadata": {
        "id": "fvAJCVmO-_gC",
        "colab": {
          "base_uri": "https://localhost:8080/",
          "height": 34
        },
        "outputId": "08e048c9-e05f-400f-e803-a22fc5588f93"
      },
      "source": [
        "from sklearn.utils import class_weight\n",
        "\n",
        "class_weights = class_weight.compute_class_weight('balanced',np.unique(traindf['gender'].values),traindf['gender'].values)\n",
        "class_weights"
      ],
      "execution_count": null,
      "outputs": [
        {
          "output_type": "execute_result",
          "data": {
            "text/plain": [
              "array([0.95762626, 1.04629732])"
            ]
          },
          "metadata": {
            "tags": []
          },
          "execution_count": 11
        }
      ]
    },
    {
      "cell_type": "code",
      "metadata": {
        "id": "suoED45HT4-t"
      },
      "source": [
        "print('Train : '+str(fx_train_vgg.shape))\n",
        "print('Val : '+str(fx_val_vgg.shape))\n",
        "print('Test : '+str(fx_test_vgg.shape))"
      ],
      "execution_count": null,
      "outputs": []
    },
    {
      "cell_type": "code",
      "metadata": {
        "id": "DQKplUBRSzBG"
      },
      "source": [
        "model = Sequential()\n",
        "\n",
        "model.add(BatchNormalization())\n",
        "model.add(SpatialDropout2D(0.5))\n",
        "model.add(SeparableConv2D(512,(3,3),padding='same'))\n",
        "model.add(MaxPooling2D((2,2)))\n",
        "\n",
        "model.add(BatchNormalization())\n",
        "model.add(SpatialDropout2D(0.5))\n",
        "model.add(SeparableConv2D(512,(3,3),padding='same'))\n",
        "model.add(MaxPooling2D((2,2)))\n",
        "\n",
        "model.add(Flatten())\n",
        "#model.add(BatchNormalization())\n",
        "#model.add(AlphaDropout(0.5))\n",
        "#model.add(Dense(1024,activation='relu',kernel_initializer='he_uniform'))\n",
        "\n",
        "#model.add(BatchNormalization())\n",
        "#model.add(AlphaDropout(0.5))\n",
        "#model.add(Dense(512,activation='relu',kernel_initializer='he_uniform'))\n",
        "\n",
        "model.add(BatchNormalization())\n",
        "model.add(AlphaDropout(0.5))\n",
        "model.add(Dense(128,activation='relu',kernel_initializer='he_uniform'))\n",
        "\n",
        "model.add(BatchNormalization())\n",
        "model.add(Dense(1,activation='sigmoid'))"
      ],
      "execution_count": null,
      "outputs": []
    },
    {
      "cell_type": "code",
      "metadata": {
        "id": "FBiqJIMd3oRU"
      },
      "source": [
        "sgd = tf.keras.optimizers.SGD(\n",
        "    learning_rate=1e-4, momentum=0, nesterov=False, name=\"SGD\")\n",
        "\n",
        "adam = tf.keras.optimizers.Adam(\n",
        "    learning_rate=1e-3,\n",
        "    amsgrad=True,)\n",
        "\n",
        "adamax = tf.keras.optimizers.Adamax(learning_rate=1e-4)\n",
        "\n",
        "model.compile(optimizer=adam,loss='binary_crossentropy',metrics=['accuracy'])"
      ],
      "execution_count": null,
      "outputs": []
    },
    {
      "cell_type": "code",
      "metadata": {
        "id": "noNCHAWuaGdB",
        "colab": {
          "base_uri": "https://localhost:8080/",
          "height": 34
        },
        "outputId": "8fb329f1-5db9-483a-c8dc-9134c0c6e99d"
      },
      "source": [
        "!pip install keras-adabound -q"
      ],
      "execution_count": null,
      "outputs": [
        {
          "output_type": "stream",
          "text": [
            "  Building wheel for keras-adabound (setup.py) ... \u001b[?25l\u001b[?25hdone\n"
          ],
          "name": "stdout"
        }
      ]
    },
    {
      "cell_type": "code",
      "metadata": {
        "id": "kgt8V6a_TgXP",
        "colab": {
          "base_uri": "https://localhost:8080/",
          "height": 391
        },
        "outputId": "1dee57ea-b145-40f1-8048-33b446d38b64"
      },
      "source": [
        "model.fit(fx_train_vgg,traindf['gender'].values,epochs=10, validation_data=(fx_val_vgg,valdf['gender'].values),class_weight=class_weights,batch_size=64)"
      ],
      "execution_count": null,
      "outputs": [
        {
          "output_type": "stream",
          "text": [
            "Train on 18961 samples, validate on 2370 samples\n",
            "Epoch 1/10\n",
            "18961/18961 [==============================] - 6s 327us/step - loss: 0.1772 - accuracy: 0.9270 - val_loss: 0.2969 - val_accuracy: 0.9295\n",
            "Epoch 2/10\n",
            "18961/18961 [==============================] - 6s 325us/step - loss: 0.1785 - accuracy: 0.9262 - val_loss: 0.2720 - val_accuracy: 0.9295\n",
            "Epoch 3/10\n",
            "18961/18961 [==============================] - 6s 316us/step - loss: 0.1768 - accuracy: 0.9264 - val_loss: 0.2747 - val_accuracy: 0.9278\n",
            "Epoch 4/10\n",
            "18961/18961 [==============================] - 6s 317us/step - loss: 0.1740 - accuracy: 0.9273 - val_loss: 0.2801 - val_accuracy: 0.9287\n",
            "Epoch 5/10\n",
            "18961/18961 [==============================] - 6s 317us/step - loss: 0.1712 - accuracy: 0.9299 - val_loss: 0.2742 - val_accuracy: 0.9278\n",
            "Epoch 6/10\n",
            "18961/18961 [==============================] - 6s 317us/step - loss: 0.1689 - accuracy: 0.9304 - val_loss: 0.2869 - val_accuracy: 0.9262\n",
            "Epoch 7/10\n",
            "18961/18961 [==============================] - 6s 316us/step - loss: 0.1690 - accuracy: 0.9312 - val_loss: 0.2889 - val_accuracy: 0.9241\n",
            "Epoch 8/10\n",
            "18961/18961 [==============================] - 6s 314us/step - loss: 0.1643 - accuracy: 0.9330 - val_loss: 0.2975 - val_accuracy: 0.9304\n",
            "Epoch 9/10\n",
            "18961/18961 [==============================] - 6s 315us/step - loss: 0.1638 - accuracy: 0.9337 - val_loss: 0.2725 - val_accuracy: 0.9316\n",
            "Epoch 10/10\n",
            "18961/18961 [==============================] - 6s 321us/step - loss: 0.1653 - accuracy: 0.9314 - val_loss: 0.2607 - val_accuracy: 0.9316\n"
          ],
          "name": "stdout"
        },
        {
          "output_type": "execute_result",
          "data": {
            "text/plain": [
              "<keras.callbacks.callbacks.History at 0x7f3d4d4ae0b8>"
            ]
          },
          "metadata": {
            "tags": []
          },
          "execution_count": 119
        }
      ]
    },
    {
      "cell_type": "code",
      "metadata": {
        "id": "nZ9Bx6gsRLiT",
        "colab": {
          "base_uri": "https://localhost:8080/",
          "height": 51
        },
        "outputId": "9993b701-38d2-4e9d-c014-256e4649e39a"
      },
      "source": [
        "model.evaluate(fx_test_vgg,testdf['gender'].values)"
      ],
      "execution_count": null,
      "outputs": [
        {
          "output_type": "stream",
          "text": [
            "2371/2371 [==============================] - 1s 214us/step\n"
          ],
          "name": "stdout"
        },
        {
          "output_type": "execute_result",
          "data": {
            "text/plain": [
              "[0.28907131426993077, 0.9342049956321716]"
            ]
          },
          "metadata": {
            "tags": []
          },
          "execution_count": 120
        }
      ]
    },
    {
      "cell_type": "code",
      "metadata": {
        "id": "29azKfjq9S3D"
      },
      "source": [
        "model.save('/content/drive/My Drive/Paper/UTKFace/Gender/VGG16/model.h5')"
      ],
      "execution_count": null,
      "outputs": []
    },
    {
      "cell_type": "code",
      "metadata": {
        "id": "IgmfSOajSkQ3"
      },
      "source": [
        "model.predict(fx_test_vgg).shape"
      ],
      "execution_count": null,
      "outputs": []
    },
    {
      "cell_type": "markdown",
      "metadata": {
        "id": "sH8ACGyRg-ox"
      },
      "source": [
        "Ensemble"
      ]
    },
    {
      "cell_type": "code",
      "metadata": {
        "id": "j-2O-OdfRmNS"
      },
      "source": [
        "from keras.models import load_model\n",
        "\n",
        "G_res = load_model('/content/drive/My Drive/Paper/UTKFace/Gender/ResNet50/9464.h5')\n",
        "G_res.compile(\"Adam\",\"binary_crossentropy\",['acc'])\n",
        "\n",
        "G_sen = load_model('/content/drive/My Drive/Paper/UTKFace/Gender/SeNet50/9494.h5')\n",
        "G_sen.compile(\"Adam\",\"binary_crossentropy\",['acc'])\n",
        "\n",
        "G_vgg = load_model('/content/drive/My Drive/Paper/UTKFace/Gender/VGG16/9367.h5')\n",
        "G_vgg.compile(\"Adam\",\"binary_crossentropy\",['acc'])"
      ],
      "execution_count": null,
      "outputs": []
    },
    {
      "cell_type": "code",
      "metadata": {
        "id": "OCygaZdnh5Yd"
      },
      "source": [
        "fx_test_res_e = np.load('/content/drive/My Drive/Paper/UTKFace/fx_test_res.npy')\n",
        "fx_test_sen_e = np.load('/content/drive/My Drive/Paper/UTKFace/fx_test_sen.npy')\n",
        "fx_test_vgg_e = np.load('/content/drive/My Drive/Paper/UTKFace/fx_test_vgg.npy')"
      ],
      "execution_count": null,
      "outputs": []
    },
    {
      "cell_type": "code",
      "metadata": {
        "id": "tnFixrE4MrTc"
      },
      "source": [
        "pred_res = G_res.predict(fx_test_res_e)\n",
        "pred_sen = G_sen.predict(fx_test_sen_e)\n",
        "pred_vgg = G_vgg.predict(fx_test_vgg_e)"
      ],
      "execution_count": null,
      "outputs": []
    },
    {
      "cell_type": "code",
      "metadata": {
        "id": "JtYxgkQLkHez"
      },
      "source": [
        "pred_res.shape, pred_sen.shape, pred_vgg.shape"
      ],
      "execution_count": null,
      "outputs": []
    },
    {
      "cell_type": "code",
      "metadata": {
        "id": "7pqA3cp9kMXO"
      },
      "source": [
        "pred_res[:5]"
      ],
      "execution_count": null,
      "outputs": []
    },
    {
      "cell_type": "code",
      "metadata": {
        "id": "wqhzBfOBkQkR"
      },
      "source": [
        "pred_sen[:5]"
      ],
      "execution_count": null,
      "outputs": []
    },
    {
      "cell_type": "code",
      "metadata": {
        "id": "GGUcVJK1kSgP"
      },
      "source": [
        "pred_vgg[:5]"
      ],
      "execution_count": null,
      "outputs": []
    },
    {
      "cell_type": "code",
      "metadata": {
        "id": "93WO1H3hkWDp"
      },
      "source": [
        "y_pred = (pred_res+pred_sen+pred_vgg)/3"
      ],
      "execution_count": null,
      "outputs": []
    },
    {
      "cell_type": "code",
      "metadata": {
        "id": "l4C7eUx6kg1r",
        "colab": {
          "base_uri": "https://localhost:8080/",
          "height": 170
        },
        "outputId": "91b56a06-40d4-4ee9-99e8-fbd1e65633db"
      },
      "source": [
        "from sklearn.metrics import classification_report\n",
        "report = classification_report(testdf['gender'].values,y_pred.round())\n",
        "print(report)"
      ],
      "execution_count": null,
      "outputs": [
        {
          "output_type": "stream",
          "text": [
            "              precision    recall  f1-score   support\n",
            "\n",
            "           0       0.94      0.96      0.95      1234\n",
            "           1       0.95      0.94      0.95      1137\n",
            "\n",
            "    accuracy                           0.95      2371\n",
            "   macro avg       0.95      0.95      0.95      2371\n",
            "weighted avg       0.95      0.95      0.95      2371\n",
            "\n"
          ],
          "name": "stdout"
        }
      ]
    },
    {
      "cell_type": "code",
      "metadata": {
        "id": "kGxOADvNk5jP",
        "colab": {
          "base_uri": "https://localhost:8080/",
          "height": 119
        },
        "outputId": "bc6c72e0-e8f8-41e1-85a1-42b6a8123a2c"
      },
      "source": [
        "from sklearn.metrics import roc_auc_score\n",
        "\n",
        "auc_vgg = roc_auc_score(testdf['gender'].values,pred_vgg.round())\n",
        "auc_res = roc_auc_score(testdf['gender'].values,pred_res.round())\n",
        "auc_sen = roc_auc_score(testdf['gender'].values,pred_sen.round())\n",
        "auc_en = roc_auc_score(testdf['gender'].values,y_pred.round())\n",
        "print('ROC_AUC_SCORE : \\n')\n",
        "print('ResNet50: ',auc_res)\n",
        "print('SeNet50: ',auc_sen)\n",
        "print('VGG16: ',auc_vgg)\n",
        "print('Ensemble: ',auc_en)"
      ],
      "execution_count": null,
      "outputs": [
        {
          "output_type": "stream",
          "text": [
            "ROC_AUC_SCORE : \n",
            "\n",
            "ResNet50:  0.9465709899376933\n",
            "SeNet50:  0.9491653231726701\n",
            "VGG16:  0.9361109804441441\n",
            "Ensemble:  0.9477423599024417\n"
          ],
          "name": "stdout"
        }
      ]
    },
    {
      "cell_type": "code",
      "metadata": {
        "id": "LzLfnd7sl4Wt",
        "colab": {
          "base_uri": "https://localhost:8080/",
          "height": 119
        },
        "outputId": "8fad940c-5a31-4bfb-9ed2-cfdb06ba6291"
      },
      "source": [
        "from sklearn.metrics import accuracy_score \n",
        "\n",
        "acc_vgg = accuracy_score(testdf['gender'].values,pred_vgg.round())\n",
        "acc_res = accuracy_score(testdf['gender'].values,pred_res.round())\n",
        "acc_sen = accuracy_score(testdf['gender'].values,pred_sen.round())\n",
        "acc_en = accuracy_score(testdf['gender'].values,y_pred.round())\n",
        "print('ACCURACY_SCORE : \\n')\n",
        "print('ResNet50: ',acc_res)\n",
        "print('SeNet50: ',acc_sen)\n",
        "print('VGG16: ',acc_vgg)\n",
        "print('Ensemble: ',acc_en)"
      ],
      "execution_count": null,
      "outputs": [
        {
          "output_type": "stream",
          "text": [
            "ACCURACY_SCORE : \n",
            "\n",
            "ResNet50:  0.9464361029101644\n",
            "SeNet50:  0.9493884436946436\n",
            "VGG16:  0.9367355546183045\n",
            "Ensemble:  0.9481231547870097\n"
          ],
          "name": "stdout"
        }
      ]
    },
    {
      "cell_type": "code",
      "metadata": {
        "id": "Zk817cMXlIze"
      },
      "source": [
        ""
      ],
      "execution_count": null,
      "outputs": []
    }
  ]
}