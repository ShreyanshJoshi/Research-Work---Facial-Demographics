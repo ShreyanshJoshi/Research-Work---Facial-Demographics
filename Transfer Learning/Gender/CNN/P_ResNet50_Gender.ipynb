{
  "nbformat": 4,
  "nbformat_minor": 0,
  "metadata": {
    "colab": {
      "name": "P-ResNet50 - Gender.ipynb",
      "provenance": [],
      "collapsed_sections": []
    },
    "kernelspec": {
      "name": "python3",
      "display_name": "Python 3"
    },
    "accelerator": "GPU"
  },
  "cells": [
    {
      "cell_type": "code",
      "metadata": {
        "id": "EcRD_xVhR54r"
      },
      "source": [
        "import numpy as np\n",
        "import matplotlib.pyplot as plt\n",
        "import pandas as pd\n",
        "import os\n",
        "import tensorflow as tf\n",
        "from keras.models import Sequential\n",
        "from keras.layers.core import Dense, Dropout, Flatten, Activation\n",
        "from keras.layers import Conv2D, MaxPooling2D\n",
        "from keras.datasets import cifar10\n",
        "from keras.utils import np_utils\n",
        "from keras.layers.normalization import BatchNormalization\n",
        "from keras.callbacks import EarlyStopping\n",
        "%matplotlib inline"
      ],
      "execution_count": null,
      "outputs": []
    },
    {
      "cell_type": "code",
      "metadata": {
        "id": "zldDlxBYRfyJ"
      },
      "source": [
        "#Loading Labels\n",
        "traindf = pd.read_excel('/content/drive/My Drive/Paper/UTKFace/traindf.xlsx')\n",
        "valdf = pd.read_excel('/content/drive/My Drive/Paper/UTKFace/valdf.xlsx')\n",
        "testdf = pd.read_excel('/content/drive/My Drive/Paper/UTKFace/testdf.xlsx')\n",
        "traindf.head()"
      ],
      "execution_count": null,
      "outputs": []
    },
    {
      "cell_type": "code",
      "metadata": {
        "id": "5y5NX5jnTRNu"
      },
      "source": [
        "traindf['gender'].value_counts()"
      ],
      "execution_count": null,
      "outputs": []
    },
    {
      "cell_type": "code",
      "metadata": {
        "id": "QshxX4bLR4p-",
        "colab": {
          "base_uri": "https://localhost:8080/",
          "height": 34
        },
        "outputId": "8c2e006d-3fc0-4786-eca0-42e93d891ae1"
      },
      "source": [
        "#Loading Features Extracted using ResNet50\n",
        "\n",
        "fx_train_res_pp= np.load('/content/drive/My Drive/Paper/UTKFace/fx_train_res_pp.npy')\n",
        "fx_val_res_pp = np.load('/content/drive/My Drive/Paper/UTKFace/fx_val_res_pp.npy')\n",
        "fx_test_res_pp = np.load('/content/drive/My Drive/Paper/UTKFace/fx_test_res_pp.npy')\n",
        "print(\"Loaded!\")"
      ],
      "execution_count": null,
      "outputs": [
        {
          "output_type": "stream",
          "text": [
            "Loaded!\n"
          ],
          "name": "stdout"
        }
      ]
    },
    {
      "cell_type": "code",
      "metadata": {
        "id": "8NJLp2rOD7KC"
      },
      "source": [
        "x_train= np.load('/content/drive/My Drive/Paper/UTKFace/x_train.npy')\n",
        "x_val = np.load('/content/drive/My Drive/Paper/UTKFace/x_val.npy')\n",
        "x_test = np.load('/content/drive/My Drive/Paper/UTKFace/x_test.npy')"
      ],
      "execution_count": null,
      "outputs": []
    },
    {
      "cell_type": "code",
      "metadata": {
        "id": "p5Bou53wENiS",
        "colab": {
          "base_uri": "https://localhost:8080/",
          "height": 34
        },
        "outputId": "ba10372a-6126-4638-cf81-5770618938ea"
      },
      "source": [
        "!pip install git+https://github.com/rcmalli/keras-vggface.git -q"
      ],
      "execution_count": null,
      "outputs": [
        {
          "output_type": "stream",
          "text": [
            "  Building wheel for keras-vggface (setup.py) ... \u001b[?25l\u001b[?25hdone\n"
          ],
          "name": "stdout"
        }
      ]
    },
    {
      "cell_type": "code",
      "metadata": {
        "id": "5XCxAUt8Ez_-",
        "colab": {
          "base_uri": "https://localhost:8080/",
          "height": 51
        },
        "outputId": "12b375b0-edb6-4c69-910d-0803f0f61efe"
      },
      "source": [
        "from keras_vggface.vggface import VGGFace\n",
        "res = VGGFace(model='resnet50',include_top=False, input_shape=(200, 200, 3))"
      ],
      "execution_count": null,
      "outputs": [
        {
          "output_type": "stream",
          "text": [
            "Downloading data from https://github.com/rcmalli/keras-vggface/releases/download/v2.0/rcmalli_vggface_tf_notop_resnet50.h5\n",
            "94699520/94694792 [==============================] - 9s 0us/step\n"
          ],
          "name": "stdout"
        }
      ]
    },
    {
      "cell_type": "code",
      "metadata": {
        "id": "ANyArKGZE3zT"
      },
      "source": [
        "fx_train_res = res.predict(x_train)\n",
        "fx_val_res = res.predict(x_val)\n",
        "fx_test_res = res.predict(x_test)"
      ],
      "execution_count": null,
      "outputs": []
    },
    {
      "cell_type": "code",
      "metadata": {
        "id": "dNSDxgsHJV58"
      },
      "source": [
        "np.save('/content/drive/My Drive/Paper/UTKFace/fx_train_res.npy',fx_train_res)\n",
        "np.save('/content/drive/My Drive/Paper/UTKFace/fx_val_res.npy',fx_val_res)\n",
        "np.save('/content/drive/My Drive/Paper/UTKFace/fx_test_res.npy',fx_test_res)"
      ],
      "execution_count": null,
      "outputs": []
    },
    {
      "cell_type": "markdown",
      "metadata": {
        "id": "p6Z_N296S2wB"
      },
      "source": [
        "Gender Classification Model"
      ]
    },
    {
      "cell_type": "code",
      "metadata": {
        "id": "fvAJCVmO-_gC"
      },
      "source": [
        "from sklearn.utils import class_weight\n",
        "\n",
        "class_weights = class_weight.compute_class_weight('balanced',np.unique(traindf['gender'].values),traindf['gender'].values)\n",
        "class_weights"
      ],
      "execution_count": null,
      "outputs": []
    },
    {
      "cell_type": "code",
      "metadata": {
        "id": "suoED45HT4-t"
      },
      "source": [
        "print('Train : '+str(fx_train_res.shape))\n",
        "print('Val : '+str(fx_val_res.shape))\n",
        "print('Test : '+str(fx_test_res.shape))"
      ],
      "execution_count": null,
      "outputs": []
    },
    {
      "cell_type": "code",
      "metadata": {
        "id": "DQKplUBRSzBG"
      },
      "source": [
        "model = Sequential()\n",
        "\n",
        "model.add(Flatten())\n",
        "model.add(BatchNormalization())\n",
        "model.add(Dropout(0.5))\n",
        "model.add(Dense(128,activation='elu',kernel_initializer='he_uniform',kernel_constraint=tf.keras.constraints.max_norm(3)))\n",
        "model.add(Dense(1,activation='sigmoid'))"
      ],
      "execution_count": null,
      "outputs": []
    },
    {
      "cell_type": "code",
      "metadata": {
        "id": "FBiqJIMd3oRU"
      },
      "source": [
        "sgd = tf.keras.optimizers.SGD(\n",
        "    learning_rate=1e-4, momentum=0, nesterov=False, name=\"SGD\")\n",
        "\n",
        "adam = tf.keras.optimizers.Adam(\n",
        "    learning_rate=1e-5,\n",
        "    amsgrad=False,)\n",
        "\n",
        "adamax = tf.keras.optimizers.Adamax(learning_rate=5e-5)\n",
        "\n",
        "model.compile(optimizer=adam,loss='binary_crossentropy',metrics=['accuracy'])"
      ],
      "execution_count": null,
      "outputs": []
    },
    {
      "cell_type": "code",
      "metadata": {
        "id": "kgt8V6a_TgXP"
      },
      "source": [
        "model.fit(fx_train_res,traindf['gender'].values,epochs=2, validation_data=(fx_val_res,valdf['gender'].values),class_weight=class_weights,batch_size=128)"
      ],
      "execution_count": null,
      "outputs": []
    },
    {
      "cell_type": "code",
      "metadata": {
        "id": "nZ9Bx6gsRLiT"
      },
      "source": [
        "model.evaluate(fx_test_res,testdf['gender'].values)"
      ],
      "execution_count": null,
      "outputs": []
    },
    {
      "cell_type": "code",
      "metadata": {
        "id": "29azKfjq9S3D"
      },
      "source": [
        "model.save('/content/drive/My Drive/Paper/UTKFace/Gender/ResNet50/model.h5')"
      ],
      "execution_count": null,
      "outputs": []
    }
  ]
}