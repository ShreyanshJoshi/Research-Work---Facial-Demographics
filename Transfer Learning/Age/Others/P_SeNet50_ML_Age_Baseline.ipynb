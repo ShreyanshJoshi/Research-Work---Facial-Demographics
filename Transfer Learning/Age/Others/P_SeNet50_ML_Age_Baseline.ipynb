{
  "nbformat": 4,
  "nbformat_minor": 0,
  "metadata": {
    "colab": {
      "name": "P-SeNet50 - ML- Age- Baseline.ipynb",
      "provenance": [],
      "collapsed_sections": []
    },
    "kernelspec": {
      "name": "python3",
      "display_name": "Python 3"
    },
    "accelerator": "GPU"
  },
  "cells": [
    {
      "cell_type": "code",
      "metadata": {
        "id": "EcRD_xVhR54r"
      },
      "source": [
        "import numpy as np\n",
        "import matplotlib.pyplot as plt\n",
        "import pandas as pd\n",
        "import os\n",
        "import pickle\n",
        "from sklearn.model_selection import GridSearchCV\n",
        "from sklearn.metrics import accuracy_score, roc_auc_score\n",
        "import time\n",
        "from sklearn.metrics import mean_absolute_error,mean_squared_error\n",
        "%matplotlib inline"
      ],
      "execution_count": null,
      "outputs": []
    },
    {
      "cell_type": "code",
      "metadata": {
        "id": "zldDlxBYRfyJ"
      },
      "source": [
        "#Loading Labels\n",
        "traindf = pd.read_excel('/content/drive/My Drive/Paper/UTKFace/traindf.xlsx')\n",
        "valdf = pd.read_excel('/content/drive/My Drive/Paper/UTKFace/valdf.xlsx')\n",
        "testdf = pd.read_excel('/content/drive/My Drive/Paper/UTKFace/testdf.xlsx')\n",
        "traindf.head()"
      ],
      "execution_count": null,
      "outputs": []
    },
    {
      "cell_type": "code",
      "metadata": {
        "id": "FUibcw8_zoHv"
      },
      "source": [
        "X_train = np.load('/content/drive/My Drive/Paper/UTKFace/ML/SeNet50/X_train.npy')\n",
        "X_val = np.load('/content/drive/My Drive/Paper/UTKFace/ML/SeNet50/X_val.npy')\n",
        "X_test = np.load('/content/drive/My Drive/Paper/UTKFace/ML/SeNet50/X_test.npy')"
      ],
      "execution_count": null,
      "outputs": []
    },
    {
      "cell_type": "code",
      "metadata": {
        "id": "ctiZtknJz7nD"
      },
      "source": [
        "def scale(X):\n",
        "  mean = X.mean(axis=0)\n",
        "  std = X.std(axis=0)\n",
        "  X-=mean\n",
        "  X/=std\n",
        "  return X"
      ],
      "execution_count": null,
      "outputs": []
    },
    {
      "cell_type": "code",
      "metadata": {
        "id": "CqtcTdZVzl-5"
      },
      "source": [
        "X_train_scaled = scale(X_train)\n",
        "X_val_scaled = scale(X_val)\n",
        "X_test_scaled = scale(X_test)"
      ],
      "execution_count": null,
      "outputs": []
    },
    {
      "cell_type": "code",
      "metadata": {
        "id": "O5_ibC810_1t"
      },
      "source": [
        "y_train = traindf['age'].values\n",
        "y_val = valdf['age'].values\n",
        "y_test = testdf['age'].values"
      ],
      "execution_count": null,
      "outputs": []
    },
    {
      "cell_type": "markdown",
      "metadata": {
        "id": "p6Z_N296S2wB"
      },
      "source": [
        "Gender ML Models\n"
      ]
    },
    {
      "cell_type": "code",
      "metadata": {
        "id": "omHIHCg_vueV"
      },
      "source": [
        "#@title Installing hypopt\n",
        "!pip install hypopt -q\n"
      ],
      "execution_count": null,
      "outputs": []
    },
    {
      "cell_type": "code",
      "metadata": {
        "id": "fu5loBscx9WE",
        "colab": {
          "base_uri": "https://localhost:8080/",
          "height": 187
        },
        "outputId": "970e0263-33de-4c89-e6e9-c08fa8fd3391"
      },
      "source": [
        "#@title Linear Regression --- Baseline\n",
        "\n",
        "from sklearn.linear_model import LinearRegression\n",
        "from sklearn.metrics import mean_absolute_error\n",
        "\n",
        "model = LinearRegression(normalize=True)\n",
        "model.fit(X_train,y_train)\n",
        "\n",
        "y_pred_train = model.predict(X_train)\n",
        "y_pred_test = model.predict(X_test)\n",
        "\n",
        "print('MAE : \\n')\n",
        "print('Train : ' + str(mean_absolute_error(y_train,y_pred_train)))\n",
        "print('Test : ' + str(mean_absolute_error(y_test,y_pred_test)))\n",
        "\n",
        "print('Loss : \\n')\n",
        "print('Train : ' + str(mean_squared_error(y_train,y_pred_train)))\n",
        "print('Test : ' + str(mean_squared_error(y_test,y_pred_test)))\n",
        "\n",
        "\n",
        "print(model.get_params)\n",
        "filename = \"/content/drive/My Drive/Paper/UTKFace/ML/SeNet50/Age/LR.sav\"\n",
        "pickle.dump(model, open(filename, 'wb'))\n",
        "loaded_model = pickle.load(open(filename, 'rb'))\n",
        "result = loaded_model.score(X_test_scaled, y_test)\n",
        "print(result)"
      ],
      "execution_count": null,
      "outputs": [
        {
          "output_type": "stream",
          "text": [
            "MAE : \n",
            "\n",
            "Train : 4.933252584568955\n",
            "Test : 5.610466284170678\n",
            "Loss : \n",
            "\n",
            "Train : 44.177113083619126\n",
            "Test : 54.97710102989039\n",
            "<bound method BaseEstimator.get_params of LinearRegression(copy_X=True, fit_intercept=True, n_jobs=None, normalize=True)>\n",
            "0.8507123674419581\n"
          ],
          "name": "stdout"
        }
      ]
    },
    {
      "cell_type": "code",
      "metadata": {
        "id": "DQKplUBRSzBG",
        "colab": {
          "base_uri": "https://localhost:8080/",
          "height": 289
        },
        "outputId": "1f237647-4761-4d1e-962d-d2db26004579"
      },
      "source": [
        "#@title Linear SVR --- Baseline\n",
        "\n",
        "from sklearn.svm import LinearSVR\n",
        "\n",
        "tic = time.time()\n",
        "model = LinearSVR(random_state=0)\n",
        "model.fit(X_train_scaled,y_train)\n",
        "\n",
        "toc = time.time()\n",
        "y_pred_train = model.predict(X_train_scaled)\n",
        "y_pred_test = model.predict(X_test_scaled)\n",
        "\n",
        "print('MAE : \\n')\n",
        "print('Train : ' + str(mean_absolute_error(y_train,y_pred_train)))\n",
        "print('Test : ' + str(mean_absolute_error(y_test,y_pred_test)))\n",
        "\n",
        "print('Loss : \\n')\n",
        "print('Train : ' + str(mean_squared_error(y_train,y_pred_train)))\n",
        "print('Test : ' + str(mean_squared_error(y_test,y_pred_test)))\n",
        "\n",
        "print('\\n Time : '+str(int(toc-tic)))\n",
        "\n",
        "print(model.get_params)\n",
        "filename = \"/content/drive/My Drive/Paper/UTKFace/ML/SeNet50/Age/Untuned/Linear SVR.sav\"\n",
        "pickle.dump(model, open(filename, 'wb'))\n",
        "loaded_model = pickle.load(open(filename, 'rb'))\n",
        "result = loaded_model.score(X_test_scaled, y_test)\n",
        "print(result)"
      ],
      "execution_count": null,
      "outputs": [
        {
          "output_type": "stream",
          "text": [
            "MAE : \n",
            "\n",
            "Train : 4.847638457889041\n",
            "Test : 5.577168755191247\n",
            "Loss : \n",
            "\n",
            "Train : 49.14231269738753\n",
            "Test : 54.9335013638218\n",
            "\n",
            " Time : 89\n",
            "<bound method BaseEstimator.get_params of LinearSVR(C=1.0, dual=True, epsilon=0.0, fit_intercept=True,\n",
            "          intercept_scaling=1.0, loss='epsilon_insensitive', max_iter=1000,\n",
            "          random_state=0, tol=0.0001, verbose=0)>\n",
            "0.8508307602055954\n"
          ],
          "name": "stdout"
        },
        {
          "output_type": "stream",
          "text": [
            "/usr/local/lib/python3.6/dist-packages/sklearn/svm/_base.py:947: ConvergenceWarning: Liblinear failed to converge, increase the number of iterations.\n",
            "  \"the number of iterations.\", ConvergenceWarning)\n"
          ],
          "name": "stderr"
        }
      ]
    },
    {
      "cell_type": "code",
      "metadata": {
        "id": "Zk817cMXlIze",
        "colab": {
          "base_uri": "https://localhost:8080/",
          "height": 238
        },
        "outputId": "c35890fa-95ce-45d3-fba8-a5be63d17933"
      },
      "source": [
        "#@title SVR --- Baseline\n",
        "\n",
        "from sklearn.svm import SVR\n",
        "\n",
        "tic = time.time()\n",
        "model = SVR()\n",
        "model.fit(X_train_scaled,y_train)\n",
        "\n",
        "toc = time.time()\n",
        "y_pred_train = model.predict(X_train_scaled)\n",
        "y_pred_test = model.predict(X_test_scaled)\n",
        "\n",
        "print('MAE : \\n')\n",
        "print('Train : ' + str(mean_absolute_error(y_train,y_pred_train)))\n",
        "print('Test : ' + str(mean_absolute_error(y_test,y_pred_test)))\n",
        "\n",
        "print('Loss : \\n')\n",
        "print('Train : ' + str(mean_squared_error(y_train,y_pred_train)))\n",
        "print('Test : ' + str(mean_squared_error(y_test,y_pred_test)))\n",
        "\n",
        "print('\\n Time : '+str(int(toc-tic)))\n",
        "\n",
        "print(model.get_params)\n",
        "filename = \"/content/drive/My Drive/Paper/UTKFace/ML/SeNet50/Age/Untuned/SVR.sav\"\n",
        "pickle.dump(model, open(filename, 'wb'))\n",
        "loaded_model = pickle.load(open(filename, 'rb'))\n",
        "result = loaded_model.score(X_test_scaled, y_test)\n",
        "print(result)"
      ],
      "execution_count": null,
      "outputs": [
        {
          "output_type": "stream",
          "text": [
            "MAE : \n",
            "\n",
            "Train : 4.853982449574005\n",
            "Test : 5.49109775442805\n",
            "Loss : \n",
            "\n",
            "Train : 51.28689394196117\n",
            "Test : 56.001306304658556\n",
            "\n",
            " Time : 963\n",
            "<bound method BaseEstimator.get_params of SVR(C=1.0, cache_size=200, coef0=0.0, degree=3, epsilon=0.1, gamma='scale',\n",
            "    kernel='rbf', max_iter=-1, shrinking=True, tol=0.001, verbose=False)>\n",
            "0.8479311880443674\n"
          ],
          "name": "stdout"
        }
      ]
    },
    {
      "cell_type": "code",
      "metadata": {
        "id": "KCwqaOFOtHL0",
        "colab": {
          "base_uri": "https://localhost:8080/",
          "height": 306
        },
        "outputId": "c8bfa078-1c1b-4d5c-b4cd-29b8c560dcd2"
      },
      "source": [
        "#@title Decision Tree --- Baseline\n",
        "\n",
        "from sklearn.tree import DecisionTreeRegressor\n",
        "from sklearn.metrics import accuracy_score, roc_auc_score\n",
        "\n",
        "tic = time.time()\n",
        "model = DecisionTreeRegressor(random_state=0)\n",
        "model.fit(X_train,y_train)\n",
        "\n",
        "toc = time.time()\n",
        "\n",
        "y_pred_train = model.predict(X_train)\n",
        "y_pred_test = model.predict(X_test)\n",
        "\n",
        "print('MAE : \\n')\n",
        "print('Train : ' + str(mean_absolute_error(y_train,y_pred_train)))\n",
        "print('Test : ' + str(mean_absolute_error(y_test,y_pred_test)))\n",
        "\n",
        "print('Loss : \\n')\n",
        "print('Train : ' + str(mean_squared_error(y_train,y_pred_train)))\n",
        "print('Test : ' + str(mean_squared_error(y_test,y_pred_test)))\n",
        "\n",
        "print('\\n Time : '+str(int(toc-tic)))\n",
        "\n",
        "print(model.get_params)\n",
        "filename = \"/content/drive/My Drive/Paper/UTKFace/ML/SeNet50/Age/Untuned/DTree.sav\"\n",
        "pickle.dump(model, open(filename, 'wb'))\n",
        "loaded_model = pickle.load(open(filename, 'rb'))\n",
        "result = loaded_model.score(X_test_scaled, y_test)\n",
        "print(result)"
      ],
      "execution_count": null,
      "outputs": [
        {
          "output_type": "stream",
          "text": [
            "MAE : \n",
            "\n",
            "Train : 0.04751859079162491\n",
            "Test : 9.862083509067904\n",
            "Loss : \n",
            "\n",
            "Train : 0.35429741750610905\n",
            "Test : 211.28679881906368\n",
            "\n",
            " Time : 64\n",
            "<bound method BaseEstimator.get_params of DecisionTreeRegressor(ccp_alpha=0.0, criterion='mse', max_depth=None,\n",
            "                      max_features=None, max_leaf_nodes=None,\n",
            "                      min_impurity_decrease=0.0, min_impurity_split=None,\n",
            "                      min_samples_leaf=1, min_samples_split=2,\n",
            "                      min_weight_fraction_leaf=0.0, presort='deprecated',\n",
            "                      random_state=0, splitter='best')>\n",
            "0.4262610178496678\n"
          ],
          "name": "stdout"
        }
      ]
    },
    {
      "cell_type": "code",
      "metadata": {
        "id": "kxcKz-iry4-3",
        "colab": {
          "base_uri": "https://localhost:8080/",
          "height": 306
        },
        "outputId": "371598ed-ead7-44c7-bfd9-a0ce850139a6"
      },
      "source": [
        "#@title BaggingRegressor - LR --- Baseline\n",
        "\n",
        "from sklearn.ensemble import BaggingRegressor\n",
        "from sklearn.linear_model import LinearRegression\n",
        "from sklearn.metrics import accuracy_score, roc_auc_score\n",
        "\n",
        "tic = time.time()\n",
        "lr = LinearRegression()\n",
        "model = BaggingRegressor(base_estimator=lr, random_state=0)\n",
        "model.fit(X_train_scaled,y_train)\n",
        "\n",
        "toc= time.time()\n",
        "\n",
        "y_pred_train = model.predict(X_train_scaled)\n",
        "y_pred_test = model.predict(X_test_scaled)\n",
        "\n",
        "print('MAE : \\n')\n",
        "print('Train : ' + str(mean_absolute_error(y_train,y_pred_train)))\n",
        "print('Test : ' + str(mean_absolute_error(y_test,y_pred_test)))\n",
        "\n",
        "print('Loss : \\n')\n",
        "print('Train : ' + str(mean_squared_error(y_train,y_pred_train)))\n",
        "print('Test : ' + str(mean_squared_error(y_test,y_pred_test)))\n",
        "\n",
        "print('\\n Time : '+str(int(toc-tic)))\n",
        "\n",
        "print(model.get_params)\n",
        "filename = \"/content/drive/My Drive/Paper/UTKFace/ML/SeNet50/Age/Untuned/BaggingReg LR.sav\"\n",
        "pickle.dump(model, open(filename, 'wb'))\n",
        "loaded_model = pickle.load(open(filename, 'rb'))\n",
        "result = loaded_model.score(X_test_scaled, y_test)\n",
        "print(result)"
      ],
      "execution_count": null,
      "outputs": [
        {
          "output_type": "stream",
          "text": [
            "MAE : \n",
            "\n",
            "Train : 4.967048920022852\n",
            "Test : 5.654437052404947\n",
            "Loss : \n",
            "\n",
            "Train : 44.711666909758726\n",
            "Test : 55.61890628100071\n",
            "\n",
            " Time : 75\n",
            "<bound method BaseEstimator.get_params of BaggingRegressor(base_estimator=LinearRegression(copy_X=True,\n",
            "                                                 fit_intercept=True,\n",
            "                                                 n_jobs=None, normalize=False),\n",
            "                 bootstrap=True, bootstrap_features=False, max_features=1.0,\n",
            "                 max_samples=1.0, n_estimators=10, n_jobs=None, oob_score=False,\n",
            "                 random_state=0, verbose=0, warm_start=False)>\n",
            "0.8489695766307532\n"
          ],
          "name": "stdout"
        }
      ]
    },
    {
      "cell_type": "code",
      "metadata": {
        "id": "-KcOU1xZ_vjV",
        "colab": {
          "base_uri": "https://localhost:8080/",
          "height": 323
        },
        "outputId": "4ec5eea2-0d4d-4b58-cac9-f6d214794535"
      },
      "source": [
        "#@title Random Forest --- Baseline\n",
        "import time \n",
        "from sklearn.ensemble import RandomForestRegressor\n",
        "\n",
        "tic = time.time()\n",
        "model = RandomForestRegressor(random_state=0)\n",
        "model.fit(X_train,y_train)\n",
        "\n",
        "y_pred_train = model.predict(X_train)\n",
        "y_pred_test = model.predict(X_test)\n",
        "\n",
        "toc = time.time()\n",
        "\n",
        "print('MAE : \\n')\n",
        "print('Train : ' + str(mean_absolute_error(y_train,y_pred_train)))\n",
        "print('Test : ' + str(mean_absolute_error(y_test,y_pred_test)))\n",
        "\n",
        "print('Loss : \\n')\n",
        "print('Train : ' + str(mean_squared_error(y_train,y_pred_train)))\n",
        "print('Test : ' + str(mean_squared_error(y_test,y_pred_test)))\n",
        "\n",
        "print('\\n Time : '+str(int(toc-tic)))\n",
        "\n",
        "print(model.get_params)\n",
        "filename = \"/content/drive/My Drive/Paper/UTKFace/ML/SeNet50/Age/Untuned/BaggingReg LR.sav\"\n",
        "pickle.dump(model, open(filename, 'wb'))\n",
        "loaded_model = pickle.load(open(filename, 'rb'))\n",
        "result = loaded_model.score(X_test_scaled, y_test)\n",
        "print(result)"
      ],
      "execution_count": null,
      "outputs": [
        {
          "output_type": "stream",
          "text": [
            "MAE : \n",
            "\n",
            "Train : 1.9074806342258086\n",
            "Test : 5.749584821219364\n",
            "Loss : \n",
            "\n",
            "Train : 7.725207149817541\n",
            "Test : 57.492947152930235\n",
            "\n",
            " Time : 3734\n",
            "<bound method BaseEstimator.get_params of RandomForestRegressor(bootstrap=True, ccp_alpha=0.0, criterion='mse',\n",
            "                      max_depth=None, max_features='auto', max_leaf_nodes=None,\n",
            "                      max_samples=None, min_impurity_decrease=0.0,\n",
            "                      min_impurity_split=None, min_samples_leaf=1,\n",
            "                      min_samples_split=2, min_weight_fraction_leaf=0.0,\n",
            "                      n_estimators=100, n_jobs=None, oob_score=False,\n",
            "                      random_state=0, verbose=0, warm_start=False)>\n",
            "0.8438807101782413\n"
          ],
          "name": "stdout"
        }
      ]
    },
    {
      "cell_type": "code",
      "metadata": {
        "id": "kFgeypt3Bysv"
      },
      "source": [
        "#@title Ada Boost\n",
        "\n",
        "from sklearn.ensemble import AdaBoostClassifier\n",
        "from sklearn.tree import DecisionTreeClassifier\n",
        "\n",
        "tic = time.time()\n",
        "dt = DecisionTreeClassifier(class_weight='balanced',random_state=0)\n",
        "model = AdaBoostClassifier(base_estimator=dt, random_state=0)\n",
        "model.fit(X_train,y_train)\n",
        "\n",
        "y_pred_train = model.predict(X_train)\n",
        "y_pred_test = model.predict(X_test)\n",
        "\n",
        "print('ACCURACY : \\n')\n",
        "print('Train : ' + str(accuracy_score(y_train,y_pred_train)))\n",
        "print('Test : ' + str(accuracy_score(y_test,y_pred_test)))\n",
        "\n",
        "print('\\n ROC_AUC_SCORE : \\n')\n",
        "print('Train : ' + str(roc_auc_score(y_train,y_pred_train)))\n",
        "print('Test : ' + str(roc_auc_score(y_test,y_pred_test)))\n",
        "\n",
        "toc = time.time()\n",
        "print('Elapsed Time: '+ str(int(toc-tic)))\n",
        "\n",
        "print(model.get_params)\n",
        "filename = \"/content/drive/My Drive/Paper/UTKFace/ML/SeNet50/Gender/Untuned/AdaBoost dt.sav\"\n",
        "pickle.dump(model, open(filename, 'wb'))\n",
        "loaded_model = pickle.load(open(filename, 'rb'))\n",
        "result = loaded_model.score(X_test_scaled, y_test)\n",
        "print(result)"
      ],
      "execution_count": null,
      "outputs": []
    },
    {
      "cell_type": "code",
      "metadata": {
        "id": "o3g4WtYhCwpE",
        "colab": {
          "base_uri": "https://localhost:8080/",
          "height": 357
        },
        "outputId": "0a797c6f-1709-42ce-bc4c-f5e177606c89"
      },
      "source": [
        "#@title Gradient Boosted Trees\n",
        "\n",
        "from sklearn.ensemble import GradientBoostingRegressor\n",
        "\n",
        "tic = time.time()\n",
        "model = GradientBoostingRegressor(random_state=0)\n",
        "model.fit(X_train,y_train)\n",
        "\n",
        "y_pred_train = model.predict(X_train)\n",
        "y_pred_test = model.predict(X_test)\n",
        "\n",
        "toc = time.time()\n",
        "print('MAE : \\n')\n",
        "print('Train : ' + str(mean_absolute_error(y_train,y_pred_train)))\n",
        "print('Test : ' + str(mean_absolute_error(y_test,y_pred_test)))\n",
        "\n",
        "print('Loss : \\n')\n",
        "print('Train : ' + str(mean_squared_error(y_train,y_pred_train)))\n",
        "print('Test : ' + str(mean_squared_error(y_test,y_pred_test)))\n",
        "\n",
        "print('\\n Time : '+str(int(toc-tic)))\n",
        "\n",
        "print(model.get_params)\n",
        "filename = \"/content/drive/My Drive/Paper/UTKFace/ML/SeNet50/Age/Untuned/GradientBoostingReg.sav\"\n",
        "pickle.dump(model, open(filename, 'wb'))\n",
        "loaded_model = pickle.load(open(filename, 'rb'))\n",
        "result = loaded_model.score(X_test_scaled, y_test)\n",
        "print(result)"
      ],
      "execution_count": null,
      "outputs": [
        {
          "output_type": "stream",
          "text": [
            "MAE : \n",
            "\n",
            "Train : 4.973619950912951\n",
            "Test : 6.166144678274488\n",
            "Loss : \n",
            "\n",
            "Train : 46.70570489439083\n",
            "Test : 67.45696351094071\n",
            "\n",
            " Time : 1492\n",
            "<bound method BaseEstimator.get_params of GradientBoostingRegressor(alpha=0.9, ccp_alpha=0.0, criterion='friedman_mse',\n",
            "                          init=None, learning_rate=0.1, loss='ls', max_depth=3,\n",
            "                          max_features=None, max_leaf_nodes=None,\n",
            "                          min_impurity_decrease=0.0, min_impurity_split=None,\n",
            "                          min_samples_leaf=1, min_samples_split=2,\n",
            "                          min_weight_fraction_leaf=0.0, n_estimators=100,\n",
            "                          n_iter_no_change=None, presort='deprecated',\n",
            "                          random_state=0, subsample=1.0, tol=0.0001,\n",
            "                          validation_fraction=0.1, verbose=0, warm_start=False)>\n",
            "0.8168239104381414\n"
          ],
          "name": "stdout"
        }
      ]
    },
    {
      "cell_type": "code",
      "metadata": {
        "id": "Olg8sK-7EmtA",
        "colab": {
          "base_uri": "https://localhost:8080/",
          "height": 323
        },
        "outputId": "6b3cbc4a-24a1-4540-8874-304282bb04e3"
      },
      "source": [
        "#@title XGBOOST\n",
        "\n",
        "from xgboost import XGBRegressor\n",
        "\n",
        "tic = time.time()\n",
        "model = XGBRegressor(objective='reg:squarederror',random_state=0,booster='gbtree',)\n",
        "model.fit(X_train, y_train)\n",
        "\n",
        "y_pred_train = model.predict(X_train)\n",
        "y_pred_test = model.predict(X_test)\n",
        "\n",
        "toc = time.time()\n",
        "print('MAE : \\n')\n",
        "print('Train : ' + str(mean_absolute_error(y_train,y_pred_train)))\n",
        "print('Test : ' + str(mean_absolute_error(y_test,y_pred_test)))\n",
        "\n",
        "print('Loss : \\n')\n",
        "print('Train : ' + str(mean_squared_error(y_train,y_pred_train)))\n",
        "print('Test : ' + str(mean_squared_error(y_test,y_pred_test)))\n",
        "\n",
        "print('\\n Time : '+str(int(toc-tic)))\n",
        "\n",
        "print(model.get_params)\n",
        "filename = \"/content/drive/My Drive/Paper/UTKFace/ML/SeNet50/Age/Untuned/xgboost reg.sav\"\n",
        "pickle.dump(model, open(filename, 'wb'))\n",
        "loaded_model = pickle.load(open(filename, 'rb'))\n",
        "result = loaded_model.score(X_test_scaled, y_test)\n",
        "print(result)"
      ],
      "execution_count": null,
      "outputs": [
        {
          "output_type": "stream",
          "text": [
            "MAE : \n",
            "\n",
            "Train : 4.998431925585385\n",
            "Test : 5.892288032461952\n",
            "Loss : \n",
            "\n",
            "Train : 47.3688861122858\n",
            "Test : 60.51738902801346\n",
            "\n",
            " Time : 243\n",
            "<bound method XGBModel.get_params of XGBRegressor(base_score=0.5, booster='gbtree', colsample_bylevel=1,\n",
            "             colsample_bynode=1, colsample_bytree=1, gamma=0,\n",
            "             importance_type='gain', learning_rate=0.1, max_delta_step=0,\n",
            "             max_depth=3, min_child_weight=1, missing=None, n_estimators=100,\n",
            "             n_jobs=1, nthread=None, objective='reg:squarederror',\n",
            "             random_state=0, reg_alpha=0, reg_lambda=1, scale_pos_weight=1,\n",
            "             seed=None, silent=None, subsample=1, verbosity=1)>\n",
            "0.8356679859915822\n"
          ],
          "name": "stdout"
        }
      ]
    }
  ]
}