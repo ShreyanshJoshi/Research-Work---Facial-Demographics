{
  "nbformat": 4,
  "nbformat_minor": 0,
  "metadata": {
    "colab": {
      "name": "P-VGG16 - Estimation.ipynb",
      "provenance": [],
      "collapsed_sections": []
    },
    "kernelspec": {
      "name": "python3",
      "display_name": "Python 3"
    },
    "accelerator": "GPU"
  },
  "cells": [
    {
      "cell_type": "code",
      "metadata": {
        "id": "EcRD_xVhR54r"
      },
      "source": [
        "import numpy as np\n",
        "import matplotlib.pyplot as plt\n",
        "import pandas as pd\n",
        "import os\n",
        "import tensorflow as tf\n",
        "from keras.models import Sequential\n",
        "from keras.layers.core import Dense, Dropout, Flatten, Activation\n",
        "from keras.layers import Conv2D, MaxPooling2D,AlphaDropout,SeparableConv2D, SpatialDropout2D, MaxPooling2D\n",
        "from tensorflow.keras import regularizers\n",
        "from keras.utils import np_utils\n",
        "from keras.layers.normalization import BatchNormalization\n",
        "from keras.callbacks import EarlyStopping\n",
        "%matplotlib inline"
      ],
      "execution_count": null,
      "outputs": []
    },
    {
      "cell_type": "code",
      "metadata": {
        "id": "zldDlxBYRfyJ"
      },
      "source": [
        "#Loading Labels\n",
        "traindf = pd.read_excel('/content/drive/My Drive/Paper/UTKFace/traindf.xlsx')\n",
        "valdf = pd.read_excel('/content/drive/My Drive/Paper/UTKFace/valdf.xlsx')\n",
        "testdf = pd.read_excel('/content/drive/My Drive/Paper/UTKFace/testdf.xlsx')\n",
        "traindf.head()"
      ],
      "execution_count": null,
      "outputs": []
    },
    {
      "cell_type": "code",
      "metadata": {
        "id": "ccuKtce-Cm2-"
      },
      "source": [
        "import seaborn as sns\n",
        "\n",
        "plt.figure(figsize=(13,6))\n",
        "sns.kdeplot(traindf['age'], label='train', gridsize=100)\n",
        "sns.kdeplot(valdf['age'], label='val',  gridsize=100)\n",
        "sns.kdeplot(testdf['age'], label='test', gridsize=100)\n",
        "plt.show();"
      ],
      "execution_count": null,
      "outputs": []
    },
    {
      "cell_type": "code",
      "metadata": {
        "id": "QshxX4bLR4p-",
        "colab": {
          "base_uri": "https://localhost:8080/",
          "height": 34
        },
        "outputId": "699ac251-a0f1-4728-fe62-a5f731c84f44"
      },
      "source": [
        "#Loading Features Extracted using ResNet50\n",
        "fx_train_vgg= np.load('/content/drive/My Drive/Paper/UTKFace/fx_train_vgg.npy')\n",
        "fx_val_vgg = np.load('/content/drive/My Drive/Paper/UTKFace/fx_val_vgg.npy')\n",
        "fx_test_vgg = np.load('/content/drive/My Drive/Paper/UTKFace/fx_test_vgg.npy')\n",
        "print(\"Loaded!\")"
      ],
      "execution_count": null,
      "outputs": [
        {
          "output_type": "stream",
          "text": [
            "Loaded!\n"
          ],
          "name": "stdout"
        }
      ]
    },
    {
      "cell_type": "code",
      "metadata": {
        "id": "8NJLp2rOD7KC"
      },
      "source": [
        "x_train= np.load('/content/drive/My Drive/Paper/UTKFace/x_train.npy')\n",
        "x_val = np.load('/content/drive/My Drive/Paper/UTKFace/x_val.npy')\n",
        "x_test = np.load('/content/drive/My Drive/Paper/UTKFace/x_test.npy')"
      ],
      "execution_count": null,
      "outputs": []
    },
    {
      "cell_type": "markdown",
      "metadata": {
        "id": "p6Z_N296S2wB"
      },
      "source": [
        "Age Estimation Model"
      ]
    },
    {
      "cell_type": "code",
      "metadata": {
        "id": "suoED45HT4-t"
      },
      "source": [
        "print('Train : '+str(fx_train_vgg.shape))\n",
        "print('Val : '+str(fx_val_vgg.shape))\n",
        "print('Test : '+str(fx_test_vgg.shape))"
      ],
      "execution_count": null,
      "outputs": []
    },
    {
      "cell_type": "code",
      "metadata": {
        "id": "DQKplUBRSzBG"
      },
      "source": [
        "model = Sequential()\n",
        "\n",
        "model.add(BatchNormalization())\n",
        "model.add(SpatialDropout2D(0.2))\n",
        "model.add(SeparableConv2D(512,(3,3),padding='same',activation='relu',depthwise_initializer='he_uniform',pointwise_initializer='he_uniform'))\n",
        "\n",
        "model.add(BatchNormalization())\n",
        "model.add(SpatialDropout2D(0.4))\n",
        "model.add(SeparableConv2D(512,(3,3),padding='same',activation='relu',depthwise_initializer='he_uniform',pointwise_initializer='he_uniform'))\n",
        "model.add(MaxPooling2D(2,2))\n",
        "\n",
        "\n",
        "model.add(Flatten())\n",
        "\n",
        "model.add(BatchNormalization())\n",
        "model.add(Dropout(0.8))\n",
        "model.add(Dense(1024,activation='elu',kernel_initializer='he_uniform'))\n",
        "\n",
        "model.add(BatchNormalization())\n",
        "model.add(Dropout(0.8))\n",
        "model.add(Dense(512,activation='elu',kernel_initializer='he_uniform'))\n",
        "\n",
        "model.add(BatchNormalization())\n",
        "#model.add(Dropout(0.5))\n",
        "model.add(Dense(128,activation='elu',kernel_initializer='he_uniform'))\n",
        "\n",
        "model.add(BatchNormalization())\n",
        "model.add(Dense(1,activation='relu',kernel_initializer='he_uniform'))"
      ],
      "execution_count": null,
      "outputs": []
    },
    {
      "cell_type": "code",
      "metadata": {
        "id": "FBiqJIMd3oRU"
      },
      "source": [
        "sgd = tf.keras.optimizers.SGD(\n",
        "    learning_rate=1e-2, momentum=0.9, nesterov=True, name=\"SGD\")\n",
        "\n",
        "adam = tf.keras.optimizers.Adam(\n",
        "    learning_rate=4e-4,\n",
        "    amsgrad=True,)\n",
        "\n",
        "adamax = tf.keras.optimizers.Adamax(learning_rate=1e-3)\n",
        "\n",
        "ftrl = tf.keras.optimizers.Ftrl(\n",
        "    learning_rate=0.01,\n",
        "    learning_rate_power=-0.5,\n",
        "    initial_accumulator_value=0.1,\n",
        "    l1_regularization_strength=0.0,\n",
        "    l2_regularization_strength=0.0,\n",
        "    name=\"Ftrl\",\n",
        "    l2_shrinkage_regularization_strength=0.0,\n",
        ")\n",
        "\n",
        "adadelta = tf.keras.optimizers.Adadelta(\n",
        "    learning_rate=1e-3, rho=0.95, epsilon=1e-08, name=\"Adadelta\"\n",
        ")\n",
        "\n",
        "adagrad=tf.keras.optimizers.Adagrad(\n",
        "    learning_rate=0.001,\n",
        "    initial_accumulator_value=0,\n",
        "    epsilon=1e-07,\n",
        "    name=\"Adagrad\",\n",
        ")\n",
        "\n",
        "model.compile(optimizer=adam,loss='mse',metrics=['mae'])"
      ],
      "execution_count": null,
      "outputs": []
    },
    {
      "cell_type": "code",
      "metadata": {
        "id": "kgt8V6a_TgXP"
      },
      "source": [
        "model.fit(fx_train_vgg,traindf['age'].values ,epochs=5, validation_data=(fx_val_vgg,valdf['age'].values),batch_size=128)"
      ],
      "execution_count": null,
      "outputs": []
    },
    {
      "cell_type": "code",
      "metadata": {
        "id": "nZ9Bx6gsRLiT"
      },
      "source": [
        "model.evaluate(fx_test_vgg,testdf['age'].values)"
      ],
      "execution_count": null,
      "outputs": []
    },
    {
      "cell_type": "code",
      "metadata": {
        "id": "29azKfjq9S3D"
      },
      "source": [
        "model.save('/content/drive/My Drive/Paper/UTKFace/Age Estimation/VGG16/model.h5')"
      ],
      "execution_count": null,
      "outputs": []
    },
    {
      "cell_type": "code",
      "metadata": {
        "id": "IgmfSOajSkQ3"
      },
      "source": [
        "model.predict(fx_test_vgg).shape"
      ],
      "execution_count": null,
      "outputs": []
    },
    {
      "cell_type": "markdown",
      "metadata": {
        "id": "sH8ACGyRg-ox"
      },
      "source": [
        "Ensemble"
      ]
    },
    {
      "cell_type": "code",
      "metadata": {
        "id": "j-2O-OdfRmNS"
      },
      "source": [
        "from keras.models import load_model\n",
        "\n",
        "G_res = load_model('/content/drive/My Drive/Paper/UTKFace/Gender/ResNet50/9464.h5')\n",
        "G_res.compile(\"Adam\",\"binary_crossentropy\",['acc'])\n",
        "\n",
        "G_sen = load_model('/content/drive/My Drive/Paper/UTKFace/Gender/SeNet50/9494.h5')\n",
        "G_sen.compile(\"Adam\",\"binary_crossentropy\",['acc'])\n",
        "\n",
        "G_vgg = load_model('/content/drive/My Drive/Paper/UTKFace/Gender/VGG16/9367.h5')\n",
        "G_vgg.compile(\"Adam\",\"binary_crossentropy\",['acc'])"
      ],
      "execution_count": null,
      "outputs": []
    },
    {
      "cell_type": "code",
      "metadata": {
        "id": "OCygaZdnh5Yd"
      },
      "source": [
        "fx_test_res_e = np.load('/content/drive/My Drive/Paper/UTKFace/fx_test_res.npy')\n",
        "fx_test_sen_e = np.load('/content/drive/My Drive/Paper/UTKFace/fx_test_sen.npy')\n",
        "fx_test_vgg_e = np.load('/content/drive/My Drive/Paper/UTKFace/fx_test_vgg.npy')"
      ],
      "execution_count": null,
      "outputs": []
    },
    {
      "cell_type": "code",
      "metadata": {
        "id": "tnFixrE4MrTc"
      },
      "source": [
        "pred_res = G_res.predict(fx_test_res_e)\n",
        "pred_sen = G_sen.predict(fx_test_sen_e)\n",
        "pred_vgg = G_vgg.predict(fx_test_vgg_e)"
      ],
      "execution_count": null,
      "outputs": []
    },
    {
      "cell_type": "code",
      "metadata": {
        "id": "JtYxgkQLkHez",
        "colab": {
          "base_uri": "https://localhost:8080/",
          "height": 34
        },
        "outputId": "270ff03c-c126-4fbd-da83-e3f56acff5c2"
      },
      "source": [
        "pred_res.shape, pred_sen.shape, pred_vgg.shape"
      ],
      "execution_count": null,
      "outputs": [
        {
          "output_type": "execute_result",
          "data": {
            "text/plain": [
              "((2371, 1), (2371, 1), (2371, 1))"
            ]
          },
          "metadata": {
            "tags": []
          },
          "execution_count": 131
        }
      ]
    },
    {
      "cell_type": "code",
      "metadata": {
        "id": "93WO1H3hkWDp"
      },
      "source": [
        "y_pred = (pred_res+pred_sen+pred_vgg)/3"
      ],
      "execution_count": null,
      "outputs": []
    },
    {
      "cell_type": "code",
      "metadata": {
        "id": "l4C7eUx6kg1r"
      },
      "source": [
        "from sklearn.metrics import classification_report\n",
        "report = classification_report(testdf['gender'].values,y_pred.round())\n",
        "print(report)"
      ],
      "execution_count": null,
      "outputs": []
    },
    {
      "cell_type": "code",
      "metadata": {
        "id": "kGxOADvNk5jP",
        "colab": {
          "base_uri": "https://localhost:8080/",
          "height": 119
        },
        "outputId": "bc6c72e0-e8f8-41e1-85a1-42b6a8123a2c"
      },
      "source": [
        "from sklearn.metrics import roc_auc_score\n",
        "\n",
        "auc_vgg = roc_auc_score(testdf['gender'].values,pred_vgg.round())\n",
        "auc_res = roc_auc_score(testdf['gender'].values,pred_res.round())\n",
        "auc_sen = roc_auc_score(testdf['gender'].values,pred_sen.round())\n",
        "auc_en = roc_auc_score(testdf['gender'].values,y_pred.round())\n",
        "print('ROC_AUC_SCORE : \\n')\n",
        "print('ResNet50: ',auc_res)\n",
        "print('SeNet50: ',auc_sen)\n",
        "print('VGG16: ',auc_vgg)\n",
        "print('Ensemble: ',auc_en)"
      ],
      "execution_count": null,
      "outputs": [
        {
          "output_type": "stream",
          "text": [
            "ROC_AUC_SCORE : \n",
            "\n",
            "ResNet50:  0.9465709899376933\n",
            "SeNet50:  0.9491653231726701\n",
            "VGG16:  0.9361109804441441\n",
            "Ensemble:  0.9477423599024417\n"
          ],
          "name": "stdout"
        }
      ]
    },
    {
      "cell_type": "code",
      "metadata": {
        "id": "LzLfnd7sl4Wt",
        "colab": {
          "base_uri": "https://localhost:8080/",
          "height": 119
        },
        "outputId": "8fad940c-5a31-4bfb-9ed2-cfdb06ba6291"
      },
      "source": [
        "from sklearn.metrics import accuracy_score \n",
        "\n",
        "acc_vgg = accuracy_score(testdf['gender'].values,pred_vgg.round())\n",
        "acc_res = accuracy_score(testdf['gender'].values,pred_res.round())\n",
        "acc_sen = accuracy_score(testdf['gender'].values,pred_sen.round())\n",
        "acc_en = accuracy_score(testdf['gender'].values,y_pred.round())\n",
        "print('ACCURACY_SCORE : \\n')\n",
        "print('ResNet50: ',acc_res)\n",
        "print('SeNet50: ',acc_sen)\n",
        "print('VGG16: ',acc_vgg)\n",
        "print('Ensemble: ',acc_en)"
      ],
      "execution_count": null,
      "outputs": [
        {
          "output_type": "stream",
          "text": [
            "ACCURACY_SCORE : \n",
            "\n",
            "ResNet50:  0.9464361029101644\n",
            "SeNet50:  0.9493884436946436\n",
            "VGG16:  0.9367355546183045\n",
            "Ensemble:  0.9481231547870097\n"
          ],
          "name": "stdout"
        }
      ]
    }
  ]
}