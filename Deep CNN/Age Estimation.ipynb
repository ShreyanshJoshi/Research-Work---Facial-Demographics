{
  "nbformat": 4,
  "nbformat_minor": 0,
  "metadata": {
    "colab": {
      "name": "Age Estimation.ipynb",
      "provenance": [],
      "collapsed_sections": [],
      "toc_visible": true
    },
    "kernelspec": {
      "name": "python3",
      "display_name": "Python 3"
    }
  },
  "cells": [
    {
      "cell_type": "markdown",
      "metadata": {
        "id": "IH-jxeUtAQx-",
        "colab_type": "text"
      },
      "source": [
        "# Age Estimator using Deep CNNs  - \n",
        "\n",
        "**Dataset : UTKFace**\n",
        "\n",
        "UTKFace dataset is a large-scale face dataset with long age span (range from **0 to 116 years old**). The dataset consists of over 20,000 face images with annotations of age, gender, and ethnicity. The images cover large variation in pose, facial expression, illumination, occlusion, resolution, etc.\n",
        "\n",
        "In this notebook, I have used the **aligned and cropped** faces available to train my models. Needless to say, any face input for testing must be cropped and aligned vertically to large extent.\n",
        "\n",
        "#### Working Methodology - \n",
        "\n",
        "I initially tried all 3 fundamental convolutional layers - `Conv2D`, `SeperableConv2D` and `Conv2DTranspose`. I found `SeperableConv2D` to perform the best. Then I tried using some key arguments of it and noted down its results.\n",
        "Finally, for the best among those, I tested the performance of my models on 4 of the most popular and promising optimizers Keras has - **Adam**, **Adamax**, **SGD**, **Nadam**."
      ]
    },
    {
      "cell_type": "code",
      "metadata": {
        "id": "Bwb7ZaKaB75a",
        "colab_type": "code",
        "colab": {
          "base_uri": "https://localhost:8080/",
          "height": 121
        },
        "outputId": "6e41a0d4-0442-4726-aee4-e67c3a91701f"
      },
      "source": [
        "# Mounting the drive so that dataset can be loaded\n",
        "\n",
        "from google.colab import drive\n",
        "drive.mount('/content/drive')"
      ],
      "execution_count": null,
      "outputs": [
        {
          "output_type": "stream",
          "text": [
            "Go to this URL in a browser: https://accounts.google.com/o/oauth2/auth?client_id=947318989803-6bn6qk8qdgf4n4g3pfee6491hc0brc4i.apps.googleusercontent.com&redirect_uri=urn%3aietf%3awg%3aoauth%3a2.0%3aoob&response_type=code&scope=email%20https%3a%2f%2fwww.googleapis.com%2fauth%2fdocs.test%20https%3a%2f%2fwww.googleapis.com%2fauth%2fdrive%20https%3a%2f%2fwww.googleapis.com%2fauth%2fdrive.photos.readonly%20https%3a%2f%2fwww.googleapis.com%2fauth%2fpeopleapi.readonly\n",
            "\n",
            "Enter your authorization code:\n",
            "··········\n",
            "Mounted at /content/drive\n"
          ],
          "name": "stdout"
        }
      ]
    },
    {
      "cell_type": "code",
      "metadata": {
        "id": "g8n273iCB_MG",
        "colab_type": "code",
        "colab": {
          "base_uri": "https://localhost:8080/",
          "height": 87
        },
        "outputId": "ddf7261a-1eb9-4ffd-e788-407ec7c16d23"
      },
      "source": [
        "# Essential libraries\n",
        "import numpy as np \n",
        "import pandas as pd\n",
        "import os\n",
        "import glob\n",
        "import pandas as pd\n",
        "import matplotlib.pyplot as plt\n",
        "import seaborn as sns\n",
        "import scipy.io\n",
        "import pandas as pd\n",
        "import numpy as np\n",
        "import matplotlib.pyplot as plt\n",
        "from keras import applications,activations\n",
        "from keras.preprocessing.image import ImageDataGenerator,load_img,img_to_array\n",
        "from keras import optimizers,utils\n",
        "from keras.models import Sequential, Model \n",
        "from keras.layers import Dropout, Flatten, Dense, GlobalAveragePooling2D,BatchNormalization,ZeroPadding2D, Input\n",
        "from keras.layers import Conv2D, Activation,MaxPooling2D\n",
        "from keras import backend as k \n",
        "from keras.callbacks import ModelCheckpoint, LearningRateScheduler, TensorBoard, EarlyStopping"
      ],
      "execution_count": null,
      "outputs": [
        {
          "output_type": "stream",
          "text": [
            "/usr/local/lib/python3.6/dist-packages/statsmodels/tools/_testing.py:19: FutureWarning: pandas.util.testing is deprecated. Use the functions in the public API at pandas.testing instead.\n",
            "  import pandas.util.testing as tm\n",
            "Using TensorFlow backend.\n"
          ],
          "name": "stderr"
        }
      ]
    },
    {
      "cell_type": "code",
      "metadata": {
        "id": "RZbxDjTNCFGo",
        "colab_type": "code",
        "colab": {}
      },
      "source": [
        "dataset_folder_name = '/content/drive/My Drive/Images'\n",
        "TRAIN_TEST_SPLIT = 0.8\n",
        "IM_WIDTH = IM_HEIGHT = 198\n",
        "\n",
        "dataset_dict = {\n",
        "    'race_id': {\n",
        "        0: 'white', \n",
        "        1: 'black', \n",
        "        2: 'asian', \n",
        "        3: 'indian', \n",
        "        4: 'others'\n",
        "    },\n",
        "    'gender_id': {\n",
        "        0: 'male',\n",
        "        1: 'female'\n",
        "    }\n",
        "}\n",
        "\n",
        "dataset_dict['gender_alias'] = dict((g, i) for i, g in dataset_dict['gender_id'].items())    # (Gender: id)\n",
        "dataset_dict['race_alias'] = dict((r, i) for i, r in dataset_dict['race_id'].items())        # (Race: id)"
      ],
      "execution_count": null,
      "outputs": []
    },
    {
      "cell_type": "code",
      "metadata": {
        "id": "kXkn8umRCPuM",
        "colab_type": "code",
        "colab": {}
      },
      "source": [
        "# Let's also define a function to help us on extracting the data from our dataset. This function will be\n",
        "# used to iterate over each file of the UTK dataset and return a Pandas Dataframe containing all the\n",
        "# fields (age, gender and sex) of our records.\n",
        "\n",
        "def parse_dataset(dataset_path, ext='jpg'):\n",
        "    \"\"\"\n",
        "    Used to extract information about our dataset. It does iterate over all images and return a DataFrame\n",
        "     with the data (age, gender and sex) of all files.\n",
        "    \"\"\"\n",
        "    def parse_info_from_file(path):\n",
        "        \"\"\"\n",
        "        Parse information from a single file\n",
        "        \"\"\"\n",
        "        try:\n",
        "            filename = os.path.split(path)[1]\n",
        "            filename = os.path.splitext(filename)[0]\n",
        "            age, gender, race, _ = filename.split('_')\n",
        "\n",
        "            return int(age), dataset_dict['gender_id'][int(gender)], dataset_dict['race_id'][int(race)]\n",
        "        except Exception as ex:\n",
        "            return None, None, None\n",
        "        \n",
        "    files = glob.glob(os.path.join(dataset_path, \"*.%s\" % ext))\n",
        "    \n",
        "    records = []\n",
        "    for file in files:\n",
        "        info = parse_info_from_file(file)\n",
        "        records.append(info)\n",
        "        \n",
        "    df = pd.DataFrame(records)\n",
        "    df['file'] = files\n",
        "    df.columns = ['age', 'gender', 'race', 'file']\n",
        "    \n",
        "   \n",
        "    df = df.dropna()\n",
        "    \n",
        "    return df"
      ],
      "execution_count": null,
      "outputs": []
    },
    {
      "cell_type": "code",
      "metadata": {
        "id": "ybscrdgBCWxr",
        "colab_type": "code",
        "colab": {
          "base_uri": "https://localhost:8080/",
          "height": 195
        },
        "outputId": "2a91c3df-133f-46f9-c20a-0fabf66049a8"
      },
      "source": [
        "\n",
        "df = parse_dataset(dataset_folder_name)\n",
        "df.head()\n",
        "\n",
        "# Now we have a pandas dataframe with us. This can be dealt with quite easily. Like, we simply now need \n",
        "# to OHE gender, race and feed it into model. Using Pandas dataframe also allows me to manipulate and \n",
        "# visualize data by plotting graphs."
      ],
      "execution_count": null,
      "outputs": [
        {
          "output_type": "execute_result",
          "data": {
            "text/html": [
              "<div>\n",
              "<style scoped>\n",
              "    .dataframe tbody tr th:only-of-type {\n",
              "        vertical-align: middle;\n",
              "    }\n",
              "\n",
              "    .dataframe tbody tr th {\n",
              "        vertical-align: top;\n",
              "    }\n",
              "\n",
              "    .dataframe thead th {\n",
              "        text-align: right;\n",
              "    }\n",
              "</style>\n",
              "<table border=\"1\" class=\"dataframe\">\n",
              "  <thead>\n",
              "    <tr style=\"text-align: right;\">\n",
              "      <th></th>\n",
              "      <th>age</th>\n",
              "      <th>gender</th>\n",
              "      <th>race</th>\n",
              "      <th>file</th>\n",
              "    </tr>\n",
              "  </thead>\n",
              "  <tbody>\n",
              "    <tr>\n",
              "      <th>0</th>\n",
              "      <td>17.0</td>\n",
              "      <td>male</td>\n",
              "      <td>others</td>\n",
              "      <td>/content/drive/My Drive/Images/17_0_4_20170103...</td>\n",
              "    </tr>\n",
              "    <tr>\n",
              "      <th>1</th>\n",
              "      <td>17.0</td>\n",
              "      <td>female</td>\n",
              "      <td>white</td>\n",
              "      <td>/content/drive/My Drive/Images/17_1_0_20170102...</td>\n",
              "    </tr>\n",
              "    <tr>\n",
              "      <th>2</th>\n",
              "      <td>17.0</td>\n",
              "      <td>male</td>\n",
              "      <td>others</td>\n",
              "      <td>/content/drive/My Drive/Images/17_0_4_20170102...</td>\n",
              "    </tr>\n",
              "    <tr>\n",
              "      <th>3</th>\n",
              "      <td>17.0</td>\n",
              "      <td>female</td>\n",
              "      <td>white</td>\n",
              "      <td>/content/drive/My Drive/Images/17_1_0_20170103...</td>\n",
              "    </tr>\n",
              "    <tr>\n",
              "      <th>4</th>\n",
              "      <td>17.0</td>\n",
              "      <td>male</td>\n",
              "      <td>others</td>\n",
              "      <td>/content/drive/My Drive/Images/17_0_4_20170103...</td>\n",
              "    </tr>\n",
              "  </tbody>\n",
              "</table>\n",
              "</div>"
            ],
            "text/plain": [
              "    age  gender    race                                               file\n",
              "0  17.0    male  others  /content/drive/My Drive/Images/17_0_4_20170103...\n",
              "1  17.0  female   white  /content/drive/My Drive/Images/17_1_0_20170102...\n",
              "2  17.0    male  others  /content/drive/My Drive/Images/17_0_4_20170102...\n",
              "3  17.0  female   white  /content/drive/My Drive/Images/17_1_0_20170103...\n",
              "4  17.0    male  others  /content/drive/My Drive/Images/17_0_4_20170103..."
            ]
          },
          "metadata": {
            "tags": []
          },
          "execution_count": 14
        }
      ]
    },
    {
      "cell_type": "markdown",
      "metadata": {
        "id": "zabsZu_l49ss",
        "colab_type": "text"
      },
      "source": [
        "### Data analysis & visualization (EDA)\n",
        "\n",
        "After some data preprocessing, let's analyze the data using graphs to get a  better understanding about its distribution\n",
        "\n",
        "\n",
        "\n"
      ]
    },
    {
      "cell_type": "code",
      "metadata": {
        "id": "Z1wm7NyCmcbc",
        "colab_type": "code",
        "colab": {
          "base_uri": "https://localhost:8080/",
          "height": 202
        },
        "outputId": "0d37d71e-655a-44f4-e0c7-a61ef6b21051"
      },
      "source": [
        "df.info()       # No NAN values. Clean dataset"
      ],
      "execution_count": null,
      "outputs": [
        {
          "output_type": "stream",
          "text": [
            "<class 'pandas.core.frame.DataFrame'>\n",
            "Int64Index: 23708 entries, 0 to 23710\n",
            "Data columns (total 4 columns):\n",
            " #   Column  Non-Null Count  Dtype  \n",
            "---  ------  --------------  -----  \n",
            " 0   age     23708 non-null  float64\n",
            " 1   gender  23708 non-null  object \n",
            " 2   race    23708 non-null  object \n",
            " 3   file    23708 non-null  object \n",
            "dtypes: float64(1), object(3)\n",
            "memory usage: 926.1+ KB\n"
          ],
          "name": "stdout"
        }
      ]
    },
    {
      "cell_type": "code",
      "metadata": {
        "id": "tlQO4_WKmihH",
        "colab_type": "code",
        "colab": {
          "base_uri": "https://localhost:8080/",
          "height": 284
        },
        "outputId": "5cf1afa8-d790-4fed-d749-8df24345dc7d"
      },
      "source": [
        "df.describe()\n",
        "# Lower percentile - 25, median - 50, upper percentile - 75 (for numerical data)"
      ],
      "execution_count": null,
      "outputs": [
        {
          "output_type": "execute_result",
          "data": {
            "text/html": [
              "<div>\n",
              "<style scoped>\n",
              "    .dataframe tbody tr th:only-of-type {\n",
              "        vertical-align: middle;\n",
              "    }\n",
              "\n",
              "    .dataframe tbody tr th {\n",
              "        vertical-align: top;\n",
              "    }\n",
              "\n",
              "    .dataframe thead th {\n",
              "        text-align: right;\n",
              "    }\n",
              "</style>\n",
              "<table border=\"1\" class=\"dataframe\">\n",
              "  <thead>\n",
              "    <tr style=\"text-align: right;\">\n",
              "      <th></th>\n",
              "      <th>age</th>\n",
              "    </tr>\n",
              "  </thead>\n",
              "  <tbody>\n",
              "    <tr>\n",
              "      <th>count</th>\n",
              "      <td>23708.000000</td>\n",
              "    </tr>\n",
              "    <tr>\n",
              "      <th>mean</th>\n",
              "      <td>33.300363</td>\n",
              "    </tr>\n",
              "    <tr>\n",
              "      <th>std</th>\n",
              "      <td>19.884509</td>\n",
              "    </tr>\n",
              "    <tr>\n",
              "      <th>min</th>\n",
              "      <td>1.000000</td>\n",
              "    </tr>\n",
              "    <tr>\n",
              "      <th>25%</th>\n",
              "      <td>23.000000</td>\n",
              "    </tr>\n",
              "    <tr>\n",
              "      <th>50%</th>\n",
              "      <td>29.000000</td>\n",
              "    </tr>\n",
              "    <tr>\n",
              "      <th>75%</th>\n",
              "      <td>45.000000</td>\n",
              "    </tr>\n",
              "    <tr>\n",
              "      <th>max</th>\n",
              "      <td>116.000000</td>\n",
              "    </tr>\n",
              "  </tbody>\n",
              "</table>\n",
              "</div>"
            ],
            "text/plain": [
              "                age\n",
              "count  23708.000000\n",
              "mean      33.300363\n",
              "std       19.884509\n",
              "min        1.000000\n",
              "25%       23.000000\n",
              "50%       29.000000\n",
              "75%       45.000000\n",
              "max      116.000000"
            ]
          },
          "metadata": {
            "tags": []
          },
          "execution_count": 16
        }
      ]
    },
    {
      "cell_type": "code",
      "metadata": {
        "id": "K-d6Te5jCZAP",
        "colab_type": "code",
        "colab": {
          "base_uri": "https://localhost:8080/",
          "height": 265
        },
        "outputId": "83c76e80-7e20-4674-b779-2eaedc276897"
      },
      "source": [
        "ages = df['age']\n",
        "nbins = 10\n",
        "plt.hist(ages,nbins,color='green',histtype='bar')\n",
        "plt.show()\n",
        "# Majority population lies between 20-30 age group. Clearly, \n",
        "# the dataset is not very well balanced. So training will \n",
        "# not be easy & accurate. We don't want to be\n",
        "# biased. Try using class weights"
      ],
      "execution_count": null,
      "outputs": [
        {
          "output_type": "display_data",
          "data": {
            "image/png": "[encoded data removed]",
            "text/plain": [
              "<Figure size 432x288 with 1 Axes>"
            ]
          },
          "metadata": {
            "tags": [],
            "needs_background": "light"
          }
        }
      ]
    },
    {
      "cell_type": "code",
      "metadata": {
        "id": "_zqXUmzvCoY8",
        "colab_type": "code",
        "colab": {
          "base_uri": "https://localhost:8080/",
          "height": 270
        },
        "outputId": "881f3eee-6254-4d85-dae7-0201b08eef6d"
      },
      "source": [
        "x = (df.gender=='male').sum()\n",
        "y = (df.gender=='female').sum()\n",
        "gender = [x,y]\n",
        "labels = ['male','female']\n",
        "colors = [ 'y', 'g'] \n",
        "plt.pie(gender,labels = labels,colors = colors,radius=1.2,autopct='%.1f%%')\n",
        "plt.show()\n",
        "# Uniform distribution to a large extent. Although, males slightly exceed females \n",
        "# in numbers.No need to change gender in data. Pretty well balanced !\n",
        "# Lets also visualize this on a bar graph (to get better understanding of numbers)"
      ],
      "execution_count": null,
      "outputs": [
        {
          "output_type": "display_data",
          "data": {
            "image/png": "[encoded data removed]",
            "text/plain": [
              "<Figure size 432x288 with 1 Axes>"
            ]
          },
          "metadata": {
            "tags": []
          }
        }
      ]
    },
    {
      "cell_type": "code",
      "metadata": {
        "id": "WPmYRcKWm2oA",
        "colab_type": "code",
        "colab": {
          "base_uri": "https://localhost:8080/",
          "height": 279
        },
        "outputId": "ccf95090-cddb-43db-fdb1-a8874bfd00ef"
      },
      "source": [
        "sns.countplot(x='gender', data=df);\n",
        "\n",
        "# Males ~ Just over 12k\n",
        "# Females ~ Just over 11k"
      ],
      "execution_count": null,
      "outputs": [
        {
          "output_type": "display_data",
          "data": {
            "image/png": "[encoded data removed]",
            "text/plain": [
              "<Figure size 432x288 with 1 Axes>"
            ]
          },
          "metadata": {
            "tags": [],
            "needs_background": "light"
          }
        }
      ]
    },
    {
      "cell_type": "code",
      "metadata": {
        "id": "URvsgIlLm5WQ",
        "colab_type": "code",
        "colab": {
          "base_uri": "https://localhost:8080/",
          "height": 136
        },
        "outputId": "539fcd82-f4fa-4edd-cdcc-4ab3ace1b76f"
      },
      "source": [
        "df.groupby(['gender']).mean()             # Mean age by gender"
      ],
      "execution_count": null,
      "outputs": [
        {
          "output_type": "execute_result",
          "data": {
            "text/html": [
              "<div>\n",
              "<style scoped>\n",
              "    .dataframe tbody tr th:only-of-type {\n",
              "        vertical-align: middle;\n",
              "    }\n",
              "\n",
              "    .dataframe tbody tr th {\n",
              "        vertical-align: top;\n",
              "    }\n",
              "\n",
              "    .dataframe thead th {\n",
              "        text-align: right;\n",
              "    }\n",
              "</style>\n",
              "<table border=\"1\" class=\"dataframe\">\n",
              "  <thead>\n",
              "    <tr style=\"text-align: right;\">\n",
              "      <th></th>\n",
              "      <th>age</th>\n",
              "    </tr>\n",
              "    <tr>\n",
              "      <th>gender</th>\n",
              "      <th></th>\n",
              "    </tr>\n",
              "  </thead>\n",
              "  <tbody>\n",
              "    <tr>\n",
              "      <th>female</th>\n",
              "      <td>30.678186</td>\n",
              "    </tr>\n",
              "    <tr>\n",
              "      <th>male</th>\n",
              "      <td>35.694046</td>\n",
              "    </tr>\n",
              "  </tbody>\n",
              "</table>\n",
              "</div>"
            ],
            "text/plain": [
              "              age\n",
              "gender           \n",
              "female  30.678186\n",
              "male    35.694046"
            ]
          },
          "metadata": {
            "tags": []
          },
          "execution_count": 20
        }
      ]
    },
    {
      "cell_type": "code",
      "metadata": {
        "id": "F7VpVyjzf60k",
        "colab_type": "code",
        "colab": {
          "base_uri": "https://localhost:8080/",
          "height": 259
        },
        "outputId": "fe8e844d-cb63-41c4-d719-64342088ad62"
      },
      "source": [
        "x = (df.race=='white').sum()\n",
        "y = (df.race=='black').sum()\n",
        "z = (df.race=='asian').sum()\n",
        "a = (df.race=='indian').sum()\n",
        "b = (df.race=='others').sum()\n",
        "\n",
        "gender = [x,y,z,a,b]\n",
        "labels = ['white','black','asian','indian','others']\n",
        "colors = [ 'y', 'g','b','r','m'] \n",
        "plt.pie(gender,labels = labels,colors = colors,radius=1.2,autopct='%.1f%%')\n",
        "plt.show()"
      ],
      "execution_count": null,
      "outputs": [
        {
          "output_type": "display_data",
          "data": {
            "image/png": "[encoded data removed]",
            "text/plain": [
              "<Figure size 432x288 with 1 Axes>"
            ]
          },
          "metadata": {
            "tags": []
          }
        }
      ]
    },
    {
      "cell_type": "code",
      "metadata": {
        "id": "ktdLw0fCm-gO",
        "colab_type": "code",
        "colab": {
          "base_uri": "https://localhost:8080/",
          "height": 225
        },
        "outputId": "f1a0edab-12e9-4672-a796-e73bef05d725"
      },
      "source": [
        "df.groupby(['race']).mean()               # Mean age by race"
      ],
      "execution_count": null,
      "outputs": [
        {
          "output_type": "execute_result",
          "data": {
            "text/html": [
              "<div>\n",
              "<style scoped>\n",
              "    .dataframe tbody tr th:only-of-type {\n",
              "        vertical-align: middle;\n",
              "    }\n",
              "\n",
              "    .dataframe tbody tr th {\n",
              "        vertical-align: top;\n",
              "    }\n",
              "\n",
              "    .dataframe thead th {\n",
              "        text-align: right;\n",
              "    }\n",
              "</style>\n",
              "<table border=\"1\" class=\"dataframe\">\n",
              "  <thead>\n",
              "    <tr style=\"text-align: right;\">\n",
              "      <th></th>\n",
              "      <th>age</th>\n",
              "    </tr>\n",
              "    <tr>\n",
              "      <th>race</th>\n",
              "      <th></th>\n",
              "    </tr>\n",
              "  </thead>\n",
              "  <tbody>\n",
              "    <tr>\n",
              "      <th>asian</th>\n",
              "      <td>25.867501</td>\n",
              "    </tr>\n",
              "    <tr>\n",
              "      <th>black</th>\n",
              "      <td>33.860362</td>\n",
              "    </tr>\n",
              "    <tr>\n",
              "      <th>indian</th>\n",
              "      <td>31.532830</td>\n",
              "    </tr>\n",
              "    <tr>\n",
              "      <th>others</th>\n",
              "      <td>23.169031</td>\n",
              "    </tr>\n",
              "    <tr>\n",
              "      <th>white</th>\n",
              "      <td>37.978276</td>\n",
              "    </tr>\n",
              "  </tbody>\n",
              "</table>\n",
              "</div>"
            ],
            "text/plain": [
              "              age\n",
              "race             \n",
              "asian   25.867501\n",
              "black   33.860362\n",
              "indian  31.532830\n",
              "others  23.169031\n",
              "white   37.978276"
            ]
          },
          "metadata": {
            "tags": []
          },
          "execution_count": 22
        }
      ]
    },
    {
      "cell_type": "code",
      "metadata": {
        "id": "wwTJEdNhnC4v",
        "colab_type": "code",
        "colab": {
          "base_uri": "https://localhost:8080/",
          "height": 286
        },
        "outputId": "719537ad-7d97-4f51-f398-04c9a709efb1"
      },
      "source": [
        "sns.set(style =\"whitegrid\") \n",
        "_ = sns.stripplot(x='race',y='age',data=df)\n",
        "\n",
        "# Not very useful :( , we only understand that not many elderly ppl (above 60) \n",
        "# in others category are present "
      ],
      "execution_count": null,
      "outputs": [
        {
          "output_type": "display_data",
          "data": {
            "image/png": "[encoded data removed]",
            "text/plain": [
              "<Figure size 432x288 with 1 Axes>"
            ]
          },
          "metadata": {
            "tags": []
          }
        }
      ]
    },
    {
      "cell_type": "code",
      "metadata": {
        "id": "L21qaRLfnEIs",
        "colab_type": "code",
        "colab": {
          "base_uri": "https://localhost:8080/",
          "height": 418
        },
        "outputId": "148df145-d7b1-4c48-a516-fa80609675b9"
      },
      "source": [
        "sns.factorplot('race', 'age', 'gender', data=df,kind='bar');\n",
        "\n",
        "# Gives the mean age of both genders of all races"
      ],
      "execution_count": null,
      "outputs": [
        {
          "output_type": "stream",
          "text": [
            "/usr/local/lib/python3.6/dist-packages/seaborn/categorical.py:3666: UserWarning: The `factorplot` function has been renamed to `catplot`. The original name will be removed in a future release. Please update your code. Note that the default `kind` in `factorplot` (`'point'`) has changed `'strip'` in `catplot`.\n",
            "  warnings.warn(msg)\n"
          ],
          "name": "stderr"
        },
        {
          "output_type": "display_data",
          "data": {
            "image/png": "[encoded data removed]",
            "text/plain": [
              "<Figure size 437.975x360 with 1 Axes>"
            ]
          },
          "metadata": {
            "tags": []
          }
        }
      ]
    },
    {
      "cell_type": "code",
      "metadata": {
        "id": "mMwhlvZCEvfh",
        "colab_type": "code",
        "colab": {
          "base_uri": "https://localhost:8080/",
          "height": 394
        },
        "outputId": "8b7d1787-b209-4d0a-adee-0523ee0a2fea"
      },
      "source": [
        "fig, (ax1, ax2) = plt.subplots(1, 2, figsize=(15, 6))\n",
        "_ = sns.boxplot(data=df, x='gender', y='age', ax=ax1)\n",
        "_ = sns.boxplot(data=df, x='race', y='age', ax=ax2)\n",
        "\n",
        "# We see that most of males are between 25 and 55, whereas most of the females are between 20 and 35\n",
        "# Even while grouping by race, we find good amount of variations in different races"
      ],
      "execution_count": null,
      "outputs": [
        {
          "output_type": "display_data",
          "data": {
            "image/png": "[encoded data removed]",
            "text/plain": [
              "<Figure size 1080x432 with 2 Axes>"
            ]
          },
          "metadata": {
            "tags": []
          }
        }
      ]
    },
    {
      "cell_type": "markdown",
      "metadata": {
        "id": "fGjYC8YbiYOr",
        "colab_type": "text"
      },
      "source": [
        "## Data Generator\n",
        "In order to input our data to our Keras multi-output model, we have a helper object to work as a data generator for our dataset. This will be done by generating batches of data, which will be used to feed our multi-output model with both the images and their labels (instead of just loading all the dataset into the memory at once, which might lead to an out of memory error).\n",
        "\n",
        "I would be working on the same set of images that I have used in other 2 notebooks (**Age Classifier** & **Gender Classifier**. So, let me load the dataset first."
      ]
    },
    {
      "cell_type": "code",
      "metadata": {
        "id": "JcnlBFtsf_i5",
        "colab_type": "code",
        "colab": {}
      },
      "source": [
        "train_idx = np.load('/content/drive/My Drive/train_idx.npy') \n",
        "val_idx = np.load('/content/drive/My Drive/val_idx.npy') \n",
        "test_idx = np.load('/content/drive/My Drive/test_idx.npy') "
      ],
      "execution_count": null,
      "outputs": []
    },
    {
      "cell_type": "code",
      "metadata": {
        "id": "jkX1oG_9RsNB",
        "colab_type": "code",
        "colab": {
          "base_uri": "https://localhost:8080/",
          "height": 67
        },
        "outputId": "c82429dc-9165-4ea8-a33e-8f255db41dbe"
      },
      "source": [
        "print(train_idx)                     \n",
        "print(val_idx)\n",
        "print(test_idx)                             \n",
        "\n",
        "# All test_idx , train_idx & val_idx are numpy arrays consisting of indices of df"
      ],
      "execution_count": null,
      "outputs": [
        {
          "output_type": "stream",
          "text": [
            "[12138 21443  3908 ... 12093  3048 15433]\n",
            "[17517 10897  8645 ... 21619  7302  3939]\n",
            "[12772  2874 18889 ... 11347 23700  1670]\n"
          ],
          "name": "stdout"
        }
      ]
    },
    {
      "cell_type": "code",
      "metadata": {
        "id": "Gz3EDuccKMNJ",
        "colab_type": "code",
        "colab": {
          "base_uri": "https://localhost:8080/",
          "height": 462
        },
        "outputId": "9bd238ed-b41d-4377-b515-66ed225d296f"
      },
      "source": [
        "print(train_idx.size)\n",
        "print(val_idx.size)\n",
        "print(test_idx.size)\n",
        "print('')\n",
        "\n",
        "y=[]\n",
        "z=[]\n",
        "a=[]\n",
        "for i in range(len(train_idx)):\n",
        "    x = train_idx[i]\n",
        "    y.append(int(df[x:x+1]['age']))\n",
        "\n",
        "for i in range(len(val_idx)):\n",
        "    x = val_idx[i]\n",
        "    z.append(int(df[x:x+1]['age']))\n",
        "\n",
        "for i in range(len(test_idx)):\n",
        "    x = test_idx[i]\n",
        "    a.append(int(df[x:x+1]['age']))\n",
        "\n",
        "plt.figure(figsize=(13,6))\n",
        "sns.kdeplot(y, label='train', gridsize=100)\n",
        "sns.kdeplot(z, label='val',  gridsize=100)\n",
        "sns.kdeplot(a, label='test', gridsize=100)\n",
        "plt.show()\n",
        "\n",
        "''' We see that the distribution for train, test, val each is roughly the same. So \n",
        "it using such a division of data is acceptable '''"
      ],
      "execution_count": null,
      "outputs": [
        {
          "output_type": "stream",
          "text": [
            "19203\n",
            "2134\n",
            "2371\n",
            "\n"
          ],
          "name": "stdout"
        },
        {
          "output_type": "display_data",
          "data": {
            "image/png": "[encoded data removed]",
            "text/plain": [
              "<Figure size 936x432 with 1 Axes>"
            ]
          },
          "metadata": {
            "tags": []
          }
        },
        {
          "output_type": "execute_result",
          "data": {
            "application/vnd.google.colaboratory.intrinsic": {
              "type": "string"
            },
            "text/plain": [
              "' We see that the distribution for train, test, val each is roughly the same. So \\nit using such a division of data is acceptable '"
            ]
          },
          "metadata": {
            "tags": []
          },
          "execution_count": 31
        }
      ]
    },
    {
      "cell_type": "code",
      "metadata": {
        "id": "kMRE13cQpr-i",
        "colab_type": "code",
        "colab": {}
      },
      "source": [
        "from PIL import Image\n",
        "            \n",
        "def preprocess_image(img_path):\n",
        "    \"\"\"\n",
        "    Used to perform some minor preprocessing on the image before inputting into the network.\n",
        "    \"\"\"\n",
        "    im = Image.open(img_path)\n",
        "    im = im.resize((180, 180))\n",
        "    im = np.array(im) / 255.0\n",
        "    \n",
        "    return im\n",
        "        \n",
        "def generate_images(image_idx, is_training, batch_size=16):\n",
        "    \"\"\"\n",
        "    Used to generate a batch with images when training/testing/validating our Keras model.\n",
        "    \"\"\"\n",
        "    \n",
        "    # arrays to store our batched data\n",
        "    images, ages = [], []\n",
        "    while True:\n",
        "        for idx in image_idx:\n",
        "            person = df.iloc[idx]\n",
        "            \n",
        "            age = person['age']\n",
        "            file = person['file']\n",
        "            \n",
        "            im = preprocess_image(file)\n",
        "\n",
        "            ages.append(age)\n",
        "            images.append(im)\n",
        "            \n",
        "            # yielding condition\n",
        "            if len(images) >= batch_size:\n",
        "                yield np.array(images), np.array(ages)\n",
        "                images, ages = [], []\n",
        "                \n",
        "        if not is_training:\n",
        "            break\n",
        "            "
      ],
      "execution_count": null,
      "outputs": []
    },
    {
      "cell_type": "markdown",
      "metadata": {
        "id": "_ObdH1MkKatt",
        "colab_type": "text"
      },
      "source": [
        "## Model Architecture"
      ]
    },
    {
      "cell_type": "markdown",
      "metadata": {
        "id": "Y8l4ZWXkPTDe",
        "colab_type": "text"
      },
      "source": [
        "This is the best model architecture I found for age estimation (regression). It was arrived at after trying many other models such as `Conv2D`, `Conv2DTranspose`. Even in `SeperableConv2D`, I tried it's including/not including it's different arguments such as *kernel_initializer*, *kernel_constraint*, etc.\n",
        "\n",
        "**NOTE:** All results below, have been obtained once I verified that performance was not improving. I stopped training then, otherwise the model would overfit and lose its generalization ability."
      ]
    },
    {
      "cell_type": "code",
      "metadata": {
        "id": "sL35xdtJCM1g",
        "colab_type": "code",
        "colab": {}
      },
      "source": [
        "from keras.models import Model\n",
        "from keras.layers.normalization import BatchNormalization\n",
        "from keras.layers.convolutional import SeparableConv2D\n",
        "from keras.layers.convolutional import MaxPooling2D\n",
        "from keras.layers import SpatialDropout2D\n",
        "from keras.layers.core import Activation\n",
        "from keras.layers.core import Dropout\n",
        "from keras.layers.core import Lambda\n",
        "from keras.layers.core import Dense\n",
        "from keras.layers import Flatten\n",
        "from keras.layers import Input\n",
        "\n",
        "\n",
        "input_shape = (180, 180, 3)\n",
        "inputs = Input(shape=input_shape)\n",
        "\n",
        "x = SeparableConv2D(64, (3, 3), padding=\"same\",  kernel_initializer='he_uniform')(inputs)\n",
        "x = Activation(\"relu\")(x)\n",
        "x = MaxPooling2D(pool_size=(2, 2))(x)\n",
        "x = BatchNormalization()(x)\n",
        "\n",
        "x = SeparableConv2D(128, (3, 3), padding=\"same\", kernel_initializer='he_uniform')(x)\n",
        "x = Activation(\"relu\")(x)\n",
        "x = MaxPooling2D(pool_size=(2, 2))(x)\n",
        "x = BatchNormalization()(x)\n",
        "\n",
        "x = SeparableConv2D(128, (3, 3), padding=\"same\", kernel_initializer='he_uniform')(x)\n",
        "x = Activation(\"relu\")(x)\n",
        "x = MaxPooling2D(pool_size=(2, 2))(x)\n",
        "x = SpatialDropout2D(0.15)(x)\n",
        "x = BatchNormalization()(x)\n",
        "\n",
        "x = SeparableConv2D(256, (3, 3), padding=\"same\", kernel_initializer='he_uniform')(x)\n",
        "x = Activation(\"relu\")(x)\n",
        "x = MaxPooling2D(pool_size=(2, 2))(x)\n",
        "x = SpatialDropout2D(0.2)(x)\n",
        "x = BatchNormalization()(x)\n",
        "\n",
        "x = SeparableConv2D(256, (3, 3), padding=\"same\", kernel_initializer='he_uniform')(x)\n",
        "x = Activation(\"relu\")(x)\n",
        "x = MaxPooling2D(pool_size=(2, 2))(x)\n",
        "x = SpatialDropout2D(0.2)(x)\n",
        "x = BatchNormalization()(x)\n",
        "\n",
        "x = Flatten()(x)\n",
        "\n",
        "x = Dense(128 , kernel_initializer='he_uniform' )(x)\n",
        "x = Activation(\"relu\")(x)\n",
        "x = Dropout(0.30)(x)\n",
        "x = BatchNormalization()(x)\n",
        "\n",
        "x = Dense(64 , kernel_initializer='he_uniform')(x)\n",
        "x = Activation(\"relu\")(x)\n",
        "x = Dropout(0.30)(x)\n",
        "x = BatchNormalization()(x)\n",
        "\n",
        "x = Dense(32, kernel_initializer='he_uniform')(x)\n",
        "x = Activation(\"relu\")(x)\n",
        "x = BatchNormalization()(x)\n",
        "\n",
        "x = Dense(1, kernel_initializer='he_uniform')(x)\n",
        "x = Activation(\"relu\")(x)           \n",
        "\n",
        "age_model = Model(inputs=inputs, outputs=x)"
      ],
      "execution_count": null,
      "outputs": []
    },
    {
      "cell_type": "code",
      "metadata": {
        "id": "-mr0cpKEtYwT",
        "colab_type": "code",
        "colab": {}
      },
      "source": [
        "from keras.models import load_model\n",
        "new_model = load_model('/content/drive/My Drive/Colab Notebooks/Age and Gender Detection from Faces/UTKFace Dataset/Age Estimation weights/AE_Adam')"
      ],
      "execution_count": null,
      "outputs": []
    },
    {
      "cell_type": "code",
      "metadata": {
        "id": "1NYyHzlZtgxw",
        "colab_type": "code",
        "colab": {
          "base_uri": "https://localhost:8080/",
          "height": 1000
        },
        "outputId": "5161c5e3-9c3f-4fe9-d7a3-fe72b2183e0e"
      },
      "source": [
        "new_model.summary()"
      ],
      "execution_count": null,
      "outputs": [
        {
          "output_type": "stream",
          "text": [
            "Model: \"model_3\"\n",
            "_________________________________________________________________\n",
            "Layer (type)                 Output Shape              Param #   \n",
            "=================================================================\n",
            "input_3 (InputLayer)         (None, 180, 180, 3)       0         \n",
            "_________________________________________________________________\n",
            "separable_conv2d_11 (Separab (None, 180, 180, 64)      283       \n",
            "_________________________________________________________________\n",
            "activation_19 (Activation)   (None, 180, 180, 64)      0         \n",
            "_________________________________________________________________\n",
            "max_pooling2d_11 (MaxPooling (None, 90, 90, 64)        0         \n",
            "_________________________________________________________________\n",
            "batch_normalization_17 (Batc (None, 90, 90, 64)        256       \n",
            "_________________________________________________________________\n",
            "separable_conv2d_12 (Separab (None, 90, 90, 128)       8896      \n",
            "_________________________________________________________________\n",
            "activation_20 (Activation)   (None, 90, 90, 128)       0         \n",
            "_________________________________________________________________\n",
            "max_pooling2d_12 (MaxPooling (None, 45, 45, 128)       0         \n",
            "_________________________________________________________________\n",
            "batch_normalization_18 (Batc (None, 45, 45, 128)       512       \n",
            "_________________________________________________________________\n",
            "separable_conv2d_13 (Separab (None, 45, 45, 128)       17664     \n",
            "_________________________________________________________________\n",
            "activation_21 (Activation)   (None, 45, 45, 128)       0         \n",
            "_________________________________________________________________\n",
            "max_pooling2d_13 (MaxPooling (None, 22, 22, 128)       0         \n",
            "_________________________________________________________________\n",
            "spatial_dropout2d_7 (Spatial (None, 22, 22, 128)       0         \n",
            "_________________________________________________________________\n",
            "batch_normalization_19 (Batc (None, 22, 22, 128)       512       \n",
            "_________________________________________________________________\n",
            "separable_conv2d_14 (Separab (None, 22, 22, 256)       34176     \n",
            "_________________________________________________________________\n",
            "activation_22 (Activation)   (None, 22, 22, 256)       0         \n",
            "_________________________________________________________________\n",
            "max_pooling2d_14 (MaxPooling (None, 11, 11, 256)       0         \n",
            "_________________________________________________________________\n",
            "spatial_dropout2d_8 (Spatial (None, 11, 11, 256)       0         \n",
            "_________________________________________________________________\n",
            "batch_normalization_20 (Batc (None, 11, 11, 256)       1024      \n",
            "_________________________________________________________________\n",
            "separable_conv2d_15 (Separab (None, 11, 11, 256)       68096     \n",
            "_________________________________________________________________\n",
            "activation_23 (Activation)   (None, 11, 11, 256)       0         \n",
            "_________________________________________________________________\n",
            "max_pooling2d_15 (MaxPooling (None, 5, 5, 256)         0         \n",
            "_________________________________________________________________\n",
            "spatial_dropout2d_9 (Spatial (None, 5, 5, 256)         0         \n",
            "_________________________________________________________________\n",
            "batch_normalization_21 (Batc (None, 5, 5, 256)         1024      \n",
            "_________________________________________________________________\n",
            "flatten_3 (Flatten)          (None, 6400)              0         \n",
            "_________________________________________________________________\n",
            "dense_9 (Dense)              (None, 128)               819328    \n",
            "_________________________________________________________________\n",
            "activation_24 (Activation)   (None, 128)               0         \n",
            "_________________________________________________________________\n",
            "dropout_5 (Dropout)          (None, 128)               0         \n",
            "_________________________________________________________________\n",
            "batch_normalization_22 (Batc (None, 128)               512       \n",
            "_________________________________________________________________\n",
            "dense_10 (Dense)             (None, 64)                8256      \n",
            "_________________________________________________________________\n",
            "activation_25 (Activation)   (None, 64)                0         \n",
            "_________________________________________________________________\n",
            "dropout_6 (Dropout)          (None, 64)                0         \n",
            "_________________________________________________________________\n",
            "batch_normalization_23 (Batc (None, 64)                256       \n",
            "_________________________________________________________________\n",
            "dense_11 (Dense)             (None, 32)                2080      \n",
            "_________________________________________________________________\n",
            "activation_26 (Activation)   (None, 32)                0         \n",
            "_________________________________________________________________\n",
            "batch_normalization_24 (Batc (None, 32)                128       \n",
            "_________________________________________________________________\n",
            "dense_12 (Dense)             (None, 1)                 33        \n",
            "_________________________________________________________________\n",
            "activation_27 (Activation)   (None, 1)                 0         \n",
            "=================================================================\n",
            "Total params: 963,036\n",
            "Trainable params: 960,924\n",
            "Non-trainable params: 2,112\n",
            "_________________________________________________________________\n"
          ],
          "name": "stdout"
        }
      ]
    },
    {
      "cell_type": "markdown",
      "metadata": {
        "id": "fCzY1eIF6ZHX",
        "colab_type": "text"
      },
      "source": [
        "## ADAM Optimizer\n",
        "\n",
        "### Model training - \n",
        "\n"
      ]
    },
    {
      "cell_type": "code",
      "metadata": {
        "id": "SgCUzjdYwuS3",
        "colab_type": "code",
        "colab": {
          "base_uri": "https://localhost:8080/",
          "height": 1000
        },
        "outputId": "a1f0ad20-0440-42b3-8ba8-24c81c919398"
      },
      "source": [
        "from keras.optimizers import Adam\n",
        "from keras.callbacks import LearningRateScheduler\n",
        "import math\n",
        "\n",
        "def step_decay(epoch):\n",
        "\tinitial_lrate = 0.005\n",
        "\tdrop = 0.55\n",
        "\tepochs_drop = 7.0\n",
        "\tlrate = initial_lrate * math.pow(drop, math.floor((1+epoch)/epochs_drop))\n",
        "\treturn lrate      \n",
        "\n",
        "opt = Adam(lr=0.0)\n",
        "lrate = LearningRateScheduler(step_decay)\n",
        "callbacks_list = [lrate]\n",
        "\n",
        "age_model.compile(loss='mse', optimizer=opt, metrics=['mae','mse'])\n",
        "\n",
        "train_gen = generate_images(train_idx, is_training=True, batch_size=32)\n",
        "valid_gen = generate_images(val_idx, is_training=True, batch_size=32)\n",
        "\n",
        "\n",
        "history = age_model.fit_generator(train_gen, steps_per_epoch = len(train_idx)//32, epochs=40  , callbacks=callbacks_list,\n",
        "                     validation_data=valid_gen, validation_steps=len(val_idx)//32)\n",
        "\n"
      ],
      "execution_count": null,
      "outputs": [
        {
          "output_type": "stream",
          "text": [
            "Epoch 1/40\n",
            "600/600 [==============================] - 134s 223ms/step - loss: 496.6126 - mae: 16.8980 - mse: 496.6127 - val_loss: 654.1354 - val_mae: 16.7468 - val_mse: 458.8914\n",
            "Epoch 2/40\n",
            "600/600 [==============================] - 131s 219ms/step - loss: 230.6666 - mae: 11.4112 - mse: 230.6666 - val_loss: 968.1262 - val_mae: 20.3374 - val_mse: 600.0867\n",
            "Epoch 3/40\n",
            "600/600 [==============================] - 131s 218ms/step - loss: 171.7136 - mae: 9.7758 - mse: 171.7136 - val_loss: 176.2883 - val_mae: 9.0411 - val_mse: 146.0942\n",
            "Epoch 4/40\n",
            "600/600 [==============================] - 131s 219ms/step - loss: 155.3511 - mae: 9.2206 - mse: 155.3511 - val_loss: 180.0714 - val_mae: 8.7201 - val_mse: 140.4620\n",
            "Epoch 5/40\n",
            "600/600 [==============================] - 132s 220ms/step - loss: 151.9019 - mae: 9.0985 - mse: 151.9018 - val_loss: 170.5188 - val_mae: 8.3136 - val_mse: 136.4547\n",
            "Epoch 6/40\n",
            "600/600 [==============================] - 132s 220ms/step - loss: 139.8874 - mae: 8.7103 - mse: 139.8874 - val_loss: 164.3913 - val_mae: 8.1475 - val_mse: 111.4963\n",
            "Epoch 7/40\n",
            "600/600 [==============================] - 132s 220ms/step - loss: 124.2768 - mae: 8.2016 - mse: 124.2769 - val_loss: 70.1156 - val_mae: 7.3296 - val_mse: 98.0501\n",
            "Epoch 8/40\n",
            "600/600 [==============================] - 133s 221ms/step - loss: 133.1124 - mae: 8.4105 - mse: 133.1125 - val_loss: 117.1659 - val_mae: 8.0776 - val_mse: 111.0239\n",
            "Epoch 9/40\n",
            "600/600 [==============================] - 132s 220ms/step - loss: 120.0714 - mae: 8.0548 - mse: 120.0714 - val_loss: 77.1997 - val_mae: 7.3809 - val_mse: 95.2578\n",
            "Epoch 10/40\n",
            "600/600 [==============================] - 131s 219ms/step - loss: 114.6810 - mae: 7.8958 - mse: 114.6809 - val_loss: 117.9232 - val_mae: 7.7702 - val_mse: 112.8931\n",
            "Epoch 11/40\n",
            "600/600 [==============================] - 131s 219ms/step - loss: 113.4751 - mae: 7.8550 - mse: 113.4751 - val_loss: 123.4795 - val_mae: 9.0568 - val_mse: 136.0049\n",
            "Epoch 12/40\n",
            "600/600 [==============================] - 131s 218ms/step - loss: 107.7582 - mae: 7.6468 - mse: 107.7582 - val_loss: 106.7496 - val_mae: 7.5925 - val_mse: 97.4085\n",
            "Epoch 13/40\n",
            "600/600 [==============================] - 130s 217ms/step - loss: 107.2847 - mae: 7.6341 - mse: 107.2847 - val_loss: 72.4185 - val_mae: 7.5353 - val_mse: 95.3563\n",
            "Epoch 14/40\n",
            "600/600 [==============================] - 133s 221ms/step - loss: 97.9010 - mae: 7.2786 - mse: 97.9010 - val_loss: 62.6628 - val_mae: 6.7490 - val_mse: 84.0226\n",
            "Epoch 15/40\n",
            "600/600 [==============================] - 133s 221ms/step - loss: 94.9017 - mae: 7.1911 - mse: 94.9016 - val_loss: 75.0540 - val_mae: 7.1506 - val_mse: 89.0849\n",
            "Epoch 16/40\n",
            "600/600 [==============================] - 131s 219ms/step - loss: 93.9400 - mae: 7.1161 - mse: 93.9400 - val_loss: 43.4759 - val_mae: 7.0227 - val_mse: 84.8669\n",
            "Epoch 17/40\n",
            "600/600 [==============================] - 131s 218ms/step - loss: 92.1838 - mae: 7.0602 - mse: 92.1839 - val_loss: 77.0309 - val_mae: 6.8277 - val_mse: 86.2980\n",
            "Epoch 18/40\n",
            "600/600 [==============================] - 131s 219ms/step - loss: 88.9127 - mae: 6.9574 - mse: 88.9126 - val_loss: 83.8803 - val_mae: 7.0340 - val_mse: 86.1835\n",
            "Epoch 19/40\n",
            "600/600 [==============================] - 131s 218ms/step - loss: 87.9325 - mae: 6.9314 - mse: 87.9325 - val_loss: 95.6705 - val_mae: 7.0130 - val_mse: 85.3615\n",
            "Epoch 20/40\n",
            "600/600 [==============================] - 131s 218ms/step - loss: 86.8732 - mae: 6.8534 - mse: 86.8732 - val_loss: 112.6751 - val_mae: 6.5581 - val_mse: 78.7888\n",
            "Epoch 21/40\n",
            "600/600 [==============================] - 131s 219ms/step - loss: 83.6555 - mae: 6.7493 - mse: 83.6555 - val_loss: 118.1892 - val_mae: 6.8731 - val_mse: 83.6927\n",
            "Epoch 22/40\n",
            "600/600 [==============================] - 132s 220ms/step - loss: 79.9687 - mae: 6.5975 - mse: 79.9686 - val_loss: 78.7274 - val_mae: 6.8663 - val_mse: 82.6722\n",
            "Epoch 23/40\n",
            "600/600 [==============================] - 131s 218ms/step - loss: 78.0119 - mae: 6.5272 - mse: 78.0119 - val_loss: 78.0564 - val_mae: 6.4714 - val_mse: 77.9133\n",
            "Epoch 24/40\n",
            "600/600 [==============================] - 131s 218ms/step - loss: 77.2354 - mae: 6.4984 - mse: 77.2354 - val_loss: 99.6103 - val_mae: 6.3813 - val_mse: 76.7064\n",
            "Epoch 25/40\n",
            "600/600 [==============================] - 130s 217ms/step - loss: 76.4981 - mae: 6.4939 - mse: 76.4981 - val_loss: 90.2240 - val_mae: 6.5594 - val_mse: 77.3028\n",
            "Epoch 26/40\n",
            "600/600 [==============================] - 130s 217ms/step - loss: 76.7434 - mae: 6.4756 - mse: 76.7434 - val_loss: 61.3577 - val_mae: 6.6009 - val_mse: 80.4401\n",
            "Epoch 27/40\n",
            "600/600 [==============================] - 131s 218ms/step - loss: 75.0313 - mae: 6.3893 - mse: 75.0313 - val_loss: 64.5276 - val_mae: 6.3729 - val_mse: 74.9829\n",
            "Epoch 28/40\n",
            "600/600 [==============================] - 131s 218ms/step - loss: 75.3466 - mae: 6.3946 - mse: 75.3466 - val_loss: 30.5670 - val_mae: 6.4309 - val_mse: 75.0306\n",
            "Epoch 29/40\n",
            "600/600 [==============================] - 130s 217ms/step - loss: 74.3995 - mae: 6.3852 - mse: 74.3995 - val_loss: 51.4134 - val_mae: 6.3556 - val_mse: 74.4263\n",
            "Epoch 30/40\n",
            "600/600 [==============================] - 131s 218ms/step - loss: 73.0979 - mae: 6.3461 - mse: 73.0979 - val_loss: 62.6470 - val_mae: 6.7108 - val_mse: 79.3819\n",
            "Epoch 31/40\n",
            "600/600 [==============================] - 131s 218ms/step - loss: 74.9676 - mae: 6.3960 - mse: 74.9676 - val_loss: 89.5066 - val_mae: 6.2291 - val_mse: 73.7055\n",
            "Epoch 32/40\n",
            "600/600 [==============================] - 131s 218ms/step - loss: 71.3685 - mae: 6.2800 - mse: 71.3685 - val_loss: 97.5293 - val_mae: 6.2764 - val_mse: 73.4944\n",
            "Epoch 33/40\n",
            "600/600 [==============================] - 131s 218ms/step - loss: 70.6655 - mae: 6.2423 - mse: 70.6655 - val_loss: 74.4206 - val_mae: 6.1451 - val_mse: 71.6984\n",
            "Epoch 34/40\n",
            "600/600 [==============================] - 131s 218ms/step - loss: 68.5405 - mae: 6.1527 - mse: 68.5404 - val_loss: 102.0520 - val_mae: 6.2952 - val_mse: 73.3269\n",
            "Epoch 35/40\n",
            "600/600 [==============================] - 130s 216ms/step - loss: 68.7843 - mae: 6.1656 - mse: 68.7843 - val_loss: 108.1327 - val_mae: 6.2152 - val_mse: 73.2562\n",
            "Epoch 36/40\n",
            "600/600 [==============================] - 131s 219ms/step - loss: 68.2046 - mae: 6.1228 - mse: 68.2045 - val_loss: 62.1682 - val_mae: 6.1786 - val_mse: 72.8090\n",
            "Epoch 37/40\n",
            "600/600 [==============================] - 132s 220ms/step - loss: 67.4143 - mae: 6.0810 - mse: 67.4143 - val_loss: 41.5668 - val_mae: 6.2184 - val_mse: 73.2960\n",
            "Epoch 38/40\n",
            "600/600 [==============================] - 131s 218ms/step - loss: 68.1591 - mae: 6.1107 - mse: 68.1591 - val_loss: 39.6732 - val_mae: 6.2706 - val_mse: 73.5279\n",
            "Epoch 39/40\n",
            "600/600 [==============================] - 131s 218ms/step - loss: 68.6986 - mae: 6.1543 - mse: 68.6986 - val_loss: 113.1777 - val_mae: 6.3020 - val_mse: 74.3676\n",
            "Epoch 40/40\n",
            "600/600 [==============================] - 131s 218ms/step - loss: 67.5446 - mae: 6.1013 - mse: 67.5446 - val_loss: 88.1406 - val_mae: 6.2099 - val_mse: 73.2072\n"
          ],
          "name": "stdout"
        }
      ]
    },
    {
      "cell_type": "markdown",
      "metadata": {
        "id": "uTqAXDmP54AH",
        "colab_type": "text"
      },
      "source": [
        "To better understand our model performance, lemme plot some graphs."
      ]
    },
    {
      "cell_type": "code",
      "metadata": {
        "id": "ytRiPJmZh4J8",
        "colab_type": "code",
        "colab": {
          "base_uri": "https://localhost:8080/",
          "height": 534
        },
        "outputId": "52d5035a-c63c-4e4e-8c05-779f1143cb59"
      },
      "source": [
        "import plotly.graph_objects as go\n",
        "\n",
        "plt.clf()\n",
        "\n",
        "fig = go.Figure()\n",
        "fig.add_trace(go.Scatter(\n",
        "                    y=history.history['loss'],\n",
        "                    name='Train'))\n",
        "\n",
        "fig.add_trace(go.Scatter(\n",
        "                    y=history.history['val_loss'],\n",
        "                    name='Validation'))\n",
        "\n",
        "\n",
        "fig.update_layout(height=500, \n",
        "                  width=700,\n",
        "                  title='Train vs Val Loss',\n",
        "                  xaxis_title='Epoch',\n",
        "                  yaxis_title='loss')\n",
        "\n",
        "\n",
        "fig.show()"
      ],
      "execution_count": null,
      "outputs": [
        {
          "output_type": "display_data",
          "data": {
            "text/html": [
              "<html>\n",
              "<head><meta charset=\"utf-8\" /></head>\n",
              "<body>\n",
              "    <div>\n",
              "            <script src=\"https://cdnjs.cloudflare.com/ajax/libs/mathjax/2.7.5/MathJax.js?config=TeX-AMS-MML_SVG\"></script><script type=\"text/javascript\">if (window.MathJax) {MathJax.Hub.Config({SVG: {font: \"STIX-Web\"}});}</script>\n",
              "                <script type=\"text/javascript\">window.PlotlyConfig = {MathJaxConfig: 'local'};</script>\n",
              "        <script src=\"https://cdn.plot.ly/plotly-latest.min.js\"></script>    \n",
              "            <div id=\"7d7f6333-badb-4661-b595-b4c3e633837f\" class=\"plotly-graph-div\" style=\"height:500px; width:700px;\"></div>\n",
              "            <script type=\"text/javascript\">\n",
              "                \n",
              "                    window.PLOTLYENV=window.PLOTLYENV || {};\n",
              "                    \n",
              "                if (document.getElementById(\"7d7f6333-badb-4661-b595-b4c3e633837f\")) {\n",
              "                    Plotly.newPlot(\n",
              "                        '7d7f6333-badb-4661-b595-b4c3e633837f',\n",
              "                        [{\"name\": \"Train\", \"type\": \"scatter\", \"y\": [496.61258368174236, 230.66661231358847, 171.71362219492593, 155.35109356562296, 151.90194279988606, 139.8874416923523, 124.27684988657633, 133.1124305152893, 120.07139091491699, 114.68096419652304, 113.47513666788737, 107.75823914210001, 107.28466209411621, 97.90101244608562, 94.90165820439657, 93.93997917175292, 92.1838498878479, 88.9126645565033, 87.93247655868531, 86.87317153294882, 83.65554479599, 79.96866765975952, 78.01193861007691, 77.23538982073465, 76.49810765902201, 76.74342627843221, 75.03133195877075, 75.34663334528605, 74.3994821548462, 73.09790477434794, 74.9675962416331, 71.36848093986511, 70.66548506418864, 68.540465965271, 68.7842599995931, 68.20456650416057, 67.41430994669597, 68.1591159248352, 68.6985685602824, 67.54461666742961]}, {\"name\": \"Validation\", \"type\": \"scatter\", \"y\": [654.1354370117188, 968.126220703125, 176.28834533691406, 180.0714111328125, 170.51878356933594, 164.3912811279297, 70.11560821533203, 117.16592407226562, 77.19974517822266, 117.92320251464844, 123.47954559326172, 106.74958801269531, 72.41848754882812, 62.66276168823242, 75.05404663085938, 43.47590637207031, 77.03093719482422, 83.88032531738281, 95.6705093383789, 112.67512512207031, 118.18915557861328, 78.72740936279297, 78.05642700195312, 99.61027526855469, 90.2240219116211, 61.35769271850586, 64.52761840820312, 30.56698989868164, 51.41344451904297, 62.64702224731445, 89.50659942626953, 97.52931213378906, 74.42057800292969, 102.0519790649414, 108.1327133178711, 62.168209075927734, 41.566810607910156, 39.673160552978516, 113.177734375, 88.14061737060547]}],\n",
              "                        {\"height\": 500, \"template\": {\"data\": {\"bar\": [{\"error_x\": {\"color\": \"#2a3f5f\"}, \"error_y\": {\"color\": \"#2a3f5f\"}, \"marker\": {\"line\": {\"color\": \"#E5ECF6\", \"width\": 0.5}}, \"type\": \"bar\"}], \"barpolar\": [{\"marker\": {\"line\": {\"color\": \"#E5ECF6\", \"width\": 0.5}}, \"type\": \"barpolar\"}], \"carpet\": [{\"aaxis\": {\"endlinecolor\": \"#2a3f5f\", \"gridcolor\": \"white\", \"linecolor\": \"white\", \"minorgridcolor\": \"white\", \"startlinecolor\": \"#2a3f5f\"}, \"baxis\": {\"endlinecolor\": \"#2a3f5f\", \"gridcolor\": \"white\", \"linecolor\": \"white\", \"minorgridcolor\": \"white\", \"startlinecolor\": \"#2a3f5f\"}, \"type\": \"carpet\"}], \"choropleth\": [{\"colorbar\": {\"outlinewidth\": 0, \"ticks\": \"\"}, \"type\": \"choropleth\"}], \"contour\": [{\"colorbar\": {\"outlinewidth\": 0, \"ticks\": \"\"}, \"colorscale\": [[0.0, \"#0d0887\"], [0.1111111111111111, \"#46039f\"], [0.2222222222222222, \"#7201a8\"], [0.3333333333333333, \"#9c179e\"], [0.4444444444444444, \"#bd3786\"], [0.5555555555555556, \"#d8576b\"], [0.6666666666666666, \"#ed7953\"], [0.7777777777777778, \"#fb9f3a\"], [0.8888888888888888, \"#fdca26\"], [1.0, \"#f0f921\"]], \"type\": \"contour\"}], \"contourcarpet\": [{\"colorbar\": {\"outlinewidth\": 0, \"ticks\": \"\"}, \"type\": \"contourcarpet\"}], \"heatmap\": [{\"colorbar\": {\"outlinewidth\": 0, \"ticks\": \"\"}, \"colorscale\": [[0.0, \"#0d0887\"], [0.1111111111111111, \"#46039f\"], [0.2222222222222222, \"#7201a8\"], [0.3333333333333333, \"#9c179e\"], [0.4444444444444444, \"#bd3786\"], [0.5555555555555556, \"#d8576b\"], [0.6666666666666666, \"#ed7953\"], [0.7777777777777778, \"#fb9f3a\"], [0.8888888888888888, \"#fdca26\"], [1.0, \"#f0f921\"]], \"type\": \"heatmap\"}], \"heatmapgl\": [{\"colorbar\": {\"outlinewidth\": 0, \"ticks\": \"\"}, \"colorscale\": [[0.0, \"#0d0887\"], [0.1111111111111111, \"#46039f\"], [0.2222222222222222, \"#7201a8\"], [0.3333333333333333, \"#9c179e\"], [0.4444444444444444, \"#bd3786\"], [0.5555555555555556, \"#d8576b\"], [0.6666666666666666, \"#ed7953\"], [0.7777777777777778, \"#fb9f3a\"], [0.8888888888888888, \"#fdca26\"], [1.0, \"#f0f921\"]], \"type\": \"heatmapgl\"}], \"histogram\": [{\"marker\": {\"colorbar\": {\"outlinewidth\": 0, \"ticks\": \"\"}}, \"type\": \"histogram\"}], \"histogram2d\": [{\"colorbar\": {\"outlinewidth\": 0, \"ticks\": \"\"}, \"colorscale\": [[0.0, \"#0d0887\"], [0.1111111111111111, \"#46039f\"], [0.2222222222222222, \"#7201a8\"], [0.3333333333333333, \"#9c179e\"], [0.4444444444444444, \"#bd3786\"], [0.5555555555555556, \"#d8576b\"], [0.6666666666666666, \"#ed7953\"], [0.7777777777777778, \"#fb9f3a\"], [0.8888888888888888, \"#fdca26\"], [1.0, \"#f0f921\"]], \"type\": \"histogram2d\"}], \"histogram2dcontour\": [{\"colorbar\": {\"outlinewidth\": 0, \"ticks\": \"\"}, \"colorscale\": [[0.0, \"#0d0887\"], [0.1111111111111111, \"#46039f\"], [0.2222222222222222, \"#7201a8\"], [0.3333333333333333, \"#9c179e\"], [0.4444444444444444, \"#bd3786\"], [0.5555555555555556, \"#d8576b\"], [0.6666666666666666, \"#ed7953\"], [0.7777777777777778, \"#fb9f3a\"], [0.8888888888888888, \"#fdca26\"], [1.0, \"#f0f921\"]], \"type\": \"histogram2dcontour\"}], \"mesh3d\": [{\"colorbar\": {\"outlinewidth\": 0, \"ticks\": \"\"}, \"type\": \"mesh3d\"}], \"parcoords\": [{\"line\": {\"colorbar\": {\"outlinewidth\": 0, \"ticks\": \"\"}}, \"type\": \"parcoords\"}], \"pie\": [{\"automargin\": true, \"type\": \"pie\"}], \"scatter\": [{\"marker\": {\"colorbar\": {\"outlinewidth\": 0, \"ticks\": \"\"}}, \"type\": \"scatter\"}], \"scatter3d\": [{\"line\": {\"colorbar\": {\"outlinewidth\": 0, \"ticks\": \"\"}}, \"marker\": {\"colorbar\": {\"outlinewidth\": 0, \"ticks\": \"\"}}, \"type\": \"scatter3d\"}], \"scattercarpet\": [{\"marker\": {\"colorbar\": {\"outlinewidth\": 0, \"ticks\": \"\"}}, \"type\": \"scattercarpet\"}], \"scattergeo\": [{\"marker\": {\"colorbar\": {\"outlinewidth\": 0, \"ticks\": \"\"}}, \"type\": \"scattergeo\"}], \"scattergl\": [{\"marker\": {\"colorbar\": {\"outlinewidth\": 0, \"ticks\": \"\"}}, \"type\": \"scattergl\"}], \"scattermapbox\": [{\"marker\": {\"colorbar\": {\"outlinewidth\": 0, \"ticks\": \"\"}}, \"type\": \"scattermapbox\"}], \"scatterpolar\": [{\"marker\": {\"colorbar\": {\"outlinewidth\": 0, \"ticks\": \"\"}}, \"type\": \"scatterpolar\"}], \"scatterpolargl\": [{\"marker\": {\"colorbar\": {\"outlinewidth\": 0, \"ticks\": \"\"}}, \"type\": \"scatterpolargl\"}], \"scatterternary\": [{\"marker\": {\"colorbar\": {\"outlinewidth\": 0, \"ticks\": \"\"}}, \"type\": \"scatterternary\"}], \"surface\": [{\"colorbar\": {\"outlinewidth\": 0, \"ticks\": \"\"}, \"colorscale\": [[0.0, \"#0d0887\"], [0.1111111111111111, \"#46039f\"], [0.2222222222222222, \"#7201a8\"], [0.3333333333333333, \"#9c179e\"], [0.4444444444444444, \"#bd3786\"], [0.5555555555555556, \"#d8576b\"], [0.6666666666666666, \"#ed7953\"], [0.7777777777777778, \"#fb9f3a\"], [0.8888888888888888, \"#fdca26\"], [1.0, \"#f0f921\"]], \"type\": \"surface\"}], \"table\": [{\"cells\": {\"fill\": {\"color\": \"#EBF0F8\"}, \"line\": {\"color\": \"white\"}}, \"header\": {\"fill\": {\"color\": \"#C8D4E3\"}, \"line\": {\"color\": \"white\"}}, \"type\": \"table\"}]}, \"layout\": {\"annotationdefaults\": {\"arrowcolor\": \"#2a3f5f\", \"arrowhead\": 0, \"arrowwidth\": 1}, \"coloraxis\": {\"colorbar\": {\"outlinewidth\": 0, \"ticks\": \"\"}}, \"colorscale\": {\"diverging\": [[0, \"#8e0152\"], [0.1, \"#c51b7d\"], [0.2, \"#de77ae\"], [0.3, \"#f1b6da\"], [0.4, \"#fde0ef\"], [0.5, \"#f7f7f7\"], [0.6, \"#e6f5d0\"], [0.7, \"#b8e186\"], [0.8, \"#7fbc41\"], [0.9, \"#4d9221\"], [1, \"#276419\"]], \"sequential\": [[0.0, \"#0d0887\"], [0.1111111111111111, \"#46039f\"], [0.2222222222222222, \"#7201a8\"], [0.3333333333333333, \"#9c179e\"], [0.4444444444444444, \"#bd3786\"], [0.5555555555555556, \"#d8576b\"], [0.6666666666666666, \"#ed7953\"], [0.7777777777777778, \"#fb9f3a\"], [0.8888888888888888, \"#fdca26\"], [1.0, \"#f0f921\"]], \"sequentialminus\": [[0.0, \"#0d0887\"], [0.1111111111111111, \"#46039f\"], [0.2222222222222222, \"#7201a8\"], [0.3333333333333333, \"#9c179e\"], [0.4444444444444444, \"#bd3786\"], [0.5555555555555556, \"#d8576b\"], [0.6666666666666666, \"#ed7953\"], [0.7777777777777778, \"#fb9f3a\"], [0.8888888888888888, \"#fdca26\"], [1.0, \"#f0f921\"]]}, \"colorway\": [\"#636efa\", \"#EF553B\", \"#00cc96\", \"#ab63fa\", \"#FFA15A\", \"#19d3f3\", \"#FF6692\", \"#B6E880\", \"#FF97FF\", \"#FECB52\"], \"font\": {\"color\": \"#2a3f5f\"}, \"geo\": {\"bgcolor\": \"white\", \"lakecolor\": \"white\", \"landcolor\": \"#E5ECF6\", \"showlakes\": true, \"showland\": true, \"subunitcolor\": \"white\"}, \"hoverlabel\": {\"align\": \"left\"}, \"hovermode\": \"closest\", \"mapbox\": {\"style\": \"light\"}, \"paper_bgcolor\": \"white\", \"plot_bgcolor\": \"#E5ECF6\", \"polar\": {\"angularaxis\": {\"gridcolor\": \"white\", \"linecolor\": \"white\", \"ticks\": \"\"}, \"bgcolor\": \"#E5ECF6\", \"radialaxis\": {\"gridcolor\": \"white\", \"linecolor\": \"white\", \"ticks\": \"\"}}, \"scene\": {\"xaxis\": {\"backgroundcolor\": \"#E5ECF6\", \"gridcolor\": \"white\", \"gridwidth\": 2, \"linecolor\": \"white\", \"showbackground\": true, \"ticks\": \"\", \"zerolinecolor\": \"white\"}, \"yaxis\": {\"backgroundcolor\": \"#E5ECF6\", \"gridcolor\": \"white\", \"gridwidth\": 2, \"linecolor\": \"white\", \"showbackground\": true, \"ticks\": \"\", \"zerolinecolor\": \"white\"}, \"zaxis\": {\"backgroundcolor\": \"#E5ECF6\", \"gridcolor\": \"white\", \"gridwidth\": 2, \"linecolor\": \"white\", \"showbackground\": true, \"ticks\": \"\", \"zerolinecolor\": \"white\"}}, \"shapedefaults\": {\"line\": {\"color\": \"#2a3f5f\"}}, \"ternary\": {\"aaxis\": {\"gridcolor\": \"white\", \"linecolor\": \"white\", \"ticks\": \"\"}, \"baxis\": {\"gridcolor\": \"white\", \"linecolor\": \"white\", \"ticks\": \"\"}, \"bgcolor\": \"#E5ECF6\", \"caxis\": {\"gridcolor\": \"white\", \"linecolor\": \"white\", \"ticks\": \"\"}}, \"title\": {\"x\": 0.05}, \"xaxis\": {\"automargin\": true, \"gridcolor\": \"white\", \"linecolor\": \"white\", \"ticks\": \"\", \"title\": {\"standoff\": 15}, \"zerolinecolor\": \"white\", \"zerolinewidth\": 2}, \"yaxis\": {\"automargin\": true, \"gridcolor\": \"white\", \"linecolor\": \"white\", \"ticks\": \"\", \"title\": {\"standoff\": 15}, \"zerolinecolor\": \"white\", \"zerolinewidth\": 2}}}, \"title\": {\"text\": \"Train vs Val Loss\"}, \"width\": 700, \"xaxis\": {\"title\": {\"text\": \"Epoch\"}}, \"yaxis\": {\"title\": {\"text\": \"loss\"}}},\n",
              "                        {\"responsive\": true}\n",
              "                    ).then(function(){\n",
              "                            \n",
              "var gd = document.getElementById('7d7f6333-badb-4661-b595-b4c3e633837f');\n",
              "var x = new MutationObserver(function (mutations, observer) {{\n",
              "        var display = window.getComputedStyle(gd).display;\n",
              "        if (!display || display === 'none') {{\n",
              "            console.log([gd, 'removed!']);\n",
              "            Plotly.purge(gd);\n",
              "            observer.disconnect();\n",
              "        }}\n",
              "}});\n",
              "\n",
              "// Listen for the removal of the full notebook cells\n",
              "var notebookContainer = gd.closest('#notebook-container');\n",
              "if (notebookContainer) {{\n",
              "    x.observe(notebookContainer, {childList: true});\n",
              "}}\n",
              "\n",
              "// Listen for the clearing of the current output cell\n",
              "var outputEl = gd.closest('.output');\n",
              "if (outputEl) {{\n",
              "    x.observe(outputEl, {childList: true});\n",
              "}}\n",
              "\n",
              "                        })\n",
              "                };\n",
              "                \n",
              "            </script>\n",
              "        </div>\n",
              "</body>\n",
              "</html>"
            ]
          },
          "metadata": {
            "tags": []
          }
        },
        {
          "output_type": "display_data",
          "data": {
            "text/plain": [
              "<Figure size 432x288 with 0 Axes>"
            ]
          },
          "metadata": {
            "tags": []
          }
        }
      ]
    },
    {
      "cell_type": "code",
      "metadata": {
        "id": "vBV7NLZvOL1L",
        "colab_type": "code",
        "colab": {
          "base_uri": "https://localhost:8080/",
          "height": 534
        },
        "outputId": "1da6ec26-bd83-47d7-e103-e5665c3a9aec"
      },
      "source": [
        "import plotly.graph_objects as go\n",
        "\n",
        "plt.clf()\n",
        "\n",
        "fig = go.Figure()\n",
        "fig.add_trace(go.Scatter(\n",
        "                    y=history.history['mae'],\n",
        "                    name='Train'))\n",
        "\n",
        "fig.add_trace(go.Scatter(\n",
        "                    y=history.history['val_mae'],\n",
        "                    name='Validation'))\n",
        "\n",
        "\n",
        "fig.update_layout(height=500, \n",
        "                  width=700,\n",
        "                  title='Train vs Val Mean Absolute Error',\n",
        "                  xaxis_title='Epoch',\n",
        "                  yaxis_title='mae')\n",
        "\n",
        "\n",
        "fig.show()"
      ],
      "execution_count": null,
      "outputs": [
        {
          "output_type": "display_data",
          "data": {
            "text/html": [
              "<html>\n",
              "<head><meta charset=\"utf-8\" /></head>\n",
              "<body>\n",
              "    <div>\n",
              "            <script src=\"https://cdnjs.cloudflare.com/ajax/libs/mathjax/2.7.5/MathJax.js?config=TeX-AMS-MML_SVG\"></script><script type=\"text/javascript\">if (window.MathJax) {MathJax.Hub.Config({SVG: {font: \"STIX-Web\"}});}</script>\n",
              "                <script type=\"text/javascript\">window.PlotlyConfig = {MathJaxConfig: 'local'};</script>\n",
              "        <script src=\"https://cdn.plot.ly/plotly-latest.min.js\"></script>    \n",
              "            <div id=\"dea364b6-61c0-4e6d-8cfa-6a5331d38217\" class=\"plotly-graph-div\" style=\"height:500px; width:700px;\"></div>\n",
              "            <script type=\"text/javascript\">\n",
              "                \n",
              "                    window.PLOTLYENV=window.PLOTLYENV || {};\n",
              "                    \n",
              "                if (document.getElementById(\"dea364b6-61c0-4e6d-8cfa-6a5331d38217\")) {\n",
              "                    Plotly.newPlot(\n",
              "                        'dea364b6-61c0-4e6d-8cfa-6a5331d38217',\n",
              "                        [{\"name\": \"Train\", \"type\": \"scatter\", \"y\": [16.897953033447266, 11.41123104095459, 9.775757789611816, 9.220575332641602, 9.098468780517578, 8.710288047790527, 8.201606750488281, 8.410530090332031, 8.054828643798828, 7.8958258628845215, 7.854963302612305, 7.646839141845703, 7.634113788604736, 7.278621196746826, 7.191137790679932, 7.116094589233398, 7.060213088989258, 6.957409858703613, 6.931405544281006, 6.853400230407715, 6.7492780685424805, 6.59748649597168, 6.527242183685303, 6.4984130859375, 6.493907928466797, 6.475554943084717, 6.389322280883789, 6.394620895385742, 6.38519811630249, 6.346050262451172, 6.396009922027588, 6.280003070831299, 6.242251873016357, 6.15273904800415, 6.165578365325928, 6.12277889251709, 6.080994606018066, 6.110654830932617, 6.1542649269104, 6.101304531097412]}, {\"name\": \"Validation\", \"type\": \"scatter\", \"y\": [16.74675941467285, 20.337421417236328, 9.041057586669922, 8.720069885253906, 8.313610076904297, 8.147527694702148, 7.329621315002441, 8.077644348144531, 7.380855083465576, 7.770158290863037, 9.056814193725586, 7.592501163482666, 7.535261154174805, 6.748982906341553, 7.150644302368164, 7.022700786590576, 6.8277435302734375, 7.0339860916137695, 7.013011455535889, 6.558095932006836, 6.873064994812012, 6.866251468658447, 6.471408843994141, 6.381256103515625, 6.559365272521973, 6.600852966308594, 6.372873783111572, 6.430947303771973, 6.355556964874268, 6.710784912109375, 6.229084014892578, 6.276443958282471, 6.145130157470703, 6.2952070236206055, 6.215174198150635, 6.17857551574707, 6.218377113342285, 6.270584583282471, 6.302005767822266, 6.209906578063965]}],\n",
              "                        {\"height\": 500, \"template\": {\"data\": {\"bar\": [{\"error_x\": {\"color\": \"#2a3f5f\"}, \"error_y\": {\"color\": \"#2a3f5f\"}, \"marker\": {\"line\": {\"color\": \"#E5ECF6\", \"width\": 0.5}}, \"type\": \"bar\"}], \"barpolar\": [{\"marker\": {\"line\": {\"color\": \"#E5ECF6\", \"width\": 0.5}}, \"type\": \"barpolar\"}], \"carpet\": [{\"aaxis\": {\"endlinecolor\": \"#2a3f5f\", \"gridcolor\": \"white\", \"linecolor\": \"white\", \"minorgridcolor\": \"white\", \"startlinecolor\": \"#2a3f5f\"}, \"baxis\": {\"endlinecolor\": \"#2a3f5f\", \"gridcolor\": \"white\", \"linecolor\": \"white\", \"minorgridcolor\": \"white\", \"startlinecolor\": \"#2a3f5f\"}, \"type\": \"carpet\"}], \"choropleth\": [{\"colorbar\": {\"outlinewidth\": 0, \"ticks\": \"\"}, \"type\": \"choropleth\"}], \"contour\": [{\"colorbar\": {\"outlinewidth\": 0, \"ticks\": \"\"}, \"colorscale\": [[0.0, \"#0d0887\"], [0.1111111111111111, \"#46039f\"], [0.2222222222222222, \"#7201a8\"], [0.3333333333333333, \"#9c179e\"], [0.4444444444444444, \"#bd3786\"], [0.5555555555555556, \"#d8576b\"], [0.6666666666666666, \"#ed7953\"], [0.7777777777777778, \"#fb9f3a\"], [0.8888888888888888, \"#fdca26\"], [1.0, \"#f0f921\"]], \"type\": \"contour\"}], \"contourcarpet\": [{\"colorbar\": {\"outlinewidth\": 0, \"ticks\": \"\"}, \"type\": \"contourcarpet\"}], \"heatmap\": [{\"colorbar\": {\"outlinewidth\": 0, \"ticks\": \"\"}, \"colorscale\": [[0.0, \"#0d0887\"], [0.1111111111111111, \"#46039f\"], [0.2222222222222222, \"#7201a8\"], [0.3333333333333333, \"#9c179e\"], [0.4444444444444444, \"#bd3786\"], [0.5555555555555556, \"#d8576b\"], [0.6666666666666666, \"#ed7953\"], [0.7777777777777778, \"#fb9f3a\"], [0.8888888888888888, \"#fdca26\"], [1.0, \"#f0f921\"]], \"type\": \"heatmap\"}], \"heatmapgl\": [{\"colorbar\": {\"outlinewidth\": 0, \"ticks\": \"\"}, \"colorscale\": [[0.0, \"#0d0887\"], [0.1111111111111111, \"#46039f\"], [0.2222222222222222, \"#7201a8\"], [0.3333333333333333, \"#9c179e\"], [0.4444444444444444, \"#bd3786\"], [0.5555555555555556, \"#d8576b\"], [0.6666666666666666, \"#ed7953\"], [0.7777777777777778, \"#fb9f3a\"], [0.8888888888888888, \"#fdca26\"], [1.0, \"#f0f921\"]], \"type\": \"heatmapgl\"}], \"histogram\": [{\"marker\": {\"colorbar\": {\"outlinewidth\": 0, \"ticks\": \"\"}}, \"type\": \"histogram\"}], \"histogram2d\": [{\"colorbar\": {\"outlinewidth\": 0, \"ticks\": \"\"}, \"colorscale\": [[0.0, \"#0d0887\"], [0.1111111111111111, \"#46039f\"], [0.2222222222222222, \"#7201a8\"], [0.3333333333333333, \"#9c179e\"], [0.4444444444444444, \"#bd3786\"], [0.5555555555555556, \"#d8576b\"], [0.6666666666666666, \"#ed7953\"], [0.7777777777777778, \"#fb9f3a\"], [0.8888888888888888, \"#fdca26\"], [1.0, \"#f0f921\"]], \"type\": \"histogram2d\"}], \"histogram2dcontour\": [{\"colorbar\": {\"outlinewidth\": 0, \"ticks\": \"\"}, \"colorscale\": [[0.0, \"#0d0887\"], [0.1111111111111111, \"#46039f\"], [0.2222222222222222, \"#7201a8\"], [0.3333333333333333, \"#9c179e\"], [0.4444444444444444, \"#bd3786\"], [0.5555555555555556, \"#d8576b\"], [0.6666666666666666, \"#ed7953\"], [0.7777777777777778, \"#fb9f3a\"], [0.8888888888888888, \"#fdca26\"], [1.0, \"#f0f921\"]], \"type\": \"histogram2dcontour\"}], \"mesh3d\": [{\"colorbar\": {\"outlinewidth\": 0, \"ticks\": \"\"}, \"type\": \"mesh3d\"}], \"parcoords\": [{\"line\": {\"colorbar\": {\"outlinewidth\": 0, \"ticks\": \"\"}}, \"type\": \"parcoords\"}], \"pie\": [{\"automargin\": true, \"type\": \"pie\"}], \"scatter\": [{\"marker\": {\"colorbar\": {\"outlinewidth\": 0, \"ticks\": \"\"}}, \"type\": \"scatter\"}], \"scatter3d\": [{\"line\": {\"colorbar\": {\"outlinewidth\": 0, \"ticks\": \"\"}}, \"marker\": {\"colorbar\": {\"outlinewidth\": 0, \"ticks\": \"\"}}, \"type\": \"scatter3d\"}], \"scattercarpet\": [{\"marker\": {\"colorbar\": {\"outlinewidth\": 0, \"ticks\": \"\"}}, \"type\": \"scattercarpet\"}], \"scattergeo\": [{\"marker\": {\"colorbar\": {\"outlinewidth\": 0, \"ticks\": \"\"}}, \"type\": \"scattergeo\"}], \"scattergl\": [{\"marker\": {\"colorbar\": {\"outlinewidth\": 0, \"ticks\": \"\"}}, \"type\": \"scattergl\"}], \"scattermapbox\": [{\"marker\": {\"colorbar\": {\"outlinewidth\": 0, \"ticks\": \"\"}}, \"type\": \"scattermapbox\"}], \"scatterpolar\": [{\"marker\": {\"colorbar\": {\"outlinewidth\": 0, \"ticks\": \"\"}}, \"type\": \"scatterpolar\"}], \"scatterpolargl\": [{\"marker\": {\"colorbar\": {\"outlinewidth\": 0, \"ticks\": \"\"}}, \"type\": \"scatterpolargl\"}], \"scatterternary\": [{\"marker\": {\"colorbar\": {\"outlinewidth\": 0, \"ticks\": \"\"}}, \"type\": \"scatterternary\"}], \"surface\": [{\"colorbar\": {\"outlinewidth\": 0, \"ticks\": \"\"}, \"colorscale\": [[0.0, \"#0d0887\"], [0.1111111111111111, \"#46039f\"], [0.2222222222222222, \"#7201a8\"], [0.3333333333333333, \"#9c179e\"], [0.4444444444444444, \"#bd3786\"], [0.5555555555555556, \"#d8576b\"], [0.6666666666666666, \"#ed7953\"], [0.7777777777777778, \"#fb9f3a\"], [0.8888888888888888, \"#fdca26\"], [1.0, \"#f0f921\"]], \"type\": \"surface\"}], \"table\": [{\"cells\": {\"fill\": {\"color\": \"#EBF0F8\"}, \"line\": {\"color\": \"white\"}}, \"header\": {\"fill\": {\"color\": \"#C8D4E3\"}, \"line\": {\"color\": \"white\"}}, \"type\": \"table\"}]}, \"layout\": {\"annotationdefaults\": {\"arrowcolor\": \"#2a3f5f\", \"arrowhead\": 0, \"arrowwidth\": 1}, \"coloraxis\": {\"colorbar\": {\"outlinewidth\": 0, \"ticks\": \"\"}}, \"colorscale\": {\"diverging\": [[0, \"#8e0152\"], [0.1, \"#c51b7d\"], [0.2, \"#de77ae\"], [0.3, \"#f1b6da\"], [0.4, \"#fde0ef\"], [0.5, \"#f7f7f7\"], [0.6, \"#e6f5d0\"], [0.7, \"#b8e186\"], [0.8, \"#7fbc41\"], [0.9, \"#4d9221\"], [1, \"#276419\"]], \"sequential\": [[0.0, \"#0d0887\"], [0.1111111111111111, \"#46039f\"], [0.2222222222222222, \"#7201a8\"], [0.3333333333333333, \"#9c179e\"], [0.4444444444444444, \"#bd3786\"], [0.5555555555555556, \"#d8576b\"], [0.6666666666666666, \"#ed7953\"], [0.7777777777777778, \"#fb9f3a\"], [0.8888888888888888, \"#fdca26\"], [1.0, \"#f0f921\"]], \"sequentialminus\": [[0.0, \"#0d0887\"], [0.1111111111111111, \"#46039f\"], [0.2222222222222222, \"#7201a8\"], [0.3333333333333333, \"#9c179e\"], [0.4444444444444444, \"#bd3786\"], [0.5555555555555556, \"#d8576b\"], [0.6666666666666666, \"#ed7953\"], [0.7777777777777778, \"#fb9f3a\"], [0.8888888888888888, \"#fdca26\"], [1.0, \"#f0f921\"]]}, \"colorway\": [\"#636efa\", \"#EF553B\", \"#00cc96\", \"#ab63fa\", \"#FFA15A\", \"#19d3f3\", \"#FF6692\", \"#B6E880\", \"#FF97FF\", \"#FECB52\"], \"font\": {\"color\": \"#2a3f5f\"}, \"geo\": {\"bgcolor\": \"white\", \"lakecolor\": \"white\", \"landcolor\": \"#E5ECF6\", \"showlakes\": true, \"showland\": true, \"subunitcolor\": \"white\"}, \"hoverlabel\": {\"align\": \"left\"}, \"hovermode\": \"closest\", \"mapbox\": {\"style\": \"light\"}, \"paper_bgcolor\": \"white\", \"plot_bgcolor\": \"#E5ECF6\", \"polar\": {\"angularaxis\": {\"gridcolor\": \"white\", \"linecolor\": \"white\", \"ticks\": \"\"}, \"bgcolor\": \"#E5ECF6\", \"radialaxis\": {\"gridcolor\": \"white\", \"linecolor\": \"white\", \"ticks\": \"\"}}, \"scene\": {\"xaxis\": {\"backgroundcolor\": \"#E5ECF6\", \"gridcolor\": \"white\", \"gridwidth\": 2, \"linecolor\": \"white\", \"showbackground\": true, \"ticks\": \"\", \"zerolinecolor\": \"white\"}, \"yaxis\": {\"backgroundcolor\": \"#E5ECF6\", \"gridcolor\": \"white\", \"gridwidth\": 2, \"linecolor\": \"white\", \"showbackground\": true, \"ticks\": \"\", \"zerolinecolor\": \"white\"}, \"zaxis\": {\"backgroundcolor\": \"#E5ECF6\", \"gridcolor\": \"white\", \"gridwidth\": 2, \"linecolor\": \"white\", \"showbackground\": true, \"ticks\": \"\", \"zerolinecolor\": \"white\"}}, \"shapedefaults\": {\"line\": {\"color\": \"#2a3f5f\"}}, \"ternary\": {\"aaxis\": {\"gridcolor\": \"white\", \"linecolor\": \"white\", \"ticks\": \"\"}, \"baxis\": {\"gridcolor\": \"white\", \"linecolor\": \"white\", \"ticks\": \"\"}, \"bgcolor\": \"#E5ECF6\", \"caxis\": {\"gridcolor\": \"white\", \"linecolor\": \"white\", \"ticks\": \"\"}}, \"title\": {\"x\": 0.05}, \"xaxis\": {\"automargin\": true, \"gridcolor\": \"white\", \"linecolor\": \"white\", \"ticks\": \"\", \"title\": {\"standoff\": 15}, \"zerolinecolor\": \"white\", \"zerolinewidth\": 2}, \"yaxis\": {\"automargin\": true, \"gridcolor\": \"white\", \"linecolor\": \"white\", \"ticks\": \"\", \"title\": {\"standoff\": 15}, \"zerolinecolor\": \"white\", \"zerolinewidth\": 2}}}, \"title\": {\"text\": \"Train vs Val Mean Absolute Error\"}, \"width\": 700, \"xaxis\": {\"title\": {\"text\": \"Epoch\"}}, \"yaxis\": {\"title\": {\"text\": \"mae\"}}},\n",
              "                        {\"responsive\": true}\n",
              "                    ).then(function(){\n",
              "                            \n",
              "var gd = document.getElementById('dea364b6-61c0-4e6d-8cfa-6a5331d38217');\n",
              "var x = new MutationObserver(function (mutations, observer) {{\n",
              "        var display = window.getComputedStyle(gd).display;\n",
              "        if (!display || display === 'none') {{\n",
              "            console.log([gd, 'removed!']);\n",
              "            Plotly.purge(gd);\n",
              "            observer.disconnect();\n",
              "        }}\n",
              "}});\n",
              "\n",
              "// Listen for the removal of the full notebook cells\n",
              "var notebookContainer = gd.closest('#notebook-container');\n",
              "if (notebookContainer) {{\n",
              "    x.observe(notebookContainer, {childList: true});\n",
              "}}\n",
              "\n",
              "// Listen for the clearing of the current output cell\n",
              "var outputEl = gd.closest('.output');\n",
              "if (outputEl) {{\n",
              "    x.observe(outputEl, {childList: true});\n",
              "}}\n",
              "\n",
              "                        })\n",
              "                };\n",
              "                \n",
              "            </script>\n",
              "        </div>\n",
              "</body>\n",
              "</html>"
            ]
          },
          "metadata": {
            "tags": []
          }
        },
        {
          "output_type": "display_data",
          "data": {
            "text/plain": [
              "<Figure size 432x288 with 0 Axes>"
            ]
          },
          "metadata": {
            "tags": []
          }
        }
      ]
    },
    {
      "cell_type": "markdown",
      "metadata": {
        "id": "M6QNNkV03bM_",
        "colab_type": "text"
      },
      "source": [
        "Let's train the model some more, with a new lr of 0.0005. Possibly the lr of 0.00025 was too small for the model to learn by the end of above training."
      ]
    },
    {
      "cell_type": "code",
      "metadata": {
        "id": "p3_1RoS7wSW3",
        "colab_type": "code",
        "colab": {
          "base_uri": "https://localhost:8080/",
          "height": 689
        },
        "outputId": "94e5fb14-79f2-4ca9-f49e-fd8601f16e26"
      },
      "source": [
        "from keras.optimizers import Adam\n",
        "from keras.callbacks import LearningRateScheduler\n",
        "import math\n",
        "\n",
        "def step_decay(epoch):\n",
        "\tinitial_lrate = 0.0005\n",
        "\tdrop = 0.55\n",
        "\tepochs_drop = 7.0\n",
        "\tlrate = initial_lrate * math.pow(drop, math.floor((1+epoch)/epochs_drop))\n",
        "\treturn lrate      \n",
        "\n",
        "opt = Adam(lr=0.0)\n",
        "lrate = LearningRateScheduler(step_decay)\n",
        "callbacks_list = [lrate]\n",
        "\n",
        "age_model.compile(loss='mse', optimizer=opt, metrics=['mae','mse'])\n",
        "\n",
        "train_gen = generate_images(train_idx, is_training=True, batch_size=32)\n",
        "valid_gen = generate_images(val_idx, is_training=True, batch_size=32)\n",
        "\n",
        "\n",
        "history = age_model.fit_generator(train_gen, steps_per_epoch = len(train_idx)//32, epochs=20  , callbacks=callbacks_list,\n",
        "                     validation_data=valid_gen, validation_steps=len(val_idx)//32)\n",
        "\n"
      ],
      "execution_count": null,
      "outputs": [
        {
          "output_type": "stream",
          "text": [
            "Epoch 1/20\n",
            "600/600 [==============================] - 135s 225ms/step - loss: 66.8388 - mae: 6.0642 - mse: 66.8388 - val_loss: 34.1724 - val_mae: 6.3035 - val_mse: 73.7042\n",
            "Epoch 2/20\n",
            "600/600 [==============================] - 132s 219ms/step - loss: 65.7291 - mae: 6.0426 - mse: 65.7291 - val_loss: 55.9451 - val_mae: 6.3035 - val_mse: 77.3307\n",
            "Epoch 3/20\n",
            "600/600 [==============================] - 131s 218ms/step - loss: 65.3892 - mae: 6.0114 - mse: 65.3892 - val_loss: 100.6685 - val_mae: 6.2286 - val_mse: 72.4301\n",
            "Epoch 4/20\n",
            "600/600 [==============================] - 131s 218ms/step - loss: 63.2278 - mae: 5.9496 - mse: 63.2278 - val_loss: 122.8247 - val_mae: 6.2870 - val_mse: 75.2266\n",
            "Epoch 5/20\n",
            "600/600 [==============================] - 131s 219ms/step - loss: 63.4045 - mae: 5.9219 - mse: 63.4044 - val_loss: 125.1567 - val_mae: 6.2654 - val_mse: 74.1210\n",
            "Epoch 6/20\n",
            "600/600 [==============================] - 131s 218ms/step - loss: 63.3157 - mae: 5.9043 - mse: 63.3157 - val_loss: 153.5701 - val_mae: 6.1708 - val_mse: 72.4367\n",
            "Epoch 7/20\n",
            "600/600 [==============================] - 131s 219ms/step - loss: 62.8825 - mae: 5.8917 - mse: 62.8825 - val_loss: 48.9589 - val_mae: 6.1499 - val_mse: 71.8055\n",
            "Epoch 8/20\n",
            "600/600 [==============================] - 131s 218ms/step - loss: 63.2256 - mae: 5.9189 - mse: 63.2256 - val_loss: 65.8505 - val_mae: 6.1702 - val_mse: 72.9659\n",
            "Epoch 9/20\n",
            "600/600 [==============================] - 131s 218ms/step - loss: 63.1616 - mae: 5.9146 - mse: 63.1616 - val_loss: 54.7877 - val_mae: 6.2362 - val_mse: 78.6288\n",
            "Epoch 10/20\n",
            "600/600 [==============================] - 131s 218ms/step - loss: 61.1380 - mae: 5.8386 - mse: 61.1380 - val_loss: 80.5463 - val_mae: 6.2526 - val_mse: 75.1167\n",
            "Epoch 11/20\n",
            "600/600 [==============================] - 130s 217ms/step - loss: 59.5731 - mae: 5.7528 - mse: 59.5731 - val_loss: 50.4689 - val_mae: 6.2355 - val_mse: 76.3693\n",
            "Epoch 12/20\n",
            "600/600 [==============================] - 131s 218ms/step - loss: 57.8260 - mae: 5.6871 - mse: 57.8260 - val_loss: 130.2824 - val_mae: 6.2698 - val_mse: 77.9002\n",
            "Epoch 13/20\n",
            "600/600 [==============================] - 131s 218ms/step - loss: 58.0601 - mae: 5.6918 - mse: 58.0601 - val_loss: 60.0833 - val_mae: 6.1887 - val_mse: 75.3774\n",
            "Epoch 14/20\n",
            "600/600 [==============================] - 131s 219ms/step - loss: 57.8853 - mae: 5.6589 - mse: 57.8853 - val_loss: 60.5342 - val_mae: 6.1979 - val_mse: 75.0255\n",
            "Epoch 15/20\n",
            "600/600 [==============================] - 132s 219ms/step - loss: 56.9566 - mae: 5.6417 - mse: 56.9566 - val_loss: 54.5142 - val_mae: 6.1359 - val_mse: 73.7870\n",
            "Epoch 16/20\n",
            "600/600 [==============================] - 131s 219ms/step - loss: 57.6007 - mae: 5.6672 - mse: 57.6007 - val_loss: 35.6393 - val_mae: 6.1380 - val_mse: 74.1697\n",
            "Epoch 17/20\n",
            "600/600 [==============================] - 131s 219ms/step - loss: 57.2787 - mae: 5.6309 - mse: 57.2787 - val_loss: 54.3976 - val_mae: 6.1516 - val_mse: 74.2405\n",
            "Epoch 18/20\n",
            "600/600 [==============================] - 131s 219ms/step - loss: 56.3938 - mae: 5.6178 - mse: 56.3938 - val_loss: 62.6181 - val_mae: 6.2088 - val_mse: 74.4776\n",
            "Epoch 19/20\n",
            "600/600 [==============================] - 133s 222ms/step - loss: 56.1149 - mae: 5.5949 - mse: 56.1149 - val_loss: 79.1129 - val_mae: 6.1321 - val_mse: 73.5253\n",
            "Epoch 20/20\n",
            "600/600 [==============================] - 131s 219ms/step - loss: 56.5412 - mae: 5.6221 - mse: 56.5412 - val_loss: 105.9949 - val_mae: 6.1411 - val_mse: 75.9595\n"
          ],
          "name": "stdout"
        }
      ]
    },
    {
      "cell_type": "markdown",
      "metadata": {
        "id": "2EIjVmIA6IRx",
        "colab_type": "text"
      },
      "source": [
        "I found that model performance was not increasing beyod this (infact the model seems to be overfitting now) so I stopped the training. First let me save the model for future use/deployment."
      ]
    },
    {
      "cell_type": "code",
      "metadata": {
        "id": "jjArjRQ9h8Rh",
        "colab_type": "code",
        "colab": {}
      },
      "source": [
        "age_model.save('/content/drive/My Drive/Colab Notebooks/Age and Gender Detection from Faces/Silvertouch Technologies/UTKFace Dataset/AE2')\n",
        "age_model.save('/content/drive/My Drive/Colab Notebooks/Age and Gender Detection from Faces/Silvertouch Technologies/UTKFace Dataset/AE2.h5')\n",
        "\n",
        "# Saving the above run model. "
      ],
      "execution_count": null,
      "outputs": []
    },
    {
      "cell_type": "markdown",
      "metadata": {
        "id": "G9bHXL166dZF",
        "colab_type": "text"
      },
      "source": [
        "### Model testing - "
      ]
    },
    {
      "cell_type": "markdown",
      "metadata": {
        "id": "2KWgV5UipYxL",
        "colab_type": "text"
      },
      "source": [
        "In order to assess how our model performs on the test set, let's use our UTK data generator class, but this time using the test indexes. We will then call the `predict_generator` method from our trained model, which will output our the predictions for the test set."
      ]
    },
    {
      "cell_type": "code",
      "metadata": {
        "id": "t3KZekM7CLiP",
        "colab_type": "code",
        "colab": {
          "base_uri": "https://localhost:8080/",
          "height": 67
        },
        "outputId": "4d13bb63-17e3-40a3-f0cf-1665b2bc10c9"
      },
      "source": [
        "print(train_idx.size)\n",
        "print(val_idx.size)\n",
        "print(test_idx.size)"
      ],
      "execution_count": null,
      "outputs": [
        {
          "output_type": "stream",
          "text": [
            "19203\n",
            "2134\n",
            "2371\n"
          ],
          "name": "stdout"
        }
      ]
    },
    {
      "cell_type": "code",
      "metadata": {
        "id": "zWv0JtD6-7G9",
        "colab_type": "code",
        "colab": {
          "base_uri": "https://localhost:8080/",
          "height": 168
        },
        "outputId": "0b284bdd-a3e1-49da-ead0-a1b312193057"
      },
      "source": [
        "test_generator = generate_images(test_idx, is_training=False, batch_size=1)\n",
        "results = new_model.predict_generator(test_generator, steps = 2371)\n",
        "print(results.size)\n",
        "print('')\n",
        "print(results)            # The predicted ages for the test set\n",
        "\n",
        "# So here, batch_size=1 denotes that each time the function is called, a single image is evaluated upon\n",
        "# step_size=2371 denotes the total number of steps (batches of samples) to yield from generator before stopping.\n",
        "# We want all samples to be evaluated upon hence its 2371. Any more than that and a error pops up."
      ],
      "execution_count": null,
      "outputs": [
        {
          "output_type": "stream",
          "text": [
            "2371\n",
            "\n",
            "[[26.163465 ]\n",
            " [32.17791  ]\n",
            " [15.984862 ]\n",
            " ...\n",
            " [34.888096 ]\n",
            " [ 3.6490734]\n",
            " [22.76588  ]]\n"
          ],
          "name": "stdout"
        }
      ]
    },
    {
      "cell_type": "code",
      "metadata": {
        "id": "6CK6mzxAHbfC",
        "colab_type": "code",
        "colab": {
          "base_uri": "https://localhost:8080/",
          "height": 134
        },
        "outputId": "844656d1-2fec-4317-ec00-a1f3e67619c8"
      },
      "source": [
        "# Let's see the actual ages (of top 3 and last 3 entries in test_idx, cause that's what visible above :P)\n",
        "\n",
        "print(test_idx)\n",
        "print(df.iloc[12772]['age'])\n",
        "print(df.iloc[2874]['age'])\n",
        "print(df.iloc[18889]['age'])\n",
        "\n",
        "print(df.iloc[11347]['age'])\n",
        "print(df.iloc[23700]['age'])\n",
        "print(df.iloc[1670]['age'])\n"
      ],
      "execution_count": null,
      "outputs": [
        {
          "output_type": "stream",
          "text": [
            "[12772  2874 18889 ... 11347 23700  1670]\n",
            "28.0\n",
            "28.0\n",
            "8.0\n",
            "54.0\n",
            "2.0\n",
            "15.0\n"
          ],
          "name": "stdout"
        }
      ]
    },
    {
      "cell_type": "markdown",
      "metadata": {
        "id": "MWC-qaFh39SQ",
        "colab_type": "text"
      },
      "source": [
        "Our model is fairly accurate. Let's get exact performance result on the whole test set."
      ]
    },
    {
      "cell_type": "code",
      "metadata": {
        "id": "WlWOVpGiIZ7T",
        "colab_type": "code",
        "colab": {
          "base_uri": "https://localhost:8080/",
          "height": 34
        },
        "outputId": "56e639f2-74c7-438f-c7e6-904f7bd4fd5f"
      },
      "source": [
        "count=0\n",
        "ans=0\n",
        "for i in test_idx:\n",
        "    x = df.iloc[i]['age']\n",
        "    ans+= abs(x-results[count][0])\n",
        "    count+=1\n",
        "print(ans/2371)"
      ],
      "execution_count": null,
      "outputs": [
        {
          "output_type": "stream",
          "text": [
            "5.916076824816909\n"
          ],
          "name": "stdout"
        }
      ]
    },
    {
      "cell_type": "code",
      "metadata": {
        "id": "fI2WlcF7EB_r",
        "colab_type": "code",
        "colab": {
          "base_uri": "https://localhost:8080/",
          "height": 50
        },
        "outputId": "e5950a7d-81b6-4f05-c1d2-d91973e70c4a"
      },
      "source": [
        "test_generator = generate_images(test_idx, is_training=False, batch_size=1)\n",
        "new_model.evaluate(test_generator, steps = 2371)\n",
        "\n",
        "# O/p of the format - Loss, mae , mse"
      ],
      "execution_count": null,
      "outputs": [
        {
          "output_type": "stream",
          "text": [
            "2371/2371 [==============================] - 19s 8ms/step\n"
          ],
          "name": "stdout"
        },
        {
          "output_type": "execute_result",
          "data": {
            "text/plain": [
              "[60.308902740478516, 5.91607141494751, 68.88619995117188]"
            ]
          },
          "metadata": {
            "tags": []
          },
          "execution_count": 52
        }
      ]
    },
    {
      "cell_type": "markdown",
      "metadata": {
        "id": "rLlftvyGySAw",
        "colab_type": "text"
      },
      "source": [
        "## ADAMAX Optimizer\n",
        "\n",
        "### Model training - \n"
      ]
    },
    {
      "cell_type": "code",
      "metadata": {
        "id": "d-QPoy3u_wr-",
        "colab_type": "code",
        "colab": {
          "base_uri": "https://localhost:8080/",
          "height": 1000
        },
        "outputId": "9c75b925-27f0-4130-f5b5-8a4c43a4cdbf"
      },
      "source": [
        "from keras.optimizers import Adamax\n",
        "from keras.callbacks import LearningRateScheduler\n",
        "import math\n",
        "\n",
        "def step_decay(epoch):\n",
        "\tinitial_lrate = 0.004\n",
        "\tdrop = 0.55\n",
        "\tepochs_drop = 9.0\n",
        "\tlrate = initial_lrate * math.pow(drop, math.floor((1+epoch)/epochs_drop))\n",
        "\treturn lrate      \n",
        "\n",
        "opt = Adamax(lr=0.0)\n",
        "lrate = LearningRateScheduler(step_decay)\n",
        "callbacks_list = [lrate]\n",
        "\n",
        "age_model.compile(loss='mse', optimizer=opt, metrics=['mae','mse'])\n",
        "\n",
        "train_gen = generate_images(train_idx, is_training=True, batch_size=32)\n",
        "valid_gen = generate_images(val_idx, is_training=True, batch_size=32)\n",
        "\n",
        "\n",
        "history = age_model.fit_generator(train_gen, steps_per_epoch = len(train_idx)//32, epochs=40  , callbacks=callbacks_list,\n",
        "                     validation_data=valid_gen, validation_steps=len(val_idx)//32)\n",
        "\n"
      ],
      "execution_count": null,
      "outputs": [
        {
          "output_type": "stream",
          "text": [
            "Epoch 1/40\n",
            " 84/600 [===>..........................] - ETA: 2:49:16 - loss: 1221.6685 - mae: 29.3002 - mse: 1221.6685"
          ],
          "name": "stdout"
        },
        {
          "output_type": "stream",
          "text": [
            "/usr/local/lib/python3.6/dist-packages/keras/utils/data_utils.py:718: UserWarning: An input could not be retrieved. It could be because a worker has died.We do not have any information on the lost sample.\n",
            "  UserWarning)\n"
          ],
          "name": "stderr"
        },
        {
          "output_type": "stream",
          "text": [
            "600/600 [==============================] - 12624s 21s/step - loss: 546.2733 - mae: 17.2480 - mse: 546.2729 - val_loss: 182.3372 - val_mae: 11.2943 - val_mse: 216.8876\n",
            "Epoch 2/40\n",
            "600/600 [==============================] - 154s 257ms/step - loss: 198.5685 - mae: 10.2820 - mse: 198.5684 - val_loss: 145.6675 - val_mae: 9.0611 - val_mse: 150.0463\n",
            "Epoch 3/40\n",
            "600/600 [==============================] - 153s 255ms/step - loss: 156.1903 - mae: 9.1047 - mse: 156.1903 - val_loss: 138.3265 - val_mae: 8.3177 - val_mse: 120.2016\n",
            "Epoch 4/40\n",
            "600/600 [==============================] - 153s 255ms/step - loss: 133.7020 - mae: 8.4581 - mse: 133.7020 - val_loss: 89.0360 - val_mae: 8.5176 - val_mse: 118.1823\n",
            "Epoch 5/40\n",
            "600/600 [==============================] - 152s 254ms/step - loss: 122.7014 - mae: 8.1429 - mse: 122.7014 - val_loss: 133.5085 - val_mae: 7.3875 - val_mse: 95.1366\n",
            "Epoch 6/40\n",
            "600/600 [==============================] - 153s 254ms/step - loss: 115.7568 - mae: 7.9023 - mse: 115.7569 - val_loss: 138.2901 - val_mae: 6.8130 - val_mse: 86.3859\n",
            "Epoch 7/40\n",
            "600/600 [==============================] - 150s 249ms/step - loss: 109.3335 - mae: 7.7010 - mse: 109.3335 - val_loss: 56.5925 - val_mae: 6.7787 - val_mse: 85.3902\n",
            "Epoch 8/40\n",
            "600/600 [==============================] - 149s 249ms/step - loss: 105.7185 - mae: 7.5709 - mse: 105.7185 - val_loss: 45.1032 - val_mae: 7.5165 - val_mse: 95.8397\n",
            "Epoch 9/40\n",
            "600/600 [==============================] - 148s 247ms/step - loss: 97.7292 - mae: 7.3408 - mse: 97.7292 - val_loss: 54.4157 - val_mae: 6.5398 - val_mse: 76.3486\n",
            "Epoch 10/40\n",
            "600/600 [==============================] - 150s 250ms/step - loss: 92.4085 - mae: 7.1212 - mse: 92.4085 - val_loss: 86.4982 - val_mae: 6.5770 - val_mse: 76.1686\n",
            "Epoch 11/40\n",
            "600/600 [==============================] - 149s 249ms/step - loss: 88.7904 - mae: 6.9688 - mse: 88.7904 - val_loss: 76.9640 - val_mae: 6.4359 - val_mse: 78.6288\n",
            "Epoch 12/40\n",
            "600/600 [==============================] - 150s 250ms/step - loss: 85.1286 - mae: 6.8153 - mse: 85.1286 - val_loss: 77.9579 - val_mae: 6.2099 - val_mse: 71.2506\n",
            "Epoch 13/40\n",
            "600/600 [==============================] - 149s 248ms/step - loss: 84.3252 - mae: 6.8204 - mse: 84.3252 - val_loss: 44.1753 - val_mae: 6.3263 - val_mse: 73.1506\n",
            "Epoch 14/40\n",
            "600/600 [==============================] - 150s 249ms/step - loss: 82.6371 - mae: 6.7311 - mse: 82.6371 - val_loss: 68.2871 - val_mae: 7.0039 - val_mse: 88.0399\n",
            "Epoch 15/40\n",
            "600/600 [==============================] - 148s 247ms/step - loss: 80.1522 - mae: 6.6329 - mse: 80.1522 - val_loss: 75.3453 - val_mae: 6.3499 - val_mse: 71.9797\n",
            "Epoch 16/40\n",
            "600/600 [==============================] - 150s 249ms/step - loss: 80.1645 - mae: 6.6095 - mse: 80.1644 - val_loss: 53.3160 - val_mae: 6.3382 - val_mse: 72.3987\n",
            "Epoch 17/40\n",
            "600/600 [==============================] - 150s 250ms/step - loss: 78.9862 - mae: 6.5645 - mse: 78.9862 - val_loss: 81.8695 - val_mae: 7.1331 - val_mse: 91.9759\n",
            "Epoch 18/40\n",
            "600/600 [==============================] - 150s 249ms/step - loss: 75.0685 - mae: 6.4129 - mse: 75.0685 - val_loss: 71.8036 - val_mae: 6.1009 - val_mse: 68.7689\n",
            "Epoch 19/40\n",
            "600/600 [==============================] - 148s 247ms/step - loss: 71.4356 - mae: 6.2602 - mse: 71.4356 - val_loss: 69.4725 - val_mae: 6.0506 - val_mse: 66.2313\n",
            "Epoch 20/40\n",
            "600/600 [==============================] - 150s 250ms/step - loss: 70.9005 - mae: 6.2523 - mse: 70.9005 - val_loss: 82.1857 - val_mae: 5.9971 - val_mse: 65.2982\n",
            "Epoch 21/40\n",
            "600/600 [==============================] - 149s 248ms/step - loss: 69.8973 - mae: 6.2047 - mse: 69.8974 - val_loss: 117.2782 - val_mae: 6.0695 - val_mse: 66.0871\n",
            "Epoch 22/40\n",
            "600/600 [==============================] - 150s 250ms/step - loss: 67.7683 - mae: 6.1123 - mse: 67.7684 - val_loss: 80.3440 - val_mae: 6.0154 - val_mse: 66.5590\n",
            "Epoch 23/40\n",
            "600/600 [==============================] - 149s 248ms/step - loss: 66.6361 - mae: 6.0747 - mse: 66.6361 - val_loss: 45.1755 - val_mae: 6.0761 - val_mse: 65.3828\n",
            "Epoch 24/40\n",
            "600/600 [==============================] - 150s 250ms/step - loss: 65.2484 - mae: 6.0023 - mse: 65.2484 - val_loss: 66.4563 - val_mae: 5.9915 - val_mse: 65.1273\n",
            "Epoch 25/40\n",
            "600/600 [==============================] - 149s 248ms/step - loss: 65.5616 - mae: 6.0059 - mse: 65.5616 - val_loss: 50.9184 - val_mae: 6.0232 - val_mse: 65.3138\n",
            "Epoch 26/40\n",
            "600/600 [==============================] - 150s 250ms/step - loss: 63.6981 - mae: 5.9369 - mse: 63.6981 - val_loss: 42.7478 - val_mae: 6.0943 - val_mse: 67.6656\n",
            "Epoch 27/40\n",
            "600/600 [==============================] - 149s 249ms/step - loss: 64.7468 - mae: 6.0033 - mse: 64.7468 - val_loss: 68.4030 - val_mae: 5.9640 - val_mse: 64.9198\n",
            "Epoch 28/40\n",
            "600/600 [==============================] - 149s 248ms/step - loss: 63.2741 - mae: 5.9247 - mse: 63.2742 - val_loss: 35.7633 - val_mae: 5.8931 - val_mse: 63.2270\n",
            "Epoch 29/40\n",
            "600/600 [==============================] - 153s 255ms/step - loss: 61.8835 - mae: 5.8701 - mse: 61.8835 - val_loss: 81.0965 - val_mae: 5.8208 - val_mse: 63.1297\n",
            "Epoch 30/40\n",
            "600/600 [==============================] - 153s 255ms/step - loss: 61.6009 - mae: 5.8367 - mse: 61.6009 - val_loss: 78.0035 - val_mae: 5.8489 - val_mse: 62.2585\n",
            "Epoch 31/40\n",
            "600/600 [==============================] - 154s 256ms/step - loss: 61.1038 - mae: 5.8296 - mse: 61.1038 - val_loss: 73.1398 - val_mae: 5.8399 - val_mse: 62.6299\n",
            "Epoch 32/40\n",
            "600/600 [==============================] - 153s 255ms/step - loss: 60.0893 - mae: 5.7869 - mse: 60.0893 - val_loss: 68.4636 - val_mae: 5.8040 - val_mse: 63.1889\n",
            "Epoch 33/40\n",
            "600/600 [==============================] - 153s 255ms/step - loss: 59.3726 - mae: 5.7684 - mse: 59.3726 - val_loss: 87.7253 - val_mae: 5.8566 - val_mse: 62.8759\n",
            "Epoch 34/40\n",
            "600/600 [==============================] - 154s 257ms/step - loss: 59.4409 - mae: 5.7486 - mse: 59.4409 - val_loss: 95.9291 - val_mae: 5.8128 - val_mse: 61.7477\n",
            "Epoch 35/40\n",
            "600/600 [==============================] - 154s 257ms/step - loss: 58.8554 - mae: 5.7442 - mse: 58.8554 - val_loss: 104.7046 - val_mae: 5.8207 - val_mse: 62.7298\n",
            "Epoch 36/40\n",
            "600/600 [==============================] - 154s 256ms/step - loss: 57.8886 - mae: 5.6544 - mse: 57.8886 - val_loss: 72.0376 - val_mae: 5.7540 - val_mse: 61.2184\n",
            "Epoch 37/40\n",
            "600/600 [==============================] - 154s 257ms/step - loss: 57.4721 - mae: 5.6504 - mse: 57.4721 - val_loss: 26.5847 - val_mae: 5.7646 - val_mse: 61.8798\n",
            "Epoch 38/40\n",
            "600/600 [==============================] - 153s 255ms/step - loss: 57.6995 - mae: 5.6727 - mse: 57.6995 - val_loss: 29.9130 - val_mae: 5.7406 - val_mse: 62.0603\n",
            "Epoch 39/40\n",
            "600/600 [==============================] - 155s 258ms/step - loss: 57.6222 - mae: 5.6681 - mse: 57.6223 - val_loss: 49.1395 - val_mae: 5.7961 - val_mse: 62.3145\n",
            "Epoch 40/40\n",
            "600/600 [==============================] - 154s 257ms/step - loss: 56.8346 - mae: 5.6146 - mse: 56.8346 - val_loss: 56.7397 - val_mae: 5.8136 - val_mse: 62.0296\n"
          ],
          "name": "stdout"
        }
      ]
    },
    {
      "cell_type": "code",
      "metadata": {
        "colab_type": "code",
        "id": "Fs7YxPmX_7CK",
        "colab": {
          "base_uri": "https://localhost:8080/",
          "height": 534
        },
        "outputId": "5974a430-f0dd-4205-8b9d-5e71dac4973c"
      },
      "source": [
        "import plotly.graph_objects as go\n",
        "\n",
        "plt.clf()\n",
        "\n",
        "fig = go.Figure()\n",
        "fig.add_trace(go.Scatter(\n",
        "                    y=history.history['loss'],\n",
        "                    name='Train'))\n",
        "\n",
        "fig.add_trace(go.Scatter(\n",
        "                    y=history.history['val_loss'],\n",
        "                    name='Validation'))\n",
        "\n",
        "\n",
        "fig.update_layout(height=500, \n",
        "                  width=800,\n",
        "                  title='Train vs Val Loss',\n",
        "                  xaxis_title='Epoch',\n",
        "                  yaxis_title='loss')\n",
        "\n",
        "\n",
        "fig.show()"
      ],
      "execution_count": null,
      "outputs": [
        {
          "output_type": "display_data",
          "data": {
            "text/html": [
              "<html>\n",
              "<head><meta charset=\"utf-8\" /></head>\n",
              "<body>\n",
              "    <div>\n",
              "            <script src=\"https://cdnjs.cloudflare.com/ajax/libs/mathjax/2.7.5/MathJax.js?config=TeX-AMS-MML_SVG\"></script><script type=\"text/javascript\">if (window.MathJax) {MathJax.Hub.Config({SVG: {font: \"STIX-Web\"}});}</script>\n",
              "                <script type=\"text/javascript\">window.PlotlyConfig = {MathJaxConfig: 'local'};</script>\n",
              "        <script src=\"https://cdn.plot.ly/plotly-latest.min.js\"></script>    \n",
              "            <div id=\"227b490b-55b9-4d00-a817-5f2169562cbc\" class=\"plotly-graph-div\" style=\"height:500px; width:800px;\"></div>\n",
              "            <script type=\"text/javascript\">\n",
              "                \n",
              "                    window.PLOTLYENV=window.PLOTLYENV || {};\n",
              "                    \n",
              "                if (document.getElementById(\"227b490b-55b9-4d00-a817-5f2169562cbc\")) {\n",
              "                    Plotly.newPlot(\n",
              "                        '227b490b-55b9-4d00-a817-5f2169562cbc',\n",
              "                        [{\"name\": \"Train\", \"type\": \"scatter\", \"y\": [546.2732733662923, 198.56846671422323, 156.19027503967285, 133.702020556132, 122.70144742965698, 115.75682755152384, 109.33347358703614, 105.71846850077311, 97.72920542081197, 92.40850668907166, 88.7903729947408, 85.1286311976115, 84.3252386633555, 82.6370902633667, 80.15218019485474, 80.16445126215616, 78.98616867701213, 75.06847287495931, 71.43560645739238, 70.90048570950826, 69.89734628041585, 67.76834645589193, 66.63607853889465, 65.24842823982239, 65.56164432525635, 63.69808419545492, 64.74676190694173, 63.27411625862121, 61.883484830856325, 61.60093944867452, 61.103818470637, 60.08926423072815, 59.37260329882304, 59.44092503547668, 58.85543658574422, 57.88859766960144, 57.4721163336436, 57.69951443195343, 57.62224351247152, 56.83456981976827]}, {\"name\": \"Validation\", \"type\": \"scatter\", \"y\": [182.33721923828125, 145.66754150390625, 138.32647705078125, 89.0359878540039, 133.5084686279297, 138.2900848388672, 56.59248352050781, 45.10318374633789, 54.41569900512695, 86.49819946289062, 76.96401977539062, 77.9578857421875, 44.17528533935547, 68.28707885742188, 75.34530639648438, 53.31596374511719, 81.86952209472656, 71.80360412597656, 69.47248840332031, 82.18565368652344, 117.27821350097656, 80.343994140625, 45.1755485534668, 66.45628356933594, 50.918426513671875, 42.74781799316406, 68.40303802490234, 35.76332092285156, 81.0964584350586, 78.00346374511719, 73.13980102539062, 68.46355438232422, 87.72529602050781, 95.92906951904297, 104.70462036132812, 72.03759765625, 26.5847225189209, 29.913009643554688, 49.13947296142578, 56.73973083496094]}],\n",
              "                        {\"height\": 500, \"template\": {\"data\": {\"bar\": [{\"error_x\": {\"color\": \"#2a3f5f\"}, \"error_y\": {\"color\": \"#2a3f5f\"}, \"marker\": {\"line\": {\"color\": \"#E5ECF6\", \"width\": 0.5}}, \"type\": \"bar\"}], \"barpolar\": [{\"marker\": {\"line\": {\"color\": \"#E5ECF6\", \"width\": 0.5}}, \"type\": \"barpolar\"}], \"carpet\": [{\"aaxis\": {\"endlinecolor\": \"#2a3f5f\", \"gridcolor\": \"white\", \"linecolor\": \"white\", \"minorgridcolor\": \"white\", \"startlinecolor\": \"#2a3f5f\"}, \"baxis\": {\"endlinecolor\": \"#2a3f5f\", \"gridcolor\": \"white\", \"linecolor\": \"white\", \"minorgridcolor\": \"white\", \"startlinecolor\": \"#2a3f5f\"}, \"type\": \"carpet\"}], \"choropleth\": [{\"colorbar\": {\"outlinewidth\": 0, \"ticks\": \"\"}, \"type\": \"choropleth\"}], \"contour\": [{\"colorbar\": {\"outlinewidth\": 0, \"ticks\": \"\"}, \"colorscale\": [[0.0, \"#0d0887\"], [0.1111111111111111, \"#46039f\"], [0.2222222222222222, \"#7201a8\"], [0.3333333333333333, \"#9c179e\"], [0.4444444444444444, \"#bd3786\"], [0.5555555555555556, \"#d8576b\"], [0.6666666666666666, \"#ed7953\"], [0.7777777777777778, \"#fb9f3a\"], [0.8888888888888888, \"#fdca26\"], [1.0, \"#f0f921\"]], \"type\": \"contour\"}], \"contourcarpet\": [{\"colorbar\": {\"outlinewidth\": 0, \"ticks\": \"\"}, \"type\": \"contourcarpet\"}], \"heatmap\": [{\"colorbar\": {\"outlinewidth\": 0, \"ticks\": \"\"}, \"colorscale\": [[0.0, \"#0d0887\"], [0.1111111111111111, \"#46039f\"], [0.2222222222222222, \"#7201a8\"], [0.3333333333333333, \"#9c179e\"], [0.4444444444444444, \"#bd3786\"], [0.5555555555555556, \"#d8576b\"], [0.6666666666666666, \"#ed7953\"], [0.7777777777777778, \"#fb9f3a\"], [0.8888888888888888, \"#fdca26\"], [1.0, \"#f0f921\"]], \"type\": \"heatmap\"}], \"heatmapgl\": [{\"colorbar\": {\"outlinewidth\": 0, \"ticks\": \"\"}, \"colorscale\": [[0.0, \"#0d0887\"], [0.1111111111111111, \"#46039f\"], [0.2222222222222222, \"#7201a8\"], [0.3333333333333333, \"#9c179e\"], [0.4444444444444444, \"#bd3786\"], [0.5555555555555556, \"#d8576b\"], [0.6666666666666666, \"#ed7953\"], [0.7777777777777778, \"#fb9f3a\"], [0.8888888888888888, \"#fdca26\"], [1.0, \"#f0f921\"]], \"type\": \"heatmapgl\"}], \"histogram\": [{\"marker\": {\"colorbar\": {\"outlinewidth\": 0, \"ticks\": \"\"}}, \"type\": \"histogram\"}], \"histogram2d\": [{\"colorbar\": {\"outlinewidth\": 0, \"ticks\": \"\"}, \"colorscale\": [[0.0, \"#0d0887\"], [0.1111111111111111, \"#46039f\"], [0.2222222222222222, \"#7201a8\"], [0.3333333333333333, \"#9c179e\"], [0.4444444444444444, \"#bd3786\"], [0.5555555555555556, \"#d8576b\"], [0.6666666666666666, \"#ed7953\"], [0.7777777777777778, \"#fb9f3a\"], [0.8888888888888888, \"#fdca26\"], [1.0, \"#f0f921\"]], \"type\": \"histogram2d\"}], \"histogram2dcontour\": [{\"colorbar\": {\"outlinewidth\": 0, \"ticks\": \"\"}, \"colorscale\": [[0.0, \"#0d0887\"], [0.1111111111111111, \"#46039f\"], [0.2222222222222222, \"#7201a8\"], [0.3333333333333333, \"#9c179e\"], [0.4444444444444444, \"#bd3786\"], [0.5555555555555556, \"#d8576b\"], [0.6666666666666666, \"#ed7953\"], [0.7777777777777778, \"#fb9f3a\"], [0.8888888888888888, \"#fdca26\"], [1.0, \"#f0f921\"]], \"type\": \"histogram2dcontour\"}], \"mesh3d\": [{\"colorbar\": {\"outlinewidth\": 0, \"ticks\": \"\"}, \"type\": \"mesh3d\"}], \"parcoords\": [{\"line\": {\"colorbar\": {\"outlinewidth\": 0, \"ticks\": \"\"}}, \"type\": \"parcoords\"}], \"pie\": [{\"automargin\": true, \"type\": \"pie\"}], \"scatter\": [{\"marker\": {\"colorbar\": {\"outlinewidth\": 0, \"ticks\": \"\"}}, \"type\": \"scatter\"}], \"scatter3d\": [{\"line\": {\"colorbar\": {\"outlinewidth\": 0, \"ticks\": \"\"}}, \"marker\": {\"colorbar\": {\"outlinewidth\": 0, \"ticks\": \"\"}}, \"type\": \"scatter3d\"}], \"scattercarpet\": [{\"marker\": {\"colorbar\": {\"outlinewidth\": 0, \"ticks\": \"\"}}, \"type\": \"scattercarpet\"}], \"scattergeo\": [{\"marker\": {\"colorbar\": {\"outlinewidth\": 0, \"ticks\": \"\"}}, \"type\": \"scattergeo\"}], \"scattergl\": [{\"marker\": {\"colorbar\": {\"outlinewidth\": 0, \"ticks\": \"\"}}, \"type\": \"scattergl\"}], \"scattermapbox\": [{\"marker\": {\"colorbar\": {\"outlinewidth\": 0, \"ticks\": \"\"}}, \"type\": \"scattermapbox\"}], \"scatterpolar\": [{\"marker\": {\"colorbar\": {\"outlinewidth\": 0, \"ticks\": \"\"}}, \"type\": \"scatterpolar\"}], \"scatterpolargl\": [{\"marker\": {\"colorbar\": {\"outlinewidth\": 0, \"ticks\": \"\"}}, \"type\": \"scatterpolargl\"}], \"scatterternary\": [{\"marker\": {\"colorbar\": {\"outlinewidth\": 0, \"ticks\": \"\"}}, \"type\": \"scatterternary\"}], \"surface\": [{\"colorbar\": {\"outlinewidth\": 0, \"ticks\": \"\"}, \"colorscale\": [[0.0, \"#0d0887\"], [0.1111111111111111, \"#46039f\"], [0.2222222222222222, \"#7201a8\"], [0.3333333333333333, \"#9c179e\"], [0.4444444444444444, \"#bd3786\"], [0.5555555555555556, \"#d8576b\"], [0.6666666666666666, \"#ed7953\"], [0.7777777777777778, \"#fb9f3a\"], [0.8888888888888888, \"#fdca26\"], [1.0, \"#f0f921\"]], \"type\": \"surface\"}], \"table\": [{\"cells\": {\"fill\": {\"color\": \"#EBF0F8\"}, \"line\": {\"color\": \"white\"}}, \"header\": {\"fill\": {\"color\": \"#C8D4E3\"}, \"line\": {\"color\": \"white\"}}, \"type\": \"table\"}]}, \"layout\": {\"annotationdefaults\": {\"arrowcolor\": \"#2a3f5f\", \"arrowhead\": 0, \"arrowwidth\": 1}, \"coloraxis\": {\"colorbar\": {\"outlinewidth\": 0, \"ticks\": \"\"}}, \"colorscale\": {\"diverging\": [[0, \"#8e0152\"], [0.1, \"#c51b7d\"], [0.2, \"#de77ae\"], [0.3, \"#f1b6da\"], [0.4, \"#fde0ef\"], [0.5, \"#f7f7f7\"], [0.6, \"#e6f5d0\"], [0.7, \"#b8e186\"], [0.8, \"#7fbc41\"], [0.9, \"#4d9221\"], [1, \"#276419\"]], \"sequential\": [[0.0, \"#0d0887\"], [0.1111111111111111, \"#46039f\"], [0.2222222222222222, \"#7201a8\"], [0.3333333333333333, \"#9c179e\"], [0.4444444444444444, \"#bd3786\"], [0.5555555555555556, \"#d8576b\"], [0.6666666666666666, \"#ed7953\"], [0.7777777777777778, \"#fb9f3a\"], [0.8888888888888888, \"#fdca26\"], [1.0, \"#f0f921\"]], \"sequentialminus\": [[0.0, \"#0d0887\"], [0.1111111111111111, \"#46039f\"], [0.2222222222222222, \"#7201a8\"], [0.3333333333333333, \"#9c179e\"], [0.4444444444444444, \"#bd3786\"], [0.5555555555555556, \"#d8576b\"], [0.6666666666666666, \"#ed7953\"], [0.7777777777777778, \"#fb9f3a\"], [0.8888888888888888, \"#fdca26\"], [1.0, \"#f0f921\"]]}, \"colorway\": [\"#636efa\", \"#EF553B\", \"#00cc96\", \"#ab63fa\", \"#FFA15A\", \"#19d3f3\", \"#FF6692\", \"#B6E880\", \"#FF97FF\", \"#FECB52\"], \"font\": {\"color\": \"#2a3f5f\"}, \"geo\": {\"bgcolor\": \"white\", \"lakecolor\": \"white\", \"landcolor\": \"#E5ECF6\", \"showlakes\": true, \"showland\": true, \"subunitcolor\": \"white\"}, \"hoverlabel\": {\"align\": \"left\"}, \"hovermode\": \"closest\", \"mapbox\": {\"style\": \"light\"}, \"paper_bgcolor\": \"white\", \"plot_bgcolor\": \"#E5ECF6\", \"polar\": {\"angularaxis\": {\"gridcolor\": \"white\", \"linecolor\": \"white\", \"ticks\": \"\"}, \"bgcolor\": \"#E5ECF6\", \"radialaxis\": {\"gridcolor\": \"white\", \"linecolor\": \"white\", \"ticks\": \"\"}}, \"scene\": {\"xaxis\": {\"backgroundcolor\": \"#E5ECF6\", \"gridcolor\": \"white\", \"gridwidth\": 2, \"linecolor\": \"white\", \"showbackground\": true, \"ticks\": \"\", \"zerolinecolor\": \"white\"}, \"yaxis\": {\"backgroundcolor\": \"#E5ECF6\", \"gridcolor\": \"white\", \"gridwidth\": 2, \"linecolor\": \"white\", \"showbackground\": true, \"ticks\": \"\", \"zerolinecolor\": \"white\"}, \"zaxis\": {\"backgroundcolor\": \"#E5ECF6\", \"gridcolor\": \"white\", \"gridwidth\": 2, \"linecolor\": \"white\", \"showbackground\": true, \"ticks\": \"\", \"zerolinecolor\": \"white\"}}, \"shapedefaults\": {\"line\": {\"color\": \"#2a3f5f\"}}, \"ternary\": {\"aaxis\": {\"gridcolor\": \"white\", \"linecolor\": \"white\", \"ticks\": \"\"}, \"baxis\": {\"gridcolor\": \"white\", \"linecolor\": \"white\", \"ticks\": \"\"}, \"bgcolor\": \"#E5ECF6\", \"caxis\": {\"gridcolor\": \"white\", \"linecolor\": \"white\", \"ticks\": \"\"}}, \"title\": {\"x\": 0.05}, \"xaxis\": {\"automargin\": true, \"gridcolor\": \"white\", \"linecolor\": \"white\", \"ticks\": \"\", \"title\": {\"standoff\": 15}, \"zerolinecolor\": \"white\", \"zerolinewidth\": 2}, \"yaxis\": {\"automargin\": true, \"gridcolor\": \"white\", \"linecolor\": \"white\", \"ticks\": \"\", \"title\": {\"standoff\": 15}, \"zerolinecolor\": \"white\", \"zerolinewidth\": 2}}}, \"title\": {\"text\": \"Train vs Val Loss\"}, \"width\": 800, \"xaxis\": {\"title\": {\"text\": \"Epoch\"}}, \"yaxis\": {\"title\": {\"text\": \"loss\"}}},\n",
              "                        {\"responsive\": true}\n",
              "                    ).then(function(){\n",
              "                            \n",
              "var gd = document.getElementById('227b490b-55b9-4d00-a817-5f2169562cbc');\n",
              "var x = new MutationObserver(function (mutations, observer) {{\n",
              "        var display = window.getComputedStyle(gd).display;\n",
              "        if (!display || display === 'none') {{\n",
              "            console.log([gd, 'removed!']);\n",
              "            Plotly.purge(gd);\n",
              "            observer.disconnect();\n",
              "        }}\n",
              "}});\n",
              "\n",
              "// Listen for the removal of the full notebook cells\n",
              "var notebookContainer = gd.closest('#notebook-container');\n",
              "if (notebookContainer) {{\n",
              "    x.observe(notebookContainer, {childList: true});\n",
              "}}\n",
              "\n",
              "// Listen for the clearing of the current output cell\n",
              "var outputEl = gd.closest('.output');\n",
              "if (outputEl) {{\n",
              "    x.observe(outputEl, {childList: true});\n",
              "}}\n",
              "\n",
              "                        })\n",
              "                };\n",
              "                \n",
              "            </script>\n",
              "        </div>\n",
              "</body>\n",
              "</html>"
            ]
          },
          "metadata": {
            "tags": []
          }
        },
        {
          "output_type": "display_data",
          "data": {
            "text/plain": [
              "<Figure size 432x288 with 0 Axes>"
            ]
          },
          "metadata": {
            "tags": []
          }
        }
      ]
    },
    {
      "cell_type": "code",
      "metadata": {
        "colab_type": "code",
        "id": "atdqUR9y_7CO",
        "colab": {
          "base_uri": "https://localhost:8080/",
          "height": 534
        },
        "outputId": "e6e96886-2439-430b-f817-15790d50c882"
      },
      "source": [
        "import plotly.graph_objects as go\n",
        "\n",
        "plt.clf()\n",
        "\n",
        "fig = go.Figure()\n",
        "fig.add_trace(go.Scatter(\n",
        "                    y=history.history['mae'],\n",
        "                    name='Train'))\n",
        "\n",
        "fig.add_trace(go.Scatter(\n",
        "                    y=history.history['val_mae'],\n",
        "                    name='Validation'))\n",
        "\n",
        "\n",
        "fig.update_layout(height=500, \n",
        "                  width=800,\n",
        "                  title='Train vs Val Mean Absolute Error',\n",
        "                  xaxis_title='Epoch',\n",
        "                  yaxis_title='mae')\n",
        "\n",
        "\n",
        "fig.show()"
      ],
      "execution_count": null,
      "outputs": [
        {
          "output_type": "display_data",
          "data": {
            "text/html": [
              "<html>\n",
              "<head><meta charset=\"utf-8\" /></head>\n",
              "<body>\n",
              "    <div>\n",
              "            <script src=\"https://cdnjs.cloudflare.com/ajax/libs/mathjax/2.7.5/MathJax.js?config=TeX-AMS-MML_SVG\"></script><script type=\"text/javascript\">if (window.MathJax) {MathJax.Hub.Config({SVG: {font: \"STIX-Web\"}});}</script>\n",
              "                <script type=\"text/javascript\">window.PlotlyConfig = {MathJaxConfig: 'local'};</script>\n",
              "        <script src=\"https://cdn.plot.ly/plotly-latest.min.js\"></script>    \n",
              "            <div id=\"b9e15699-be83-41c2-a2be-c07d223bc5a4\" class=\"plotly-graph-div\" style=\"height:500px; width:800px;\"></div>\n",
              "            <script type=\"text/javascript\">\n",
              "                \n",
              "                    window.PLOTLYENV=window.PLOTLYENV || {};\n",
              "                    \n",
              "                if (document.getElementById(\"b9e15699-be83-41c2-a2be-c07d223bc5a4\")) {\n",
              "                    Plotly.newPlot(\n",
              "                        'b9e15699-be83-41c2-a2be-c07d223bc5a4',\n",
              "                        [{\"name\": \"Train\", \"type\": \"scatter\", \"y\": [17.24797821044922, 10.28203296661377, 9.104654312133789, 8.458128929138184, 8.14293384552002, 7.902257442474365, 7.700958728790283, 7.570852756500244, 7.340821266174316, 7.121208667755127, 6.968775272369385, 6.81532621383667, 6.820417404174805, 6.731141090393066, 6.632919788360596, 6.609547138214111, 6.5645036697387695, 6.412898540496826, 6.26015567779541, 6.252326488494873, 6.204719066619873, 6.112298488616943, 6.074680805206299, 6.002325057983398, 6.005938529968262, 5.936882495880127, 6.003303050994873, 5.924722671508789, 5.870134353637695, 5.8366827964782715, 5.829638957977295, 5.786949634552002, 5.768404960632324, 5.748572826385498, 5.744215488433838, 5.654411792755127, 5.650409698486328, 5.672674655914307, 5.668059825897217, 5.61460542678833]}, {\"name\": \"Validation\", \"type\": \"scatter\", \"y\": [11.294337272644043, 9.061097145080566, 8.317713737487793, 8.517563819885254, 7.387506008148193, 6.81297492980957, 6.778717041015625, 7.516548156738281, 6.539826393127441, 6.577035427093506, 6.435921669006348, 6.20991325378418, 6.326286792755127, 7.003902435302734, 6.349910736083984, 6.338189125061035, 7.13313627243042, 6.100896835327148, 6.050576210021973, 5.997064113616943, 6.069480895996094, 6.01537561416626, 6.076122283935547, 5.991508483886719, 6.023175239562988, 6.09434175491333, 5.96397066116333, 5.893145561218262, 5.820837020874023, 5.848937034606934, 5.839893341064453, 5.804027557373047, 5.8565521240234375, 5.812767505645752, 5.8206868171691895, 5.754021167755127, 5.764552116394043, 5.740573406219482, 5.796060085296631, 5.81364107131958]}],\n",
              "                        {\"height\": 500, \"template\": {\"data\": {\"bar\": [{\"error_x\": {\"color\": \"#2a3f5f\"}, \"error_y\": {\"color\": \"#2a3f5f\"}, \"marker\": {\"line\": {\"color\": \"#E5ECF6\", \"width\": 0.5}}, \"type\": \"bar\"}], \"barpolar\": [{\"marker\": {\"line\": {\"color\": \"#E5ECF6\", \"width\": 0.5}}, \"type\": \"barpolar\"}], \"carpet\": [{\"aaxis\": {\"endlinecolor\": \"#2a3f5f\", \"gridcolor\": \"white\", \"linecolor\": \"white\", \"minorgridcolor\": \"white\", \"startlinecolor\": \"#2a3f5f\"}, \"baxis\": {\"endlinecolor\": \"#2a3f5f\", \"gridcolor\": \"white\", \"linecolor\": \"white\", \"minorgridcolor\": \"white\", \"startlinecolor\": \"#2a3f5f\"}, \"type\": \"carpet\"}], \"choropleth\": [{\"colorbar\": {\"outlinewidth\": 0, \"ticks\": \"\"}, \"type\": \"choropleth\"}], \"contour\": [{\"colorbar\": {\"outlinewidth\": 0, \"ticks\": \"\"}, \"colorscale\": [[0.0, \"#0d0887\"], [0.1111111111111111, \"#46039f\"], [0.2222222222222222, \"#7201a8\"], [0.3333333333333333, \"#9c179e\"], [0.4444444444444444, \"#bd3786\"], [0.5555555555555556, \"#d8576b\"], [0.6666666666666666, \"#ed7953\"], [0.7777777777777778, \"#fb9f3a\"], [0.8888888888888888, \"#fdca26\"], [1.0, \"#f0f921\"]], \"type\": \"contour\"}], \"contourcarpet\": [{\"colorbar\": {\"outlinewidth\": 0, \"ticks\": \"\"}, \"type\": \"contourcarpet\"}], \"heatmap\": [{\"colorbar\": {\"outlinewidth\": 0, \"ticks\": \"\"}, \"colorscale\": [[0.0, \"#0d0887\"], [0.1111111111111111, \"#46039f\"], [0.2222222222222222, \"#7201a8\"], [0.3333333333333333, \"#9c179e\"], [0.4444444444444444, \"#bd3786\"], [0.5555555555555556, \"#d8576b\"], [0.6666666666666666, \"#ed7953\"], [0.7777777777777778, \"#fb9f3a\"], [0.8888888888888888, \"#fdca26\"], [1.0, \"#f0f921\"]], \"type\": \"heatmap\"}], \"heatmapgl\": [{\"colorbar\": {\"outlinewidth\": 0, \"ticks\": \"\"}, \"colorscale\": [[0.0, \"#0d0887\"], [0.1111111111111111, \"#46039f\"], [0.2222222222222222, \"#7201a8\"], [0.3333333333333333, \"#9c179e\"], [0.4444444444444444, \"#bd3786\"], [0.5555555555555556, \"#d8576b\"], [0.6666666666666666, \"#ed7953\"], [0.7777777777777778, \"#fb9f3a\"], [0.8888888888888888, \"#fdca26\"], [1.0, \"#f0f921\"]], \"type\": \"heatmapgl\"}], \"histogram\": [{\"marker\": {\"colorbar\": {\"outlinewidth\": 0, \"ticks\": \"\"}}, \"type\": \"histogram\"}], \"histogram2d\": [{\"colorbar\": {\"outlinewidth\": 0, \"ticks\": \"\"}, \"colorscale\": [[0.0, \"#0d0887\"], [0.1111111111111111, \"#46039f\"], [0.2222222222222222, \"#7201a8\"], [0.3333333333333333, \"#9c179e\"], [0.4444444444444444, \"#bd3786\"], [0.5555555555555556, \"#d8576b\"], [0.6666666666666666, \"#ed7953\"], [0.7777777777777778, \"#fb9f3a\"], [0.8888888888888888, \"#fdca26\"], [1.0, \"#f0f921\"]], \"type\": \"histogram2d\"}], \"histogram2dcontour\": [{\"colorbar\": {\"outlinewidth\": 0, \"ticks\": \"\"}, \"colorscale\": [[0.0, \"#0d0887\"], [0.1111111111111111, \"#46039f\"], [0.2222222222222222, \"#7201a8\"], [0.3333333333333333, \"#9c179e\"], [0.4444444444444444, \"#bd3786\"], [0.5555555555555556, \"#d8576b\"], [0.6666666666666666, \"#ed7953\"], [0.7777777777777778, \"#fb9f3a\"], [0.8888888888888888, \"#fdca26\"], [1.0, \"#f0f921\"]], \"type\": \"histogram2dcontour\"}], \"mesh3d\": [{\"colorbar\": {\"outlinewidth\": 0, \"ticks\": \"\"}, \"type\": \"mesh3d\"}], \"parcoords\": [{\"line\": {\"colorbar\": {\"outlinewidth\": 0, \"ticks\": \"\"}}, \"type\": \"parcoords\"}], \"pie\": [{\"automargin\": true, \"type\": \"pie\"}], \"scatter\": [{\"marker\": {\"colorbar\": {\"outlinewidth\": 0, \"ticks\": \"\"}}, \"type\": \"scatter\"}], \"scatter3d\": [{\"line\": {\"colorbar\": {\"outlinewidth\": 0, \"ticks\": \"\"}}, \"marker\": {\"colorbar\": {\"outlinewidth\": 0, \"ticks\": \"\"}}, \"type\": \"scatter3d\"}], \"scattercarpet\": [{\"marker\": {\"colorbar\": {\"outlinewidth\": 0, \"ticks\": \"\"}}, \"type\": \"scattercarpet\"}], \"scattergeo\": [{\"marker\": {\"colorbar\": {\"outlinewidth\": 0, \"ticks\": \"\"}}, \"type\": \"scattergeo\"}], \"scattergl\": [{\"marker\": {\"colorbar\": {\"outlinewidth\": 0, \"ticks\": \"\"}}, \"type\": \"scattergl\"}], \"scattermapbox\": [{\"marker\": {\"colorbar\": {\"outlinewidth\": 0, \"ticks\": \"\"}}, \"type\": \"scattermapbox\"}], \"scatterpolar\": [{\"marker\": {\"colorbar\": {\"outlinewidth\": 0, \"ticks\": \"\"}}, \"type\": \"scatterpolar\"}], \"scatterpolargl\": [{\"marker\": {\"colorbar\": {\"outlinewidth\": 0, \"ticks\": \"\"}}, \"type\": \"scatterpolargl\"}], \"scatterternary\": [{\"marker\": {\"colorbar\": {\"outlinewidth\": 0, \"ticks\": \"\"}}, \"type\": \"scatterternary\"}], \"surface\": [{\"colorbar\": {\"outlinewidth\": 0, \"ticks\": \"\"}, \"colorscale\": [[0.0, \"#0d0887\"], [0.1111111111111111, \"#46039f\"], [0.2222222222222222, \"#7201a8\"], [0.3333333333333333, \"#9c179e\"], [0.4444444444444444, \"#bd3786\"], [0.5555555555555556, \"#d8576b\"], [0.6666666666666666, \"#ed7953\"], [0.7777777777777778, \"#fb9f3a\"], [0.8888888888888888, \"#fdca26\"], [1.0, \"#f0f921\"]], \"type\": \"surface\"}], \"table\": [{\"cells\": {\"fill\": {\"color\": \"#EBF0F8\"}, \"line\": {\"color\": \"white\"}}, \"header\": {\"fill\": {\"color\": \"#C8D4E3\"}, \"line\": {\"color\": \"white\"}}, \"type\": \"table\"}]}, \"layout\": {\"annotationdefaults\": {\"arrowcolor\": \"#2a3f5f\", \"arrowhead\": 0, \"arrowwidth\": 1}, \"coloraxis\": {\"colorbar\": {\"outlinewidth\": 0, \"ticks\": \"\"}}, \"colorscale\": {\"diverging\": [[0, \"#8e0152\"], [0.1, \"#c51b7d\"], [0.2, \"#de77ae\"], [0.3, \"#f1b6da\"], [0.4, \"#fde0ef\"], [0.5, \"#f7f7f7\"], [0.6, \"#e6f5d0\"], [0.7, \"#b8e186\"], [0.8, \"#7fbc41\"], [0.9, \"#4d9221\"], [1, \"#276419\"]], \"sequential\": [[0.0, \"#0d0887\"], [0.1111111111111111, \"#46039f\"], [0.2222222222222222, \"#7201a8\"], [0.3333333333333333, \"#9c179e\"], [0.4444444444444444, \"#bd3786\"], [0.5555555555555556, \"#d8576b\"], [0.6666666666666666, \"#ed7953\"], [0.7777777777777778, \"#fb9f3a\"], [0.8888888888888888, \"#fdca26\"], [1.0, \"#f0f921\"]], \"sequentialminus\": [[0.0, \"#0d0887\"], [0.1111111111111111, \"#46039f\"], [0.2222222222222222, \"#7201a8\"], [0.3333333333333333, \"#9c179e\"], [0.4444444444444444, \"#bd3786\"], [0.5555555555555556, \"#d8576b\"], [0.6666666666666666, \"#ed7953\"], [0.7777777777777778, \"#fb9f3a\"], [0.8888888888888888, \"#fdca26\"], [1.0, \"#f0f921\"]]}, \"colorway\": [\"#636efa\", \"#EF553B\", \"#00cc96\", \"#ab63fa\", \"#FFA15A\", \"#19d3f3\", \"#FF6692\", \"#B6E880\", \"#FF97FF\", \"#FECB52\"], \"font\": {\"color\": \"#2a3f5f\"}, \"geo\": {\"bgcolor\": \"white\", \"lakecolor\": \"white\", \"landcolor\": \"#E5ECF6\", \"showlakes\": true, \"showland\": true, \"subunitcolor\": \"white\"}, \"hoverlabel\": {\"align\": \"left\"}, \"hovermode\": \"closest\", \"mapbox\": {\"style\": \"light\"}, \"paper_bgcolor\": \"white\", \"plot_bgcolor\": \"#E5ECF6\", \"polar\": {\"angularaxis\": {\"gridcolor\": \"white\", \"linecolor\": \"white\", \"ticks\": \"\"}, \"bgcolor\": \"#E5ECF6\", \"radialaxis\": {\"gridcolor\": \"white\", \"linecolor\": \"white\", \"ticks\": \"\"}}, \"scene\": {\"xaxis\": {\"backgroundcolor\": \"#E5ECF6\", \"gridcolor\": \"white\", \"gridwidth\": 2, \"linecolor\": \"white\", \"showbackground\": true, \"ticks\": \"\", \"zerolinecolor\": \"white\"}, \"yaxis\": {\"backgroundcolor\": \"#E5ECF6\", \"gridcolor\": \"white\", \"gridwidth\": 2, \"linecolor\": \"white\", \"showbackground\": true, \"ticks\": \"\", \"zerolinecolor\": \"white\"}, \"zaxis\": {\"backgroundcolor\": \"#E5ECF6\", \"gridcolor\": \"white\", \"gridwidth\": 2, \"linecolor\": \"white\", \"showbackground\": true, \"ticks\": \"\", \"zerolinecolor\": \"white\"}}, \"shapedefaults\": {\"line\": {\"color\": \"#2a3f5f\"}}, \"ternary\": {\"aaxis\": {\"gridcolor\": \"white\", \"linecolor\": \"white\", \"ticks\": \"\"}, \"baxis\": {\"gridcolor\": \"white\", \"linecolor\": \"white\", \"ticks\": \"\"}, \"bgcolor\": \"#E5ECF6\", \"caxis\": {\"gridcolor\": \"white\", \"linecolor\": \"white\", \"ticks\": \"\"}}, \"title\": {\"x\": 0.05}, \"xaxis\": {\"automargin\": true, \"gridcolor\": \"white\", \"linecolor\": \"white\", \"ticks\": \"\", \"title\": {\"standoff\": 15}, \"zerolinecolor\": \"white\", \"zerolinewidth\": 2}, \"yaxis\": {\"automargin\": true, \"gridcolor\": \"white\", \"linecolor\": \"white\", \"ticks\": \"\", \"title\": {\"standoff\": 15}, \"zerolinecolor\": \"white\", \"zerolinewidth\": 2}}}, \"title\": {\"text\": \"Train vs Val Mean Absolute Error\"}, \"width\": 800, \"xaxis\": {\"title\": {\"text\": \"Epoch\"}}, \"yaxis\": {\"title\": {\"text\": \"mae\"}}},\n",
              "                        {\"responsive\": true}\n",
              "                    ).then(function(){\n",
              "                            \n",
              "var gd = document.getElementById('b9e15699-be83-41c2-a2be-c07d223bc5a4');\n",
              "var x = new MutationObserver(function (mutations, observer) {{\n",
              "        var display = window.getComputedStyle(gd).display;\n",
              "        if (!display || display === 'none') {{\n",
              "            console.log([gd, 'removed!']);\n",
              "            Plotly.purge(gd);\n",
              "            observer.disconnect();\n",
              "        }}\n",
              "}});\n",
              "\n",
              "// Listen for the removal of the full notebook cells\n",
              "var notebookContainer = gd.closest('#notebook-container');\n",
              "if (notebookContainer) {{\n",
              "    x.observe(notebookContainer, {childList: true});\n",
              "}}\n",
              "\n",
              "// Listen for the clearing of the current output cell\n",
              "var outputEl = gd.closest('.output');\n",
              "if (outputEl) {{\n",
              "    x.observe(outputEl, {childList: true});\n",
              "}}\n",
              "\n",
              "                        })\n",
              "                };\n",
              "                \n",
              "            </script>\n",
              "        </div>\n",
              "</body>\n",
              "</html>"
            ]
          },
          "metadata": {
            "tags": []
          }
        },
        {
          "output_type": "display_data",
          "data": {
            "text/plain": [
              "<Figure size 432x288 with 0 Axes>"
            ]
          },
          "metadata": {
            "tags": []
          }
        }
      ]
    },
    {
      "cell_type": "markdown",
      "metadata": {
        "id": "uQVcWEXIl0VR",
        "colab_type": "text"
      },
      "source": [
        "### Model testing - "
      ]
    },
    {
      "cell_type": "code",
      "metadata": {
        "id": "jYO1Cs-_t4UH",
        "colab_type": "code",
        "colab": {
          "base_uri": "https://localhost:8080/",
          "height": 50
        },
        "outputId": "6190afdf-0a41-4423-f676-41e9f6e077ee"
      },
      "source": [
        "test_generator = generate_images(test_idx, is_training=False, batch_size=1)\n",
        "age_model.evaluate(test_generator, steps = 2371)\n",
        "\n",
        "# O/p of the format - Loss, mae , mse"
      ],
      "execution_count": null,
      "outputs": [
        {
          "output_type": "stream",
          "text": [
            "2371/2371 [==============================] - 1141s 481ms/step\n"
          ],
          "name": "stdout"
        },
        {
          "output_type": "execute_result",
          "data": {
            "text/plain": [
              "[55.872467041015625, 5.6735758781433105, 63.542579650878906]"
            ]
          },
          "metadata": {
            "tags": []
          },
          "execution_count": 46
        }
      ]
    },
    {
      "cell_type": "code",
      "metadata": {
        "id": "C3Js-t-_P5f9",
        "colab_type": "code",
        "colab": {}
      },
      "source": [
        "# Lets save the history object. That will enable us to draw the graphs again if req\n",
        "\n",
        "np.save('/content/drive/My Drive/AE_history.npy',history.history)\n",
        "\n",
        "''' LOAD AS -\n",
        "\n",
        " history1=np.load('/content/drive/My Drive/AE_history.npy',allow_pickle='TRUE').item()\n",
        "\n",
        " Use history1 everywhere instead of history.history  '''"
      ],
      "execution_count": null,
      "outputs": []
    },
    {
      "cell_type": "markdown",
      "metadata": {
        "id": "o6ZQudlAc7sx",
        "colab_type": "text"
      },
      "source": [
        "## SGD Optimizer \n",
        "\n",
        "### Model training - "
      ]
    },
    {
      "cell_type": "code",
      "metadata": {
        "id": "s5rnhbELyvxQ",
        "colab_type": "code",
        "colab": {
          "base_uri": "https://localhost:8080/",
          "height": 1000
        },
        "outputId": "af9a6e69-be4c-4372-e4e0-c90ec71abc1e"
      },
      "source": [
        "from keras.optimizers import SGD\n",
        "from keras.callbacks import LearningRateScheduler\n",
        "import math\n",
        "\n",
        "def step_decay(epoch):\n",
        "\tinitial_lrate = 0.006\n",
        "\tdrop = 0.6\n",
        "\tepochs_drop = 9.0\n",
        "\tlrate = initial_lrate * math.pow(drop, math.floor((1+epoch)/epochs_drop))\n",
        "\treturn lrate      \n",
        "\n",
        "opt = SGD(lr=0.0)\n",
        "lrate = LearningRateScheduler(step_decay)\n",
        "callbacks_list = [lrate]\n",
        "\n",
        "age_model.compile(loss='mse', optimizer=opt, metrics=['mae','mse'])\n",
        "\n",
        "train_gen = generate_images(train_idx, is_training=True, batch_size=32)\n",
        "valid_gen = generate_images(val_idx, is_training=True, batch_size=32)\n",
        "\n",
        "\n",
        "history = age_model.fit_generator(train_gen, steps_per_epoch = len(train_idx)//32, epochs=35  , callbacks=callbacks_list,\n",
        "                     validation_data=valid_gen, validation_steps=len(val_idx)//32)\n",
        "\n"
      ],
      "execution_count": null,
      "outputs": [
        {
          "output_type": "stream",
          "text": [
            "Epoch 1/35\n",
            "600/600 [==============================] - 133s 222ms/step - loss: 339.7894 - mae: 13.9978 - mse: 339.7892 - val_loss: 361.1812 - val_mae: 12.3140 - val_mse: 304.7221\n",
            "Epoch 2/35\n",
            "600/600 [==============================] - 131s 219ms/step - loss: 266.9438 - mae: 12.1724 - mse: 266.9439 - val_loss: 3924.3169 - val_mae: 36.8491 - val_mse: 2685.6863\n",
            "Epoch 3/35\n",
            "600/600 [==============================] - 131s 219ms/step - loss: 288.4179 - mae: 12.7775 - mse: 288.4179 - val_loss: 320.1159 - val_mae: 10.8061 - val_mse: 243.0223\n",
            "Epoch 4/35\n",
            "600/600 [==============================] - 131s 218ms/step - loss: 210.8935 - mae: 10.6487 - mse: 210.8934 - val_loss: 280.4396 - val_mae: 9.4056 - val_mse: 177.0382\n",
            "Epoch 5/35\n",
            "600/600 [==============================] - 132s 220ms/step - loss: 333.1883 - mae: 13.6983 - mse: 333.1885 - val_loss: 516.7490 - val_mae: 14.8223 - val_mse: 406.3014\n",
            "Epoch 6/35\n",
            "600/600 [==============================] - 132s 220ms/step - loss: 352.2725 - mae: 14.3320 - mse: 352.2722 - val_loss: 363.4947 - val_mae: 14.8533 - val_mse: 342.7326\n",
            "Epoch 7/35\n",
            "600/600 [==============================] - 132s 219ms/step - loss: 345.3519 - mae: 14.1916 - mse: 345.3519 - val_loss: 253.2505 - val_mae: 13.6328 - val_mse: 319.3698\n",
            "Epoch 8/35\n",
            "600/600 [==============================] - 131s 219ms/step - loss: 299.5914 - mae: 13.1411 - mse: 299.5912 - val_loss: 249.2360 - val_mae: 12.8697 - val_mse: 259.7147\n",
            "Epoch 9/35\n",
            "600/600 [==============================] - 131s 218ms/step - loss: 248.6569 - mae: 11.7195 - mse: 248.6570 - val_loss: 178.6620 - val_mae: 12.0892 - val_mse: 243.6002\n",
            "Epoch 10/35\n",
            "600/600 [==============================] - 131s 219ms/step - loss: 230.6279 - mae: 11.2847 - mse: 230.6277 - val_loss: 198.6792 - val_mae: 10.6920 - val_mse: 204.9967\n",
            "Epoch 11/35\n",
            "600/600 [==============================] - 131s 219ms/step - loss: 242.0720 - mae: 11.5965 - mse: 242.0719 - val_loss: 191.1836 - val_mae: 10.8320 - val_mse: 221.9212\n",
            "Epoch 12/35\n",
            "600/600 [==============================] - 132s 220ms/step - loss: 215.5052 - mae: 10.8299 - mse: 215.5052 - val_loss: 349.3359 - val_mae: 10.0037 - val_mse: 183.9968\n",
            "Epoch 13/35\n",
            "600/600 [==============================] - 131s 219ms/step - loss: 197.4966 - mae: 10.3578 - mse: 197.4965 - val_loss: 152.9003 - val_mae: 9.8392 - val_mse: 175.6532\n",
            "Epoch 14/35\n",
            "600/600 [==============================] - 132s 220ms/step - loss: 200.7498 - mae: 10.4669 - mse: 200.7498 - val_loss: 3745.5300 - val_mae: 34.1743 - val_mse: 4202.3223\n",
            "Epoch 15/35\n",
            "600/600 [==============================] - 131s 219ms/step - loss: 189.4118 - mae: 10.0946 - mse: 189.4118 - val_loss: 143.0051 - val_mae: 8.9247 - val_mse: 155.2008\n",
            "Epoch 16/35\n",
            "600/600 [==============================] - 131s 219ms/step - loss: 195.0981 - mae: 10.2390 - mse: 195.0980 - val_loss: 135.9181 - val_mae: 9.4687 - val_mse: 170.4564\n",
            "Epoch 17/35\n",
            "600/600 [==============================] - 132s 219ms/step - loss: 175.5717 - mae: 9.7171 - mse: 175.5718 - val_loss: 156.6812 - val_mae: 8.9213 - val_mse: 143.5628\n",
            "Epoch 18/35\n",
            "600/600 [==============================] - 131s 218ms/step - loss: 162.1854 - mae: 9.3506 - mse: 162.1854 - val_loss: 147.1185 - val_mae: 8.6146 - val_mse: 130.0293\n",
            "Epoch 19/35\n",
            "600/600 [==============================] - 132s 220ms/step - loss: 157.4890 - mae: 9.2176 - mse: 157.4890 - val_loss: 156.1006 - val_mae: 8.3869 - val_mse: 124.7224\n",
            "Epoch 20/35\n",
            "600/600 [==============================] - 131s 218ms/step - loss: 153.4839 - mae: 9.1099 - mse: 153.4839 - val_loss: 164.3809 - val_mae: 8.4936 - val_mse: 127.1428\n",
            "Epoch 21/35\n",
            "600/600 [==============================] - 131s 218ms/step - loss: 152.6306 - mae: 9.0596 - mse: 152.6306 - val_loss: 158.8512 - val_mae: 8.3914 - val_mse: 124.1649\n",
            "Epoch 22/35\n",
            "600/600 [==============================] - 131s 218ms/step - loss: 146.2328 - mae: 8.8713 - mse: 146.2329 - val_loss: 101.5230 - val_mae: 8.1542 - val_mse: 124.9038\n",
            "Epoch 23/35\n",
            "600/600 [==============================] - 132s 221ms/step - loss: 143.3815 - mae: 8.8007 - mse: 143.3815 - val_loss: 99.2120 - val_mae: 8.2005 - val_mse: 124.6276\n",
            "Epoch 24/35\n",
            "600/600 [==============================] - 131s 218ms/step - loss: 139.9376 - mae: 8.6720 - mse: 139.9375 - val_loss: 104.4470 - val_mae: 8.2192 - val_mse: 117.7838\n",
            "Epoch 25/35\n",
            "600/600 [==============================] - 131s 219ms/step - loss: 137.2247 - mae: 8.5972 - mse: 137.2248 - val_loss: 73.0780 - val_mae: 8.3318 - val_mse: 118.6285\n",
            "Epoch 26/35\n",
            "600/600 [==============================] - 131s 218ms/step - loss: 135.9601 - mae: 8.5698 - mse: 135.9601 - val_loss: 78.3399 - val_mae: 7.9974 - val_mse: 115.1368\n",
            "Epoch 27/35\n",
            "600/600 [==============================] - 131s 219ms/step - loss: 135.8635 - mae: 8.5452 - mse: 135.8636 - val_loss: 91.8428 - val_mae: 7.7703 - val_mse: 111.7592\n",
            "Epoch 28/35\n",
            "600/600 [==============================] - 131s 219ms/step - loss: 130.9728 - mae: 8.4037 - mse: 130.9728 - val_loss: 98.2747 - val_mae: 8.0815 - val_mse: 119.2454\n",
            "Epoch 29/35\n",
            "600/600 [==============================] - 131s 218ms/step - loss: 129.4378 - mae: 8.3872 - mse: 129.4378 - val_loss: 172.3818 - val_mae: 7.9747 - val_mse: 115.4573\n",
            "Epoch 30/35\n",
            "600/600 [==============================] - 131s 218ms/step - loss: 127.4783 - mae: 8.3223 - mse: 127.4783 - val_loss: 156.9407 - val_mae: 7.7923 - val_mse: 109.0494\n",
            "Epoch 31/35\n",
            "600/600 [==============================] - 131s 219ms/step - loss: 130.5918 - mae: 8.4146 - mse: 130.5918 - val_loss: 122.0364 - val_mae: 7.7376 - val_mse: 105.6729\n",
            "Epoch 32/35\n",
            "600/600 [==============================] - 131s 218ms/step - loss: 127.4562 - mae: 8.3269 - mse: 127.4561 - val_loss: 113.2421 - val_mae: 7.6308 - val_mse: 104.6682\n",
            "Epoch 33/35\n",
            "600/600 [==============================] - 131s 219ms/step - loss: 126.0263 - mae: 8.2952 - mse: 126.0263 - val_loss: 140.5461 - val_mae: 7.6189 - val_mse: 107.1005\n",
            "Epoch 34/35\n",
            "600/600 [==============================] - 131s 218ms/step - loss: 124.6746 - mae: 8.2135 - mse: 124.6746 - val_loss: 159.4326 - val_mae: 12.8609 - val_mse: 24625.8691\n",
            "Epoch 35/35\n",
            "600/600 [==============================] - 131s 219ms/step - loss: 149.7821 - mae: 8.9114 - mse: 149.7820 - val_loss: 137.9842 - val_mae: 93.7282 - val_mse: 6488661.5000\n"
          ],
          "name": "stdout"
        }
      ]
    },
    {
      "cell_type": "markdown",
      "metadata": {
        "id": "nzqTI9d_dD3Y",
        "colab_type": "text"
      },
      "source": [
        "Let's train the model some more with a new `lr`. Hopefully, this small learning rate will help the model to converge to the minimum"
      ]
    },
    {
      "cell_type": "code",
      "metadata": {
        "id": "oLj0VIi6B5l0",
        "colab_type": "code",
        "colab": {
          "base_uri": "https://localhost:8080/",
          "height": 1000
        },
        "outputId": "a2ea1c8f-768d-4b12-c215-56137baf4f0c"
      },
      "source": [
        "from keras.optimizers import SGD\n",
        "from keras.callbacks import LearningRateScheduler\n",
        "import math\n",
        "\n",
        "def step_decay(epoch):\n",
        "\tinitial_lrate = 0.00075\n",
        "\tdrop = 0.6\n",
        "\tepochs_drop = 9.0\n",
        "\tlrate = initial_lrate * math.pow(drop, math.floor((1+epoch)/epochs_drop))\n",
        "\treturn lrate      \n",
        "\n",
        "opt = SGD(lr=0.0)\n",
        "lrate = LearningRateScheduler(step_decay)\n",
        "callbacks_list = [lrate]\n",
        "\n",
        "age_model.compile(loss='mse', optimizer=opt, metrics=['mae','mse'])\n",
        "\n",
        "train_gen = generate_images(train_idx, is_training=True, batch_size=32)\n",
        "valid_gen = generate_images(val_idx, is_training=True, batch_size=32)\n",
        "\n",
        "\n",
        "history = age_model.fit_generator(train_gen, steps_per_epoch = len(train_idx)//32, epochs=35  , callbacks=callbacks_list,\n",
        "                     validation_data=valid_gen, validation_steps=len(val_idx)//32)\n",
        "\n"
      ],
      "execution_count": null,
      "outputs": [
        {
          "output_type": "stream",
          "text": [
            "Epoch 1/35\n",
            "600/600 [==============================] - 134s 223ms/step - loss: 130.4406 - mae: 8.4004 - mse: 130.4406 - val_loss: 72.9089 - val_mae: 7.7402 - val_mse: 105.3379\n",
            "Epoch 2/35\n",
            "600/600 [==============================] - 131s 219ms/step - loss: 123.7225 - mae: 8.1707 - mse: 123.7225 - val_loss: 99.5149 - val_mae: 7.5777 - val_mse: 106.6383\n",
            "Epoch 3/35\n",
            "600/600 [==============================] - 131s 218ms/step - loss: 122.8035 - mae: 8.1752 - mse: 122.8035 - val_loss: 131.5695 - val_mae: 7.5978 - val_mse: 106.4384\n",
            "Epoch 4/35\n",
            "600/600 [==============================] - 130s 217ms/step - loss: 119.7547 - mae: 8.0427 - mse: 119.7547 - val_loss: 161.8513 - val_mae: 7.6446 - val_mse: 106.6769\n",
            "Epoch 5/35\n",
            "600/600 [==============================] - 131s 219ms/step - loss: 120.3539 - mae: 8.0906 - mse: 120.3540 - val_loss: 160.9655 - val_mae: 7.6422 - val_mse: 103.6755\n",
            "Epoch 6/35\n",
            "600/600 [==============================] - 130s 217ms/step - loss: 120.1241 - mae: 8.0673 - mse: 120.1241 - val_loss: 150.9712 - val_mae: 7.5232 - val_mse: 104.1035\n",
            "Epoch 7/35\n",
            "600/600 [==============================] - 131s 219ms/step - loss: 118.3833 - mae: 8.0418 - mse: 118.3833 - val_loss: 76.3174 - val_mae: 7.6560 - val_mse: 102.7215\n",
            "Epoch 8/35\n",
            "600/600 [==============================] - 131s 218ms/step - loss: 119.5057 - mae: 8.0552 - mse: 119.5058 - val_loss: 74.1929 - val_mae: 7.5863 - val_mse: 104.9586\n",
            "Epoch 9/35\n",
            "600/600 [==============================] - 131s 219ms/step - loss: 121.4991 - mae: 8.0857 - mse: 121.4990 - val_loss: 86.0580 - val_mae: 7.4696 - val_mse: 100.7122\n",
            "Epoch 10/35\n",
            "600/600 [==============================] - 131s 219ms/step - loss: 118.7974 - mae: 8.0413 - mse: 118.7974 - val_loss: 107.8480 - val_mae: 7.5613 - val_mse: 102.2460\n",
            "Epoch 11/35\n",
            "600/600 [==============================] - 131s 219ms/step - loss: 116.1249 - mae: 7.9430 - mse: 116.1249 - val_loss: 100.3051 - val_mae: 8.3255 - val_mse: 2313.3728\n",
            "Epoch 12/35\n",
            "600/600 [==============================] - 131s 218ms/step - loss: 115.3611 - mae: 7.9157 - mse: 115.3611 - val_loss: 160.3096 - val_mae: 23.3443 - val_mse: 534285.6250\n",
            "Epoch 13/35\n",
            "600/600 [==============================] - 130s 217ms/step - loss: 113.2392 - mae: 7.8252 - mse: 113.2392 - val_loss: 64.1169 - val_mae: 7.6329 - val_mse: 110.8706\n",
            "Epoch 14/35\n",
            "600/600 [==============================] - 131s 219ms/step - loss: 112.5966 - mae: 7.8232 - mse: 112.5966 - val_loss: 98.6701 - val_mae: 7.3395 - val_mse: 100.7294\n",
            "Epoch 15/35\n",
            "600/600 [==============================] - 131s 218ms/step - loss: 115.1771 - mae: 7.8934 - mse: 115.1771 - val_loss: 82.4175 - val_mae: 7.3553 - val_mse: 99.4343\n",
            "Epoch 16/35\n",
            "600/600 [==============================] - 130s 217ms/step - loss: 112.9998 - mae: 7.8097 - mse: 112.9998 - val_loss: 60.7184 - val_mae: 7.3097 - val_mse: 100.5385\n",
            "Epoch 17/35\n",
            "600/600 [==============================] - 131s 219ms/step - loss: 118.2686 - mae: 7.9353 - mse: 118.2687 - val_loss: 149.2058 - val_mae: 8.3405 - val_mse: 124.4329\n",
            "Epoch 18/35\n",
            "600/600 [==============================] - 131s 218ms/step - loss: 125.3880 - mae: 8.2066 - mse: 125.3880 - val_loss: 120.5305 - val_mae: 7.7195 - val_mse: 105.3577\n",
            "Epoch 19/35\n",
            "600/600 [==============================] - 131s 219ms/step - loss: 117.6985 - mae: 8.0307 - mse: 117.6986 - val_loss: 126.2566 - val_mae: 7.4998 - val_mse: 100.3670\n",
            "Epoch 20/35\n",
            "600/600 [==============================] - 131s 219ms/step - loss: 115.9186 - mae: 7.9285 - mse: 115.9187 - val_loss: 143.6775 - val_mae: 7.4530 - val_mse: 99.7558\n",
            "Epoch 21/35\n",
            "600/600 [==============================] - 130s 217ms/step - loss: 112.7309 - mae: 7.8368 - mse: 112.7309 - val_loss: 98.5831 - val_mae: 7.3773 - val_mse: 97.3951\n",
            "Epoch 22/35\n",
            "600/600 [==============================] - 130s 217ms/step - loss: 111.4918 - mae: 7.7613 - mse: 111.4919 - val_loss: 75.0455 - val_mae: 7.6504 - val_mse: 101.9030\n",
            "Epoch 23/35\n",
            "600/600 [==============================] - 131s 218ms/step - loss: 110.4183 - mae: 7.7689 - mse: 110.4183 - val_loss: 56.7910 - val_mae: 7.2682 - val_mse: 95.8681\n",
            "Epoch 24/35\n",
            "600/600 [==============================] - 131s 219ms/step - loss: 108.7314 - mae: 7.7087 - mse: 108.7314 - val_loss: 75.2880 - val_mae: 7.6486 - val_mse: 101.6853\n",
            "Epoch 25/35\n",
            "600/600 [==============================] - 131s 218ms/step - loss: 108.3559 - mae: 7.6733 - mse: 108.3559 - val_loss: 47.4969 - val_mae: 7.2774 - val_mse: 95.4650\n",
            "Epoch 26/35\n",
            "600/600 [==============================] - 131s 218ms/step - loss: 106.6501 - mae: 7.6114 - mse: 106.6501 - val_loss: 57.0759 - val_mae: 7.3860 - val_mse: 98.0588\n",
            "Epoch 27/35\n",
            "600/600 [==============================] - 131s 218ms/step - loss: 108.6303 - mae: 7.6759 - mse: 108.6303 - val_loss: 79.0884 - val_mae: 7.3063 - val_mse: 96.4663\n",
            "Epoch 28/35\n",
            "600/600 [==============================] - 130s 217ms/step - loss: 107.2811 - mae: 7.6438 - mse: 107.2811 - val_loss: 52.1296 - val_mae: 7.3218 - val_mse: 96.5321\n",
            "Epoch 29/35\n",
            "600/600 [==============================] - 131s 219ms/step - loss: 108.4158 - mae: 7.6913 - mse: 108.4158 - val_loss: 112.4496 - val_mae: 7.3610 - val_mse: 97.2057\n",
            "Epoch 30/35\n",
            "600/600 [==============================] - 131s 219ms/step - loss: 107.3390 - mae: 7.6457 - mse: 107.3390 - val_loss: 109.7220 - val_mae: 7.3220 - val_mse: 96.3802\n",
            "Epoch 31/35\n",
            "600/600 [==============================] - 132s 219ms/step - loss: 107.7504 - mae: 7.6498 - mse: 107.7503 - val_loss: 87.9179 - val_mae: 7.2842 - val_mse: 94.9600\n",
            "Epoch 32/35\n",
            "600/600 [==============================] - 131s 219ms/step - loss: 106.5286 - mae: 7.6193 - mse: 106.5286 - val_loss: 96.5086 - val_mae: 7.3212 - val_mse: 95.9808\n",
            "Epoch 33/35\n",
            "600/600 [==============================] - 132s 220ms/step - loss: 105.9395 - mae: 7.6317 - mse: 105.9395 - val_loss: 131.5342 - val_mae: 7.2178 - val_mse: 94.8483\n",
            "Epoch 34/35\n",
            "600/600 [==============================] - 131s 218ms/step - loss: 106.5233 - mae: 7.5835 - mse: 106.5232 - val_loss: 128.3441 - val_mae: 7.1559 - val_mse: 94.0264\n",
            "Epoch 35/35\n",
            "600/600 [==============================] - 131s 218ms/step - loss: 105.3934 - mae: 7.5954 - mse: 105.3933 - val_loss: 114.9623 - val_mae: 7.1866 - val_mse: 94.0349\n"
          ],
          "name": "stdout"
        }
      ]
    },
    {
      "cell_type": "code",
      "metadata": {
        "colab_type": "code",
        "id": "LmZ-QKfNVvFF",
        "colab": {
          "base_uri": "https://localhost:8080/",
          "height": 534
        },
        "outputId": "6d6f1108-1df9-400b-b845-2b52489ea60e"
      },
      "source": [
        "import plotly.graph_objects as go\n",
        "\n",
        "plt.clf()\n",
        "\n",
        "fig = go.Figure()\n",
        "fig.add_trace(go.Scatter(\n",
        "                    y=history.history['mae'],\n",
        "                    name='Train'))\n",
        "\n",
        "fig.add_trace(go.Scatter(\n",
        "                    y=history.history['val_mae'],\n",
        "                    name='Validation'))\n",
        "\n",
        "\n",
        "fig.update_layout(height=500, \n",
        "                  width=700,\n",
        "                  title='Train vs Val Mean Absolute Error',\n",
        "                  xaxis_title='Epoch',\n",
        "                  yaxis_title='mae')\n",
        "\n",
        "\n",
        "fig.show()"
      ],
      "execution_count": null,
      "outputs": [
        {
          "output_type": "display_data",
          "data": {
            "text/html": [
              "<html>\n",
              "<head><meta charset=\"utf-8\" /></head>\n",
              "<body>\n",
              "    <div>\n",
              "            <script src=\"https://cdnjs.cloudflare.com/ajax/libs/mathjax/2.7.5/MathJax.js?config=TeX-AMS-MML_SVG\"></script><script type=\"text/javascript\">if (window.MathJax) {MathJax.Hub.Config({SVG: {font: \"STIX-Web\"}});}</script>\n",
              "                <script type=\"text/javascript\">window.PlotlyConfig = {MathJaxConfig: 'local'};</script>\n",
              "        <script src=\"https://cdn.plot.ly/plotly-latest.min.js\"></script>    \n",
              "            <div id=\"b22ca4d0-2318-43d8-8b4e-b6e2ca74fedd\" class=\"plotly-graph-div\" style=\"height:500px; width:700px;\"></div>\n",
              "            <script type=\"text/javascript\">\n",
              "                \n",
              "                    window.PLOTLYENV=window.PLOTLYENV || {};\n",
              "                    \n",
              "                if (document.getElementById(\"b22ca4d0-2318-43d8-8b4e-b6e2ca74fedd\")) {\n",
              "                    Plotly.newPlot(\n",
              "                        'b22ca4d0-2318-43d8-8b4e-b6e2ca74fedd',\n",
              "                        [{\"name\": \"Train\", \"type\": \"scatter\", \"y\": [8.400382995605469, 8.170660018920898, 8.17524528503418, 8.042729377746582, 8.090579986572266, 8.06729793548584, 8.041841506958008, 8.055212020874023, 8.08569049835205, 8.04133415222168, 7.943041801452637, 7.9157209396362305, 7.825170040130615, 7.823243141174316, 7.893444061279297, 7.809701919555664, 7.935305118560791, 8.206635475158691, 8.030741691589355, 7.928465366363525, 7.836849689483643, 7.7612810134887695, 7.768865585327148, 7.708683967590332, 7.673273086547852, 7.611368179321289, 7.675862789154053, 7.643798828125, 7.691305160522461, 7.645670413970947, 7.649776935577393, 7.619253635406494, 7.631657600402832, 7.583482265472412, 7.595422267913818]}, {\"name\": \"Validation\", \"type\": \"scatter\", \"y\": [7.740243911743164, 7.577660083770752, 7.597792625427246, 7.644591808319092, 7.642219543457031, 7.523159503936768, 7.655967712402344, 7.58628511428833, 7.469587802886963, 7.561286926269531, 8.325499534606934, 23.344287872314453, 7.632944583892822, 7.339475631713867, 7.355292797088623, 7.309670925140381, 8.340498924255371, 7.719533920288086, 7.499847888946533, 7.453044891357422, 7.377340793609619, 7.6504364013671875, 7.268179416656494, 7.648566722869873, 7.277422904968262, 7.386030673980713, 7.306312561035156, 7.321835517883301, 7.360960960388184, 7.321982383728027, 7.2841901779174805, 7.321201324462891, 7.217796325683594, 7.155892372131348, 7.186574459075928]}],\n",
              "                        {\"height\": 500, \"template\": {\"data\": {\"bar\": [{\"error_x\": {\"color\": \"#2a3f5f\"}, \"error_y\": {\"color\": \"#2a3f5f\"}, \"marker\": {\"line\": {\"color\": \"#E5ECF6\", \"width\": 0.5}}, \"type\": \"bar\"}], \"barpolar\": [{\"marker\": {\"line\": {\"color\": \"#E5ECF6\", \"width\": 0.5}}, \"type\": \"barpolar\"}], \"carpet\": [{\"aaxis\": {\"endlinecolor\": \"#2a3f5f\", \"gridcolor\": \"white\", \"linecolor\": \"white\", \"minorgridcolor\": \"white\", \"startlinecolor\": \"#2a3f5f\"}, \"baxis\": {\"endlinecolor\": \"#2a3f5f\", \"gridcolor\": \"white\", \"linecolor\": \"white\", \"minorgridcolor\": \"white\", \"startlinecolor\": \"#2a3f5f\"}, \"type\": \"carpet\"}], \"choropleth\": [{\"colorbar\": {\"outlinewidth\": 0, \"ticks\": \"\"}, \"type\": \"choropleth\"}], \"contour\": [{\"colorbar\": {\"outlinewidth\": 0, \"ticks\": \"\"}, \"colorscale\": [[0.0, \"#0d0887\"], [0.1111111111111111, \"#46039f\"], [0.2222222222222222, \"#7201a8\"], [0.3333333333333333, \"#9c179e\"], [0.4444444444444444, \"#bd3786\"], [0.5555555555555556, \"#d8576b\"], [0.6666666666666666, \"#ed7953\"], [0.7777777777777778, \"#fb9f3a\"], [0.8888888888888888, \"#fdca26\"], [1.0, \"#f0f921\"]], \"type\": \"contour\"}], \"contourcarpet\": [{\"colorbar\": {\"outlinewidth\": 0, \"ticks\": \"\"}, \"type\": \"contourcarpet\"}], \"heatmap\": [{\"colorbar\": {\"outlinewidth\": 0, \"ticks\": \"\"}, \"colorscale\": [[0.0, \"#0d0887\"], [0.1111111111111111, \"#46039f\"], [0.2222222222222222, \"#7201a8\"], [0.3333333333333333, \"#9c179e\"], [0.4444444444444444, \"#bd3786\"], [0.5555555555555556, \"#d8576b\"], [0.6666666666666666, \"#ed7953\"], [0.7777777777777778, \"#fb9f3a\"], [0.8888888888888888, \"#fdca26\"], [1.0, \"#f0f921\"]], \"type\": \"heatmap\"}], \"heatmapgl\": [{\"colorbar\": {\"outlinewidth\": 0, \"ticks\": \"\"}, \"colorscale\": [[0.0, \"#0d0887\"], [0.1111111111111111, \"#46039f\"], [0.2222222222222222, \"#7201a8\"], [0.3333333333333333, \"#9c179e\"], [0.4444444444444444, \"#bd3786\"], [0.5555555555555556, \"#d8576b\"], [0.6666666666666666, \"#ed7953\"], [0.7777777777777778, \"#fb9f3a\"], [0.8888888888888888, \"#fdca26\"], [1.0, \"#f0f921\"]], \"type\": \"heatmapgl\"}], \"histogram\": [{\"marker\": {\"colorbar\": {\"outlinewidth\": 0, \"ticks\": \"\"}}, \"type\": \"histogram\"}], \"histogram2d\": [{\"colorbar\": {\"outlinewidth\": 0, \"ticks\": \"\"}, \"colorscale\": [[0.0, \"#0d0887\"], [0.1111111111111111, \"#46039f\"], [0.2222222222222222, \"#7201a8\"], [0.3333333333333333, \"#9c179e\"], [0.4444444444444444, \"#bd3786\"], [0.5555555555555556, \"#d8576b\"], [0.6666666666666666, \"#ed7953\"], [0.7777777777777778, \"#fb9f3a\"], [0.8888888888888888, \"#fdca26\"], [1.0, \"#f0f921\"]], \"type\": \"histogram2d\"}], \"histogram2dcontour\": [{\"colorbar\": {\"outlinewidth\": 0, \"ticks\": \"\"}, \"colorscale\": [[0.0, \"#0d0887\"], [0.1111111111111111, \"#46039f\"], [0.2222222222222222, \"#7201a8\"], [0.3333333333333333, \"#9c179e\"], [0.4444444444444444, \"#bd3786\"], [0.5555555555555556, \"#d8576b\"], [0.6666666666666666, \"#ed7953\"], [0.7777777777777778, \"#fb9f3a\"], [0.8888888888888888, \"#fdca26\"], [1.0, \"#f0f921\"]], \"type\": \"histogram2dcontour\"}], \"mesh3d\": [{\"colorbar\": {\"outlinewidth\": 0, \"ticks\": \"\"}, \"type\": \"mesh3d\"}], \"parcoords\": [{\"line\": {\"colorbar\": {\"outlinewidth\": 0, \"ticks\": \"\"}}, \"type\": \"parcoords\"}], \"pie\": [{\"automargin\": true, \"type\": \"pie\"}], \"scatter\": [{\"marker\": {\"colorbar\": {\"outlinewidth\": 0, \"ticks\": \"\"}}, \"type\": \"scatter\"}], \"scatter3d\": [{\"line\": {\"colorbar\": {\"outlinewidth\": 0, \"ticks\": \"\"}}, \"marker\": {\"colorbar\": {\"outlinewidth\": 0, \"ticks\": \"\"}}, \"type\": \"scatter3d\"}], \"scattercarpet\": [{\"marker\": {\"colorbar\": {\"outlinewidth\": 0, \"ticks\": \"\"}}, \"type\": \"scattercarpet\"}], \"scattergeo\": [{\"marker\": {\"colorbar\": {\"outlinewidth\": 0, \"ticks\": \"\"}}, \"type\": \"scattergeo\"}], \"scattergl\": [{\"marker\": {\"colorbar\": {\"outlinewidth\": 0, \"ticks\": \"\"}}, \"type\": \"scattergl\"}], \"scattermapbox\": [{\"marker\": {\"colorbar\": {\"outlinewidth\": 0, \"ticks\": \"\"}}, \"type\": \"scattermapbox\"}], \"scatterpolar\": [{\"marker\": {\"colorbar\": {\"outlinewidth\": 0, \"ticks\": \"\"}}, \"type\": \"scatterpolar\"}], \"scatterpolargl\": [{\"marker\": {\"colorbar\": {\"outlinewidth\": 0, \"ticks\": \"\"}}, \"type\": \"scatterpolargl\"}], \"scatterternary\": [{\"marker\": {\"colorbar\": {\"outlinewidth\": 0, \"ticks\": \"\"}}, \"type\": \"scatterternary\"}], \"surface\": [{\"colorbar\": {\"outlinewidth\": 0, \"ticks\": \"\"}, \"colorscale\": [[0.0, \"#0d0887\"], [0.1111111111111111, \"#46039f\"], [0.2222222222222222, \"#7201a8\"], [0.3333333333333333, \"#9c179e\"], [0.4444444444444444, \"#bd3786\"], [0.5555555555555556, \"#d8576b\"], [0.6666666666666666, \"#ed7953\"], [0.7777777777777778, \"#fb9f3a\"], [0.8888888888888888, \"#fdca26\"], [1.0, \"#f0f921\"]], \"type\": \"surface\"}], \"table\": [{\"cells\": {\"fill\": {\"color\": \"#EBF0F8\"}, \"line\": {\"color\": \"white\"}}, \"header\": {\"fill\": {\"color\": \"#C8D4E3\"}, \"line\": {\"color\": \"white\"}}, \"type\": \"table\"}]}, \"layout\": {\"annotationdefaults\": {\"arrowcolor\": \"#2a3f5f\", \"arrowhead\": 0, \"arrowwidth\": 1}, \"coloraxis\": {\"colorbar\": {\"outlinewidth\": 0, \"ticks\": \"\"}}, \"colorscale\": {\"diverging\": [[0, \"#8e0152\"], [0.1, \"#c51b7d\"], [0.2, \"#de77ae\"], [0.3, \"#f1b6da\"], [0.4, \"#fde0ef\"], [0.5, \"#f7f7f7\"], [0.6, \"#e6f5d0\"], [0.7, \"#b8e186\"], [0.8, \"#7fbc41\"], [0.9, \"#4d9221\"], [1, \"#276419\"]], \"sequential\": [[0.0, \"#0d0887\"], [0.1111111111111111, \"#46039f\"], [0.2222222222222222, \"#7201a8\"], [0.3333333333333333, \"#9c179e\"], [0.4444444444444444, \"#bd3786\"], [0.5555555555555556, \"#d8576b\"], [0.6666666666666666, \"#ed7953\"], [0.7777777777777778, \"#fb9f3a\"], [0.8888888888888888, \"#fdca26\"], [1.0, \"#f0f921\"]], \"sequentialminus\": [[0.0, \"#0d0887\"], [0.1111111111111111, \"#46039f\"], [0.2222222222222222, \"#7201a8\"], [0.3333333333333333, \"#9c179e\"], [0.4444444444444444, \"#bd3786\"], [0.5555555555555556, \"#d8576b\"], [0.6666666666666666, \"#ed7953\"], [0.7777777777777778, \"#fb9f3a\"], [0.8888888888888888, \"#fdca26\"], [1.0, \"#f0f921\"]]}, \"colorway\": [\"#636efa\", \"#EF553B\", \"#00cc96\", \"#ab63fa\", \"#FFA15A\", \"#19d3f3\", \"#FF6692\", \"#B6E880\", \"#FF97FF\", \"#FECB52\"], \"font\": {\"color\": \"#2a3f5f\"}, \"geo\": {\"bgcolor\": \"white\", \"lakecolor\": \"white\", \"landcolor\": \"#E5ECF6\", \"showlakes\": true, \"showland\": true, \"subunitcolor\": \"white\"}, \"hoverlabel\": {\"align\": \"left\"}, \"hovermode\": \"closest\", \"mapbox\": {\"style\": \"light\"}, \"paper_bgcolor\": \"white\", \"plot_bgcolor\": \"#E5ECF6\", \"polar\": {\"angularaxis\": {\"gridcolor\": \"white\", \"linecolor\": \"white\", \"ticks\": \"\"}, \"bgcolor\": \"#E5ECF6\", \"radialaxis\": {\"gridcolor\": \"white\", \"linecolor\": \"white\", \"ticks\": \"\"}}, \"scene\": {\"xaxis\": {\"backgroundcolor\": \"#E5ECF6\", \"gridcolor\": \"white\", \"gridwidth\": 2, \"linecolor\": \"white\", \"showbackground\": true, \"ticks\": \"\", \"zerolinecolor\": \"white\"}, \"yaxis\": {\"backgroundcolor\": \"#E5ECF6\", \"gridcolor\": \"white\", \"gridwidth\": 2, \"linecolor\": \"white\", \"showbackground\": true, \"ticks\": \"\", \"zerolinecolor\": \"white\"}, \"zaxis\": {\"backgroundcolor\": \"#E5ECF6\", \"gridcolor\": \"white\", \"gridwidth\": 2, \"linecolor\": \"white\", \"showbackground\": true, \"ticks\": \"\", \"zerolinecolor\": \"white\"}}, \"shapedefaults\": {\"line\": {\"color\": \"#2a3f5f\"}}, \"ternary\": {\"aaxis\": {\"gridcolor\": \"white\", \"linecolor\": \"white\", \"ticks\": \"\"}, \"baxis\": {\"gridcolor\": \"white\", \"linecolor\": \"white\", \"ticks\": \"\"}, \"bgcolor\": \"#E5ECF6\", \"caxis\": {\"gridcolor\": \"white\", \"linecolor\": \"white\", \"ticks\": \"\"}}, \"title\": {\"x\": 0.05}, \"xaxis\": {\"automargin\": true, \"gridcolor\": \"white\", \"linecolor\": \"white\", \"ticks\": \"\", \"title\": {\"standoff\": 15}, \"zerolinecolor\": \"white\", \"zerolinewidth\": 2}, \"yaxis\": {\"automargin\": true, \"gridcolor\": \"white\", \"linecolor\": \"white\", \"ticks\": \"\", \"title\": {\"standoff\": 15}, \"zerolinecolor\": \"white\", \"zerolinewidth\": 2}}}, \"title\": {\"text\": \"Train vs Val Mean Absolute Error\"}, \"width\": 700, \"xaxis\": {\"title\": {\"text\": \"Epoch\"}}, \"yaxis\": {\"title\": {\"text\": \"mae\"}}},\n",
              "                        {\"responsive\": true}\n",
              "                    ).then(function(){\n",
              "                            \n",
              "var gd = document.getElementById('b22ca4d0-2318-43d8-8b4e-b6e2ca74fedd');\n",
              "var x = new MutationObserver(function (mutations, observer) {{\n",
              "        var display = window.getComputedStyle(gd).display;\n",
              "        if (!display || display === 'none') {{\n",
              "            console.log([gd, 'removed!']);\n",
              "            Plotly.purge(gd);\n",
              "            observer.disconnect();\n",
              "        }}\n",
              "}});\n",
              "\n",
              "// Listen for the removal of the full notebook cells\n",
              "var notebookContainer = gd.closest('#notebook-container');\n",
              "if (notebookContainer) {{\n",
              "    x.observe(notebookContainer, {childList: true});\n",
              "}}\n",
              "\n",
              "// Listen for the clearing of the current output cell\n",
              "var outputEl = gd.closest('.output');\n",
              "if (outputEl) {{\n",
              "    x.observe(outputEl, {childList: true});\n",
              "}}\n",
              "\n",
              "                        })\n",
              "                };\n",
              "                \n",
              "            </script>\n",
              "        </div>\n",
              "</body>\n",
              "</html>"
            ]
          },
          "metadata": {
            "tags": []
          }
        },
        {
          "output_type": "display_data",
          "data": {
            "text/plain": [
              "<Figure size 432x288 with 0 Axes>"
            ]
          },
          "metadata": {
            "tags": []
          }
        }
      ]
    },
    {
      "cell_type": "markdown",
      "metadata": {
        "id": "nksOKZn3WnMN",
        "colab_type": "text"
      },
      "source": [
        "Clearly, there is not much improvement. It seems to me that SGD struggles to get the minima."
      ]
    },
    {
      "cell_type": "code",
      "metadata": {
        "colab_type": "code",
        "id": "T5pUUzQKVvFK",
        "colab": {
          "base_uri": "https://localhost:8080/",
          "height": 50
        },
        "outputId": "d7cb6f6b-b2a0-4658-8842-425e38a16ff2"
      },
      "source": [
        "test_generator = generate_images(test_idx, is_training=False, batch_size=1)\n",
        "age_model.evaluate(test_generator, steps = 2371)\n",
        "\n",
        "# O/p of the format - Loss, mae , mse"
      ],
      "execution_count": null,
      "outputs": [
        {
          "output_type": "stream",
          "text": [
            "2371/2371 [==============================] - 18s 8ms/step\n"
          ],
          "name": "stdout"
        },
        {
          "output_type": "execute_result",
          "data": {
            "text/plain": [
              "[168.0345001220703, 6.976069927215576, 87.9688491821289]"
            ]
          },
          "metadata": {
            "tags": []
          },
          "execution_count": 54
        }
      ]
    },
    {
      "cell_type": "markdown",
      "metadata": {
        "id": "I5mIT64lVAs-",
        "colab_type": "text"
      },
      "source": [
        "## SGD optimizer with Momentum\n",
        "\n",
        "### Model training - "
      ]
    },
    {
      "cell_type": "code",
      "metadata": {
        "id": "hHQChrWBbBc1",
        "colab_type": "code",
        "colab": {
          "base_uri": "https://localhost:8080/",
          "height": 1000
        },
        "outputId": "d68c28e8-01d8-4cd0-b063-117bc19570e1"
      },
      "source": [
        "from keras.optimizers import SGD\n",
        "from keras.callbacks import LearningRateScheduler\n",
        "import math\n",
        "\n",
        "def step_decay(epoch):\n",
        "\tinitial_lrate = 0.004\n",
        "\tdrop = 0.6\n",
        "\tepochs_drop = 9.0\n",
        "\tlrate = initial_lrate * math.pow(drop, math.floor((1+epoch)/epochs_drop))\n",
        "\treturn lrate      \n",
        "\n",
        "opt = SGD(lr=0.0, momentum=0.9)\n",
        "lrate = LearningRateScheduler(step_decay)\n",
        "callbacks_list = [lrate]\n",
        "\n",
        "age_model.compile(loss='mse', optimizer=opt, metrics=['mae','mse'])\n",
        "\n",
        "train_gen = generate_images(train_idx, is_training=True, batch_size=32)\n",
        "valid_gen = generate_images(val_idx, is_training=True, batch_size=32)\n",
        "\n",
        "\n",
        "history = age_model.fit_generator(train_gen, steps_per_epoch = len(train_idx)//32, epochs=35  , callbacks=callbacks_list,\n",
        "                     validation_data=valid_gen, validation_steps=len(val_idx)//32)\n",
        "\n"
      ],
      "execution_count": null,
      "outputs": [
        {
          "output_type": "stream",
          "text": [
            "Epoch 1/35\n",
            "131/600 [=====>........................] - ETA: 58:48 - loss: 449.3954 - mae: 16.3378 - mse: 449.3954"
          ],
          "name": "stdout"
        },
        {
          "output_type": "stream",
          "text": [
            "/usr/local/lib/python3.6/dist-packages/keras/utils/data_utils.py:718: UserWarning: An input could not be retrieved. It could be because a worker has died.We do not have any information on the lost sample.\n",
            "  UserWarning)\n"
          ],
          "name": "stderr"
        },
        {
          "output_type": "stream",
          "text": [
            "600/600 [==============================] - 5040s 8s/step - loss: 383.6225 - mae: 15.0286 - mse: 383.6223 - val_loss: 442.6547 - val_mae: 14.0156 - val_mse: 361.3025\n",
            "Epoch 2/35\n",
            "600/600 [==============================] - 193s 322ms/step - loss: 332.0990 - mae: 13.9231 - mse: 332.0992 - val_loss: 548.2034 - val_mae: 13.9638 - val_mse: 370.1403\n",
            "Epoch 3/35\n",
            "600/600 [==============================] - 192s 321ms/step - loss: 308.8318 - mae: 13.4516 - mse: 308.8319 - val_loss: 302.6132 - val_mae: 12.6987 - val_mse: 288.6753\n",
            "Epoch 4/35\n",
            "600/600 [==============================] - 193s 321ms/step - loss: 290.3007 - mae: 12.9413 - mse: 290.3007 - val_loss: 375.3905 - val_mae: 11.9816 - val_mse: 271.1891\n",
            "Epoch 5/35\n",
            "600/600 [==============================] - 193s 321ms/step - loss: 268.4036 - mae: 12.2422 - mse: 268.4036 - val_loss: 285.2560 - val_mae: 13.0084 - val_mse: 323.7633\n",
            "Epoch 6/35\n",
            "600/600 [==============================] - 192s 320ms/step - loss: 255.8160 - mae: 11.8873 - mse: 255.8160 - val_loss: 260.3814 - val_mae: 12.2406 - val_mse: 263.2833\n",
            "Epoch 7/35\n",
            "600/600 [==============================] - 191s 319ms/step - loss: 270.1071 - mae: 12.3689 - mse: 270.1071 - val_loss: 284.7070 - val_mae: 13.1632 - val_mse: 362.0035\n",
            "Epoch 8/35\n",
            "600/600 [==============================] - 193s 322ms/step - loss: 273.3701 - mae: 12.4947 - mse: 273.3700 - val_loss: 248.5045 - val_mae: 12.2437 - val_mse: 278.0485\n",
            "Epoch 9/35\n",
            "600/600 [==============================] - 192s 319ms/step - loss: 243.6037 - mae: 11.6267 - mse: 243.6037 - val_loss: 157.4953 - val_mae: 10.6388 - val_mse: 213.6193\n",
            "Epoch 10/35\n",
            "600/600 [==============================] - 191s 319ms/step - loss: 231.8039 - mae: 11.3299 - mse: 231.8040 - val_loss: 276.0050 - val_mae: 11.7947 - val_mse: 279.9747\n",
            "Epoch 11/35\n",
            "600/600 [==============================] - 193s 321ms/step - loss: 217.3809 - mae: 10.9391 - mse: 217.3810 - val_loss: 170.7669 - val_mae: 9.9743 - val_mse: 190.4392\n",
            "Epoch 12/35\n",
            "600/600 [==============================] - 193s 321ms/step - loss: 196.5183 - mae: 10.3814 - mse: 196.5183 - val_loss: 279.4073 - val_mae: 9.4257 - val_mse: 166.8741\n",
            "Epoch 13/35\n",
            "600/600 [==============================] - 192s 321ms/step - loss: 182.4580 - mae: 9.9886 - mse: 182.4581 - val_loss: 129.9425 - val_mae: 9.1447 - val_mse: 161.6301\n",
            "Epoch 14/35\n",
            "600/600 [==============================] - 193s 322ms/step - loss: 177.4923 - mae: 9.8400 - mse: 177.4924 - val_loss: 143.3636 - val_mae: 9.5310 - val_mse: 278.4205\n",
            "Epoch 15/35\n",
            "600/600 [==============================] - 192s 321ms/step - loss: 212.4712 - mae: 10.7610 - mse: 212.4713 - val_loss: 161.0898 - val_mae: 9.7219 - val_mse: 177.6248\n",
            "Epoch 16/35\n",
            "600/600 [==============================] - 195s 324ms/step - loss: 253.2991 - mae: 11.8111 - mse: 253.2991 - val_loss: 306.8369 - val_mae: 14.7891 - val_mse: 358.0986\n",
            "Epoch 17/35\n",
            "600/600 [==============================] - 193s 321ms/step - loss: 327.5570 - mae: 13.8955 - mse: 327.5569 - val_loss: 327.2966 - val_mae: 13.1869 - val_mse: 293.0661\n",
            "Epoch 18/35\n",
            "600/600 [==============================] - 192s 321ms/step - loss: 278.8582 - mae: 12.6869 - mse: 278.8582 - val_loss: 289.5767 - val_mae: 12.0108 - val_mse: 243.8132\n",
            "Epoch 19/35\n",
            "600/600 [==============================] - 192s 321ms/step - loss: 258.8689 - mae: 12.0899 - mse: 258.8690 - val_loss: 187.6882 - val_mae: 11.0377 - val_mse: 232.3495\n",
            "Epoch 20/35\n",
            "600/600 [==============================] - 192s 321ms/step - loss: 307.2411 - mae: 13.3755 - mse: 307.2412 - val_loss: 435.9536 - val_mae: 13.9247 - val_mse: 307.9159\n",
            "Epoch 21/35\n",
            "600/600 [==============================] - 193s 321ms/step - loss: 317.8644 - mae: 13.5972 - mse: 317.8645 - val_loss: 476.1094 - val_mae: 14.2676 - val_mse: 335.0454\n",
            "Epoch 22/35\n",
            "600/600 [==============================] - 193s 321ms/step - loss: 302.2221 - mae: 13.2723 - mse: 302.2220 - val_loss: 190.9655 - val_mae: 12.3137 - val_mse: 262.0237\n",
            "Epoch 23/35\n",
            "600/600 [==============================] - 192s 321ms/step - loss: 275.8474 - mae: 12.6067 - mse: 275.8474 - val_loss: 183.3453 - val_mae: 12.5388 - val_mse: 272.7151\n",
            "Epoch 24/35\n",
            "600/600 [==============================] - 192s 321ms/step - loss: 256.5492 - mae: 12.0643 - mse: 256.5493 - val_loss: 195.0331 - val_mae: 11.6889 - val_mse: 238.7247\n",
            "Epoch 25/35\n",
            "600/600 [==============================] - 191s 319ms/step - loss: 240.8285 - mae: 11.6413 - mse: 240.8284 - val_loss: 155.5077 - val_mae: 11.1971 - val_mse: 216.6616\n",
            "Epoch 26/35\n",
            "600/600 [==============================] - 191s 319ms/step - loss: 229.8497 - mae: 11.3825 - mse: 229.8498 - val_loss: 146.0588 - val_mae: 10.4871 - val_mse: 198.7545\n",
            "Epoch 27/35\n",
            "600/600 [==============================] - 192s 320ms/step - loss: 216.8925 - mae: 10.9620 - mse: 216.8926 - val_loss: 208.3787 - val_mae: 10.9345 - val_mse: 208.4920\n",
            "Epoch 28/35\n",
            "600/600 [==============================] - 192s 319ms/step - loss: 213.2083 - mae: 10.8854 - mse: 213.2083 - val_loss: 222.5101 - val_mae: 11.0233 - val_mse: 220.9370\n",
            "Epoch 29/35\n",
            "600/600 [==============================] - 193s 321ms/step - loss: 204.1933 - mae: 10.6273 - mse: 204.1934 - val_loss: 277.4391 - val_mae: 10.7721 - val_mse: 193.4870\n",
            "Epoch 30/35\n",
            "600/600 [==============================] - 193s 321ms/step - loss: 199.2263 - mae: 10.4668 - mse: 199.2263 - val_loss: 280.9166 - val_mae: 9.9278 - val_mse: 176.5602\n",
            "Epoch 31/35\n",
            "600/600 [==============================] - 193s 321ms/step - loss: 198.7842 - mae: 10.4645 - mse: 198.7841 - val_loss: 203.1331 - val_mae: 10.6800 - val_mse: 189.5536\n",
            "Epoch 32/35\n",
            "600/600 [==============================] - 193s 322ms/step - loss: 192.3092 - mae: 10.3182 - mse: 192.3093 - val_loss: 180.0575 - val_mae: 9.8748 - val_mse: 171.1175\n",
            "Epoch 33/35\n",
            "600/600 [==============================] - 192s 320ms/step - loss: 187.7587 - mae: 10.1793 - mse: 187.7586 - val_loss: 163.4136 - val_mae: 9.5097 - val_mse: 161.9117\n",
            "Epoch 34/35\n",
            "600/600 [==============================] - 192s 320ms/step - loss: 190.0473 - mae: 10.2283 - mse: 190.0473 - val_loss: 246.6530 - val_mae: 11.2637 - val_mse: 240.5534\n",
            "Epoch 35/35\n",
            "600/600 [==============================] - 192s 320ms/step - loss: 193.1507 - mae: 10.3375 - mse: 193.1508 - val_loss: 238.1230 - val_mae: 9.6496 - val_mse: 169.5763\n"
          ],
          "name": "stdout"
        }
      ]
    },
    {
      "cell_type": "code",
      "metadata": {
        "id": "dxpadi7RyCk-",
        "colab_type": "code",
        "colab": {
          "base_uri": "https://localhost:8080/",
          "height": 1000
        },
        "outputId": "cb525582-df2f-49d5-a8ed-6a2ce7284cb9"
      },
      "source": [
        "from keras.optimizers import SGD\n",
        "from keras.callbacks import LearningRateScheduler\n",
        "import math\n",
        "\n",
        "def step_decay(epoch):\n",
        "\tinitial_lrate = 0.0004\n",
        "\tdrop = 0.6\n",
        "\tepochs_drop = 7.0\n",
        "\tlrate = initial_lrate * math.pow(drop, math.floor((1+epoch)/epochs_drop))\n",
        "\treturn lrate      \n",
        "\n",
        "opt = SGD(lr=0.0, momentum=0.9)\n",
        "lrate = LearningRateScheduler(step_decay)\n",
        "callbacks_list = [lrate]\n",
        "\n",
        "age_model.compile(loss='mse', optimizer=opt, metrics=['mae','mse'])\n",
        "\n",
        "train_gen = generate_images(train_idx, is_training=True, batch_size=32)\n",
        "valid_gen = generate_images(val_idx, is_training=True, batch_size=32)\n",
        "\n",
        "\n",
        "history = age_model.fit_generator(train_gen, steps_per_epoch = len(train_idx)//32, epochs=35  , callbacks=callbacks_list,\n",
        "                     validation_data=valid_gen, validation_steps=len(val_idx)//32)\n",
        "\n"
      ],
      "execution_count": null,
      "outputs": [
        {
          "output_type": "stream",
          "text": [
            "Epoch 1/35\n",
            "600/600 [==============================] - 195s 325ms/step - loss: 184.6921 - mae: 10.0674 - mse: 184.6921 - val_loss: 178.0653 - val_mae: 9.7430 - val_mse: 162.8996\n",
            "Epoch 2/35\n",
            "600/600 [==============================] - 193s 322ms/step - loss: 178.7611 - mae: 9.8629 - mse: 178.7611 - val_loss: 200.8042 - val_mae: 10.1857 - val_mse: 169.3924\n",
            "Epoch 3/35\n",
            "600/600 [==============================] - 192s 320ms/step - loss: 176.9419 - mae: 9.8325 - mse: 176.9419 - val_loss: 190.5294 - val_mae: 10.1030 - val_mse: 170.7226\n",
            "Epoch 4/35\n",
            "600/600 [==============================] - 192s 320ms/step - loss: 175.7110 - mae: 9.7805 - mse: 175.7110 - val_loss: 264.7978 - val_mae: 9.7143 - val_mse: 163.1962\n",
            "Epoch 5/35\n",
            "600/600 [==============================] - 192s 319ms/step - loss: 174.2618 - mae: 9.7702 - mse: 174.2619 - val_loss: 254.4804 - val_mae: 9.8159 - val_mse: 163.0912\n",
            "Epoch 6/35\n",
            "600/600 [==============================] - 192s 320ms/step - loss: 190.0031 - mae: 10.1770 - mse: 190.0030 - val_loss: 175.1094 - val_mae: 9.6549 - val_mse: 154.3822\n",
            "Epoch 7/35\n",
            "600/600 [==============================] - 192s 320ms/step - loss: 175.1562 - mae: 9.7359 - mse: 175.1562 - val_loss: 119.6620 - val_mae: 9.6472 - val_mse: 156.3295\n",
            "Epoch 8/35\n",
            "600/600 [==============================] - 192s 320ms/step - loss: 172.5693 - mae: 9.6888 - mse: 172.5692 - val_loss: 148.9496 - val_mae: 9.7737 - val_mse: 156.7606\n",
            "Epoch 9/35\n",
            "600/600 [==============================] - 192s 320ms/step - loss: 172.5859 - mae: 9.6777 - mse: 172.5859 - val_loss: 107.4798 - val_mae: 9.0066 - val_mse: 140.1971\n",
            "Epoch 10/35\n",
            "600/600 [==============================] - 191s 319ms/step - loss: 169.3820 - mae: 9.5975 - mse: 169.3819 - val_loss: 141.5911 - val_mae: 9.8499 - val_mse: 162.8621\n",
            "Epoch 11/35\n",
            "600/600 [==============================] - 192s 320ms/step - loss: 168.8590 - mae: 9.5667 - mse: 168.8590 - val_loss: 121.3755 - val_mae: 9.1006 - val_mse: 146.5065\n",
            "Epoch 12/35\n",
            "600/600 [==============================] - 192s 321ms/step - loss: 166.1012 - mae: 9.4762 - mse: 166.1013 - val_loss: 211.5326 - val_mae: 8.7671 - val_mse: 136.1500\n",
            "Epoch 13/35\n",
            "600/600 [==============================] - 192s 320ms/step - loss: 164.8752 - mae: 9.4707 - mse: 164.8752 - val_loss: 127.4762 - val_mae: 9.2083 - val_mse: 151.8017\n",
            "Epoch 14/35\n",
            "600/600 [==============================] - 192s 320ms/step - loss: 163.5456 - mae: 9.4220 - mse: 163.5456 - val_loss: 140.3583 - val_mae: 8.9713 - val_mse: 139.4812\n",
            "Epoch 15/35\n",
            "600/600 [==============================] - 192s 320ms/step - loss: 161.8256 - mae: 9.4059 - mse: 161.8256 - val_loss: 113.9403 - val_mae: 8.8969 - val_mse: 138.8424\n",
            "Epoch 16/35\n",
            "600/600 [==============================] - 192s 319ms/step - loss: 163.6228 - mae: 9.4260 - mse: 163.6228 - val_loss: 103.9962 - val_mae: 9.0739 - val_mse: 141.3201\n",
            "Epoch 17/35\n",
            "600/600 [==============================] - 192s 320ms/step - loss: 163.2905 - mae: 9.4286 - mse: 163.2906 - val_loss: 183.3347 - val_mae: 9.0493 - val_mse: 144.4629\n",
            "Epoch 18/35\n",
            "600/600 [==============================] - 192s 320ms/step - loss: 163.1517 - mae: 9.4160 - mse: 163.1517 - val_loss: 189.9519 - val_mae: 8.8361 - val_mse: 135.2074\n",
            "Epoch 19/35\n",
            "600/600 [==============================] - 192s 320ms/step - loss: 163.0980 - mae: 9.4138 - mse: 163.0981 - val_loss: 127.4714 - val_mae: 8.7438 - val_mse: 133.0129\n",
            "Epoch 20/35\n",
            "600/600 [==============================] - 192s 321ms/step - loss: 160.8590 - mae: 9.3791 - mse: 160.8589 - val_loss: 222.2837 - val_mae: 8.7748 - val_mse: 137.6681\n",
            "Epoch 21/35\n",
            "600/600 [==============================] - 192s 320ms/step - loss: 161.3489 - mae: 9.3683 - mse: 161.3490 - val_loss: 230.4990 - val_mae: 8.6045 - val_mse: 130.2907\n",
            "Epoch 22/35\n",
            "600/600 [==============================] - 192s 320ms/step - loss: 159.2838 - mae: 9.2823 - mse: 159.2838 - val_loss: 175.7983 - val_mae: 8.6942 - val_mse: 132.4936\n",
            "Epoch 23/35\n",
            "600/600 [==============================] - 193s 321ms/step - loss: 162.3115 - mae: 9.3892 - mse: 162.3115 - val_loss: 116.8927 - val_mae: 8.6356 - val_mse: 131.0856\n",
            "Epoch 24/35\n",
            "600/600 [==============================] - 192s 320ms/step - loss: 160.5350 - mae: 9.3222 - mse: 160.5350 - val_loss: 122.8541 - val_mae: 8.7047 - val_mse: 132.1513\n",
            "Epoch 25/35\n",
            "600/600 [==============================] - 192s 320ms/step - loss: 157.2686 - mae: 9.2115 - mse: 157.2686 - val_loss: 96.6823 - val_mae: 8.7223 - val_mse: 132.3015\n",
            "Epoch 26/35\n",
            "600/600 [==============================] - 192s 320ms/step - loss: 159.1229 - mae: 9.2791 - mse: 159.1229 - val_loss: 73.7183 - val_mae: 8.8303 - val_mse: 136.1905\n",
            "Epoch 27/35\n",
            "600/600 [==============================] - 192s 320ms/step - loss: 159.8191 - mae: 9.3238 - mse: 159.8192 - val_loss: 100.8776 - val_mae: 8.6756 - val_mse: 132.6659\n",
            "Epoch 28/35\n",
            "600/600 [==============================] - 192s 321ms/step - loss: 159.0668 - mae: 9.2954 - mse: 159.0667 - val_loss: 94.9467 - val_mae: 8.9261 - val_mse: 138.9853\n",
            "Epoch 29/35\n",
            "600/600 [==============================] - 193s 321ms/step - loss: 172.7562 - mae: 9.6380 - mse: 172.7561 - val_loss: 210.8617 - val_mae: 9.9008 - val_mse: 167.5206\n",
            "Epoch 30/35\n",
            "600/600 [==============================] - 192s 320ms/step - loss: 188.4371 - mae: 10.1524 - mse: 188.4372 - val_loss: 256.3394 - val_mae: 9.2618 - val_mse: 145.8572\n",
            "Epoch 31/35\n",
            "600/600 [==============================] - 192s 321ms/step - loss: 175.7167 - mae: 9.7694 - mse: 175.7167 - val_loss: 183.2227 - val_mae: 9.1241 - val_mse: 141.2819\n",
            "Epoch 32/35\n",
            "600/600 [==============================] - 192s 320ms/step - loss: 168.8020 - mae: 9.6219 - mse: 168.8020 - val_loss: 112.5058 - val_mae: 8.8207 - val_mse: 135.1488\n",
            "Epoch 33/35\n",
            "600/600 [==============================] - 192s 321ms/step - loss: 165.8407 - mae: 9.5216 - mse: 165.8407 - val_loss: 129.6699 - val_mae: 8.8344 - val_mse: 136.3027\n",
            "Epoch 34/35\n",
            "600/600 [==============================] - 192s 320ms/step - loss: 167.5951 - mae: 9.5754 - mse: 167.5951 - val_loss: 153.3043 - val_mae: 8.8337 - val_mse: 136.6342\n",
            "Epoch 35/35\n",
            "600/600 [==============================] - 193s 321ms/step - loss: 165.1987 - mae: 9.5015 - mse: 165.1988 - val_loss: 206.7362 - val_mae: 8.7196 - val_mse: 133.4666\n"
          ],
          "name": "stdout"
        }
      ]
    },
    {
      "cell_type": "markdown",
      "metadata": {
        "id": "Vxfs7ePm9Uhl",
        "colab_type": "text"
      },
      "source": [
        "### Model testing - "
      ]
    },
    {
      "cell_type": "code",
      "metadata": {
        "id": "IlO-D6tYx1oj",
        "colab_type": "code",
        "colab": {
          "base_uri": "https://localhost:8080/",
          "height": 50
        },
        "outputId": "ddc82d8e-1e79-46f3-b0eb-93a62ef81629"
      },
      "source": [
        "test_generator = generate_images(test_idx, is_training=False, batch_size=1)\n",
        "age_model.evaluate(test_generator, steps = 2371)\n",
        "\n",
        "# O/p of the format - Loss, mae , mse"
      ],
      "execution_count": null,
      "outputs": [
        {
          "output_type": "stream",
          "text": [
            "2371/2371 [==============================] - 26s 11ms/step\n"
          ],
          "name": "stdout"
        },
        {
          "output_type": "execute_result",
          "data": {
            "text/plain": [
              "[356.9361267089844, 8.577977180480957, 129.62869262695312]"
            ]
          },
          "metadata": {
            "tags": []
          },
          "execution_count": 37
        }
      ]
    },
    {
      "cell_type": "markdown",
      "metadata": {
        "id": "aa9MF0z39Gti",
        "colab_type": "text"
      },
      "source": [
        "It is pretty clear, that SGD even with momentum doens't seem to be performing well in regression tasks at least. The model is struggling to learn."
      ]
    },
    {
      "cell_type": "markdown",
      "metadata": {
        "id": "W69t2TJPdS_V",
        "colab_type": "text"
      },
      "source": [
        "## NADAM Optimizer\n",
        "\n",
        "### Model training - "
      ]
    },
    {
      "cell_type": "code",
      "metadata": {
        "id": "ZGCxwhw3W9Ly",
        "colab_type": "code",
        "colab": {
          "base_uri": "https://localhost:8080/",
          "height": 1000
        },
        "outputId": "c39e616d-c310-41b4-b4a1-e3c7430c99ab"
      },
      "source": [
        "from keras.optimizers import Nadam\n",
        "from keras.callbacks import LearningRateScheduler\n",
        "import math\n",
        "\n",
        "def step_decay(epoch):\n",
        "\tinitial_lrate = 0.004\n",
        "\tdrop = 0.55\n",
        "\tepochs_drop = 7.0\n",
        "\tlrate = initial_lrate * math.pow(drop, math.floor((1+epoch)/epochs_drop))\n",
        "\treturn lrate      \n",
        "\n",
        "opt = Nadam(lr=0.0)\n",
        "lrate = LearningRateScheduler(step_decay)\n",
        "callbacks_list = [lrate]\n",
        "\n",
        "age_model.compile(loss='mse', optimizer=opt, metrics=['mae','mse'])\n",
        "\n",
        "train_gen = generate_images(train_idx, is_training=True, batch_size=32)\n",
        "valid_gen = generate_images(val_idx, is_training=True, batch_size=32)\n",
        "\n",
        "\n",
        "history = age_model.fit_generator(train_gen, steps_per_epoch = len(train_idx)//32, epochs=40  , callbacks=callbacks_list,\n",
        "                     validation_data=valid_gen, validation_steps=len(val_idx)//32)\n",
        "\n"
      ],
      "execution_count": null,
      "outputs": [
        {
          "output_type": "stream",
          "text": [
            "Epoch 1/40\n",
            "600/600 [==============================] - 135s 225ms/step - loss: 491.1004 - mae: 16.4644 - mse: 491.1006 - val_loss: 389.6859 - val_mae: 13.8956 - val_mse: 316.7822\n",
            "Epoch 2/40\n",
            "600/600 [==============================] - 132s 221ms/step - loss: 287.6055 - mae: 12.6317 - mse: 287.6054 - val_loss: 436.6376 - val_mae: 11.9735 - val_mse: 288.4094\n",
            "Epoch 3/40\n",
            "600/600 [==============================] - 132s 219ms/step - loss: 235.9626 - mae: 11.2267 - mse: 235.9626 - val_loss: 241.4526 - val_mae: 10.9261 - val_mse: 231.5452\n",
            "Epoch 4/40\n",
            "600/600 [==============================] - 132s 220ms/step - loss: 203.6175 - mae: 10.4281 - mse: 203.6175 - val_loss: 209.5607 - val_mae: 9.3801 - val_mse: 172.5403\n",
            "Epoch 5/40\n",
            "600/600 [==============================] - 132s 220ms/step - loss: 176.0176 - mae: 9.6797 - mse: 176.0175 - val_loss: 196.6084 - val_mae: 9.8880 - val_mse: 175.7350\n",
            "Epoch 6/40\n",
            "600/600 [==============================] - 132s 220ms/step - loss: 158.3159 - mae: 9.2048 - mse: 158.3160 - val_loss: 173.6545 - val_mae: 9.0002 - val_mse: 139.2174\n",
            "Epoch 7/40\n",
            "600/600 [==============================] - 131s 219ms/step - loss: 143.1463 - mae: 8.7969 - mse: 143.1464 - val_loss: 126.0520 - val_mae: 8.9913 - val_mse: 153.0600\n",
            "Epoch 8/40\n",
            "600/600 [==============================] - 131s 218ms/step - loss: 133.0912 - mae: 8.4679 - mse: 133.0911 - val_loss: 78.2852 - val_mae: 7.5677 - val_mse: 107.8011\n",
            "Epoch 9/40\n",
            "600/600 [==============================] - 131s 218ms/step - loss: 124.0966 - mae: 8.1928 - mse: 124.0966 - val_loss: 69.3204 - val_mae: 7.4699 - val_mse: 102.4182\n",
            "Epoch 10/40\n",
            "600/600 [==============================] - 131s 218ms/step - loss: 116.9607 - mae: 7.9827 - mse: 116.9608 - val_loss: 97.7307 - val_mae: 7.4585 - val_mse: 102.2412\n",
            "Epoch 11/40\n",
            "600/600 [==============================] - 131s 219ms/step - loss: 114.2056 - mae: 7.8237 - mse: 114.2057 - val_loss: 112.0265 - val_mae: 7.8018 - val_mse: 116.1356\n",
            "Epoch 12/40\n",
            "600/600 [==============================] - 131s 219ms/step - loss: 116.4100 - mae: 7.9351 - mse: 116.4100 - val_loss: 316.4801 - val_mae: 7.9790 - val_mse: 117.6651\n",
            "Epoch 13/40\n",
            "600/600 [==============================] - 131s 219ms/step - loss: 106.4982 - mae: 7.5806 - mse: 106.4983 - val_loss: 56.0779 - val_mae: 7.0003 - val_mse: 87.5046\n",
            "Epoch 14/40\n",
            "600/600 [==============================] - 131s 219ms/step - loss: 98.9541 - mae: 7.3094 - mse: 98.9541 - val_loss: 85.7452 - val_mae: 6.9835 - val_mse: 86.7952\n",
            "Epoch 15/40\n",
            "600/600 [==============================] - 131s 219ms/step - loss: 95.2368 - mae: 7.1912 - mse: 95.2368 - val_loss: 66.8743 - val_mae: 6.7001 - val_mse: 83.2380\n",
            "Epoch 16/40\n",
            "600/600 [==============================] - 132s 220ms/step - loss: 95.8452 - mae: 7.2051 - mse: 95.8452 - val_loss: 47.6151 - val_mae: 6.6209 - val_mse: 80.9262\n",
            "Epoch 17/40\n",
            "600/600 [==============================] - 131s 218ms/step - loss: 94.3958 - mae: 7.1347 - mse: 94.3958 - val_loss: 78.7799 - val_mae: 6.5800 - val_mse: 81.1414\n",
            "Epoch 18/40\n",
            "600/600 [==============================] - 132s 220ms/step - loss: 95.4508 - mae: 7.1885 - mse: 95.4508 - val_loss: 51.1802 - val_mae: 6.5188 - val_mse: 79.6782\n",
            "Epoch 19/40\n",
            "600/600 [==============================] - 131s 218ms/step - loss: 92.6595 - mae: 7.0713 - mse: 92.6595 - val_loss: 100.8760 - val_mae: 6.6284 - val_mse: 83.1266\n",
            "Epoch 20/40\n",
            "600/600 [==============================] - 131s 219ms/step - loss: 89.6782 - mae: 6.9607 - mse: 89.6782 - val_loss: 132.5918 - val_mae: 6.7138 - val_mse: 81.6623\n",
            "Epoch 21/40\n",
            "600/600 [==============================] - 131s 219ms/step - loss: 85.8026 - mae: 6.8191 - mse: 85.8025 - val_loss: 106.3285 - val_mae: 6.5078 - val_mse: 79.6695\n",
            "Epoch 22/40\n",
            "600/600 [==============================] - 131s 219ms/step - loss: 81.8751 - mae: 6.6896 - mse: 81.8751 - val_loss: 81.3685 - val_mae: 6.4099 - val_mse: 76.4979\n",
            "Epoch 23/40\n",
            "600/600 [==============================] - 131s 218ms/step - loss: 83.1530 - mae: 6.7323 - mse: 83.1530 - val_loss: 92.6043 - val_mae: 6.7324 - val_mse: 90.9204\n",
            "Epoch 24/40\n",
            "600/600 [==============================] - 131s 218ms/step - loss: 82.3865 - mae: 6.7061 - mse: 82.3866 - val_loss: 106.2915 - val_mae: 6.5359 - val_mse: 80.4047\n",
            "Epoch 25/40\n",
            "600/600 [==============================] - 131s 218ms/step - loss: 80.2761 - mae: 6.6029 - mse: 80.2761 - val_loss: 89.0453 - val_mae: 6.4399 - val_mse: 77.9307\n",
            "Epoch 26/40\n",
            "600/600 [==============================] - 131s 218ms/step - loss: 78.1492 - mae: 6.5343 - mse: 78.1492 - val_loss: 35.0582 - val_mae: 6.3935 - val_mse: 77.3883\n",
            "Epoch 27/40\n",
            "600/600 [==============================] - 131s 218ms/step - loss: 77.7027 - mae: 6.5068 - mse: 77.7026 - val_loss: 68.4238 - val_mae: 6.2919 - val_mse: 74.0561\n",
            "Epoch 28/40\n",
            "600/600 [==============================] - 131s 218ms/step - loss: 78.3805 - mae: 6.5034 - mse: 78.3805 - val_loss: 51.0389 - val_mae: 6.3325 - val_mse: 74.7351\n",
            "Epoch 29/40\n",
            "600/600 [==============================] - 131s 218ms/step - loss: 76.2821 - mae: 6.4694 - mse: 76.2820 - val_loss: 95.4466 - val_mae: 6.2991 - val_mse: 75.2893\n",
            "Epoch 30/40\n",
            "600/600 [==============================] - 132s 219ms/step - loss: 75.5431 - mae: 6.4190 - mse: 75.5431 - val_loss: 85.2357 - val_mae: 6.3332 - val_mse: 76.3236\n",
            "Epoch 31/40\n",
            "600/600 [==============================] - 131s 219ms/step - loss: 75.5337 - mae: 6.4121 - mse: 75.5337 - val_loss: 74.6515 - val_mae: 6.2977 - val_mse: 74.8242\n",
            "Epoch 32/40\n",
            "600/600 [==============================] - 132s 220ms/step - loss: 74.2732 - mae: 6.3767 - mse: 74.2732 - val_loss: 81.4842 - val_mae: 6.3010 - val_mse: 74.0703\n",
            "Epoch 33/40\n",
            "600/600 [==============================] - 131s 218ms/step - loss: 72.5898 - mae: 6.3017 - mse: 72.5898 - val_loss: 81.2858 - val_mae: 6.2415 - val_mse: 73.3046\n",
            "Epoch 34/40\n",
            "600/600 [==============================] - 131s 218ms/step - loss: 72.9808 - mae: 6.3056 - mse: 72.9808 - val_loss: 98.2397 - val_mae: 6.2488 - val_mse: 73.7096\n",
            "Epoch 35/40\n",
            "600/600 [==============================] - 131s 219ms/step - loss: 71.8758 - mae: 6.2611 - mse: 71.8758 - val_loss: 86.2157 - val_mae: 6.2044 - val_mse: 72.8702\n",
            "Epoch 36/40\n",
            "600/600 [==============================] - 131s 218ms/step - loss: 71.2492 - mae: 6.2464 - mse: 71.2492 - val_loss: 61.8913 - val_mae: 6.1638 - val_mse: 71.7882\n",
            "Epoch 37/40\n",
            "600/600 [==============================] - 132s 220ms/step - loss: 70.7400 - mae: 6.2284 - mse: 70.7400 - val_loss: 56.0274 - val_mae: 6.1749 - val_mse: 72.3652\n",
            "Epoch 38/40\n",
            "600/600 [==============================] - 131s 219ms/step - loss: 71.6308 - mae: 6.2231 - mse: 71.6308 - val_loss: 57.9602 - val_mae: 6.2050 - val_mse: 73.2711\n",
            "Epoch 39/40\n",
            "600/600 [==============================] - 132s 219ms/step - loss: 70.8706 - mae: 6.2248 - mse: 70.8706 - val_loss: 48.6134 - val_mae: 6.1884 - val_mse: 72.2572\n",
            "Epoch 40/40\n",
            "600/600 [==============================] - 131s 219ms/step - loss: 69.8723 - mae: 6.1733 - mse: 69.8723 - val_loss: 44.3593 - val_mae: 6.1912 - val_mse: 72.6641\n"
          ],
          "name": "stdout"
        }
      ]
    },
    {
      "cell_type": "code",
      "metadata": {
        "id": "cdDpvkLYivwj",
        "colab_type": "code",
        "colab": {
          "base_uri": "https://localhost:8080/",
          "height": 534
        },
        "outputId": "097666a3-14ec-4e72-82da-e4ba94b09701"
      },
      "source": [
        "import plotly.graph_objects as go\n",
        "\n",
        "plt.clf()\n",
        "\n",
        "fig = go.Figure()\n",
        "fig.add_trace(go.Scatter(\n",
        "                    y=history.history['loss'],\n",
        "                    name='Train'))\n",
        "\n",
        "fig.add_trace(go.Scatter(\n",
        "                    y=history.history['val_loss'],\n",
        "                    name='Validation'))\n",
        "\n",
        "\n",
        "fig.update_layout(height=500, \n",
        "                  width=700,\n",
        "                  title='Train vs Val Loss',\n",
        "                  xaxis_title='Epoch',\n",
        "                  yaxis_title='loss')\n",
        "\n",
        "\n",
        "fig.show()"
      ],
      "execution_count": null,
      "outputs": [
        {
          "output_type": "display_data",
          "data": {
            "text/html": [
              "<html>\n",
              "<head><meta charset=\"utf-8\" /></head>\n",
              "<body>\n",
              "    <div>\n",
              "            <script src=\"https://cdnjs.cloudflare.com/ajax/libs/mathjax/2.7.5/MathJax.js?config=TeX-AMS-MML_SVG\"></script><script type=\"text/javascript\">if (window.MathJax) {MathJax.Hub.Config({SVG: {font: \"STIX-Web\"}});}</script>\n",
              "                <script type=\"text/javascript\">window.PlotlyConfig = {MathJaxConfig: 'local'};</script>\n",
              "        <script src=\"https://cdn.plot.ly/plotly-latest.min.js\"></script>    \n",
              "            <div id=\"64465ca1-185e-4647-bfc6-5ae951658c2b\" class=\"plotly-graph-div\" style=\"height:500px; width:700px;\"></div>\n",
              "            <script type=\"text/javascript\">\n",
              "                \n",
              "                    window.PLOTLYENV=window.PLOTLYENV || {};\n",
              "                    \n",
              "                if (document.getElementById(\"64465ca1-185e-4647-bfc6-5ae951658c2b\")) {\n",
              "                    Plotly.newPlot(\n",
              "                        '64465ca1-185e-4647-bfc6-5ae951658c2b',\n",
              "                        [{\"name\": \"Train\", \"type\": \"scatter\", \"y\": [491.1004313913981, 287.605522257487, 235.96259218851725, 203.61751852671304, 176.0175726890564, 158.31590903600056, 143.14630181630451, 133.09115774154662, 124.09664861679077, 116.96071739196778, 114.2056425221761, 116.41003021240235, 106.49816443125407, 98.95405759175618, 95.23678598721823, 95.845249004364, 94.39583504358927, 95.45079009691874, 92.65950353622436, 89.67816473007203, 85.80256394704183, 81.87508700052898, 83.15302786191305, 82.38654306411743, 80.27610187212626, 78.1492352326711, 77.70265312830607, 78.38048461914063, 76.28205289840699, 75.54313089370727, 75.53372137387593, 74.273232644399, 72.58975277900696, 72.98076378504435, 71.87582702000935, 71.24922967910767, 70.73999166806539, 71.63083071072896, 70.870643603007, 69.8723261197408]}, {\"name\": \"Validation\", \"type\": \"scatter\", \"y\": [389.68585205078125, 436.63763427734375, 241.45263671875, 209.56065368652344, 196.6083984375, 173.6544952392578, 126.05204772949219, 78.28516387939453, 69.32037353515625, 97.73074340820312, 112.0264892578125, 316.4800720214844, 56.077938079833984, 85.74516296386719, 66.87425994873047, 47.615135192871094, 78.77989959716797, 51.18016052246094, 100.87596893310547, 132.5918426513672, 106.32852172851562, 81.36845397949219, 92.60426330566406, 106.29153442382812, 89.0453109741211, 35.058197021484375, 68.42384338378906, 51.038902282714844, 95.44659423828125, 85.23573303222656, 74.65154266357422, 81.4841537475586, 81.2857666015625, 98.23965454101562, 86.21574401855469, 61.891319274902344, 56.027400970458984, 57.960201263427734, 48.61338424682617, 44.35932922363281]}],\n",
              "                        {\"height\": 500, \"template\": {\"data\": {\"bar\": [{\"error_x\": {\"color\": \"#2a3f5f\"}, \"error_y\": {\"color\": \"#2a3f5f\"}, \"marker\": {\"line\": {\"color\": \"#E5ECF6\", \"width\": 0.5}}, \"type\": \"bar\"}], \"barpolar\": [{\"marker\": {\"line\": {\"color\": \"#E5ECF6\", \"width\": 0.5}}, \"type\": \"barpolar\"}], \"carpet\": [{\"aaxis\": {\"endlinecolor\": \"#2a3f5f\", \"gridcolor\": \"white\", \"linecolor\": \"white\", \"minorgridcolor\": \"white\", \"startlinecolor\": \"#2a3f5f\"}, \"baxis\": {\"endlinecolor\": \"#2a3f5f\", \"gridcolor\": \"white\", \"linecolor\": \"white\", \"minorgridcolor\": \"white\", \"startlinecolor\": \"#2a3f5f\"}, \"type\": \"carpet\"}], \"choropleth\": [{\"colorbar\": {\"outlinewidth\": 0, \"ticks\": \"\"}, \"type\": \"choropleth\"}], \"contour\": [{\"colorbar\": {\"outlinewidth\": 0, \"ticks\": \"\"}, \"colorscale\": [[0.0, \"#0d0887\"], [0.1111111111111111, \"#46039f\"], [0.2222222222222222, \"#7201a8\"], [0.3333333333333333, \"#9c179e\"], [0.4444444444444444, \"#bd3786\"], [0.5555555555555556, \"#d8576b\"], [0.6666666666666666, \"#ed7953\"], [0.7777777777777778, \"#fb9f3a\"], [0.8888888888888888, \"#fdca26\"], [1.0, \"#f0f921\"]], \"type\": \"contour\"}], \"contourcarpet\": [{\"colorbar\": {\"outlinewidth\": 0, \"ticks\": \"\"}, \"type\": \"contourcarpet\"}], \"heatmap\": [{\"colorbar\": {\"outlinewidth\": 0, \"ticks\": \"\"}, \"colorscale\": [[0.0, \"#0d0887\"], [0.1111111111111111, \"#46039f\"], [0.2222222222222222, \"#7201a8\"], [0.3333333333333333, \"#9c179e\"], [0.4444444444444444, \"#bd3786\"], [0.5555555555555556, \"#d8576b\"], [0.6666666666666666, \"#ed7953\"], [0.7777777777777778, \"#fb9f3a\"], [0.8888888888888888, \"#fdca26\"], [1.0, \"#f0f921\"]], \"type\": \"heatmap\"}], \"heatmapgl\": [{\"colorbar\": {\"outlinewidth\": 0, \"ticks\": \"\"}, \"colorscale\": [[0.0, \"#0d0887\"], [0.1111111111111111, \"#46039f\"], [0.2222222222222222, \"#7201a8\"], [0.3333333333333333, \"#9c179e\"], [0.4444444444444444, \"#bd3786\"], [0.5555555555555556, \"#d8576b\"], [0.6666666666666666, \"#ed7953\"], [0.7777777777777778, \"#fb9f3a\"], [0.8888888888888888, \"#fdca26\"], [1.0, \"#f0f921\"]], \"type\": \"heatmapgl\"}], \"histogram\": [{\"marker\": {\"colorbar\": {\"outlinewidth\": 0, \"ticks\": \"\"}}, \"type\": \"histogram\"}], \"histogram2d\": [{\"colorbar\": {\"outlinewidth\": 0, \"ticks\": \"\"}, \"colorscale\": [[0.0, \"#0d0887\"], [0.1111111111111111, \"#46039f\"], [0.2222222222222222, \"#7201a8\"], [0.3333333333333333, \"#9c179e\"], [0.4444444444444444, \"#bd3786\"], [0.5555555555555556, \"#d8576b\"], [0.6666666666666666, \"#ed7953\"], [0.7777777777777778, \"#fb9f3a\"], [0.8888888888888888, \"#fdca26\"], [1.0, \"#f0f921\"]], \"type\": \"histogram2d\"}], \"histogram2dcontour\": [{\"colorbar\": {\"outlinewidth\": 0, \"ticks\": \"\"}, \"colorscale\": [[0.0, \"#0d0887\"], [0.1111111111111111, \"#46039f\"], [0.2222222222222222, \"#7201a8\"], [0.3333333333333333, \"#9c179e\"], [0.4444444444444444, \"#bd3786\"], [0.5555555555555556, \"#d8576b\"], [0.6666666666666666, \"#ed7953\"], [0.7777777777777778, \"#fb9f3a\"], [0.8888888888888888, \"#fdca26\"], [1.0, \"#f0f921\"]], \"type\": \"histogram2dcontour\"}], \"mesh3d\": [{\"colorbar\": {\"outlinewidth\": 0, \"ticks\": \"\"}, \"type\": \"mesh3d\"}], \"parcoords\": [{\"line\": {\"colorbar\": {\"outlinewidth\": 0, \"ticks\": \"\"}}, \"type\": \"parcoords\"}], \"pie\": [{\"automargin\": true, \"type\": \"pie\"}], \"scatter\": [{\"marker\": {\"colorbar\": {\"outlinewidth\": 0, \"ticks\": \"\"}}, \"type\": \"scatter\"}], \"scatter3d\": [{\"line\": {\"colorbar\": {\"outlinewidth\": 0, \"ticks\": \"\"}}, \"marker\": {\"colorbar\": {\"outlinewidth\": 0, \"ticks\": \"\"}}, \"type\": \"scatter3d\"}], \"scattercarpet\": [{\"marker\": {\"colorbar\": {\"outlinewidth\": 0, \"ticks\": \"\"}}, \"type\": \"scattercarpet\"}], \"scattergeo\": [{\"marker\": {\"colorbar\": {\"outlinewidth\": 0, \"ticks\": \"\"}}, \"type\": \"scattergeo\"}], \"scattergl\": [{\"marker\": {\"colorbar\": {\"outlinewidth\": 0, \"ticks\": \"\"}}, \"type\": \"scattergl\"}], \"scattermapbox\": [{\"marker\": {\"colorbar\": {\"outlinewidth\": 0, \"ticks\": \"\"}}, \"type\": \"scattermapbox\"}], \"scatterpolar\": [{\"marker\": {\"colorbar\": {\"outlinewidth\": 0, \"ticks\": \"\"}}, \"type\": \"scatterpolar\"}], \"scatterpolargl\": [{\"marker\": {\"colorbar\": {\"outlinewidth\": 0, \"ticks\": \"\"}}, \"type\": \"scatterpolargl\"}], \"scatterternary\": [{\"marker\": {\"colorbar\": {\"outlinewidth\": 0, \"ticks\": \"\"}}, \"type\": \"scatterternary\"}], \"surface\": [{\"colorbar\": {\"outlinewidth\": 0, \"ticks\": \"\"}, \"colorscale\": [[0.0, \"#0d0887\"], [0.1111111111111111, \"#46039f\"], [0.2222222222222222, \"#7201a8\"], [0.3333333333333333, \"#9c179e\"], [0.4444444444444444, \"#bd3786\"], [0.5555555555555556, \"#d8576b\"], [0.6666666666666666, \"#ed7953\"], [0.7777777777777778, \"#fb9f3a\"], [0.8888888888888888, \"#fdca26\"], [1.0, \"#f0f921\"]], \"type\": \"surface\"}], \"table\": [{\"cells\": {\"fill\": {\"color\": \"#EBF0F8\"}, \"line\": {\"color\": \"white\"}}, \"header\": {\"fill\": {\"color\": \"#C8D4E3\"}, \"line\": {\"color\": \"white\"}}, \"type\": \"table\"}]}, \"layout\": {\"annotationdefaults\": {\"arrowcolor\": \"#2a3f5f\", \"arrowhead\": 0, \"arrowwidth\": 1}, \"coloraxis\": {\"colorbar\": {\"outlinewidth\": 0, \"ticks\": \"\"}}, \"colorscale\": {\"diverging\": [[0, \"#8e0152\"], [0.1, \"#c51b7d\"], [0.2, \"#de77ae\"], [0.3, \"#f1b6da\"], [0.4, \"#fde0ef\"], [0.5, \"#f7f7f7\"], [0.6, \"#e6f5d0\"], [0.7, \"#b8e186\"], [0.8, \"#7fbc41\"], [0.9, \"#4d9221\"], [1, \"#276419\"]], \"sequential\": [[0.0, \"#0d0887\"], [0.1111111111111111, \"#46039f\"], [0.2222222222222222, \"#7201a8\"], [0.3333333333333333, \"#9c179e\"], [0.4444444444444444, \"#bd3786\"], [0.5555555555555556, \"#d8576b\"], [0.6666666666666666, \"#ed7953\"], [0.7777777777777778, \"#fb9f3a\"], [0.8888888888888888, \"#fdca26\"], [1.0, \"#f0f921\"]], \"sequentialminus\": [[0.0, \"#0d0887\"], [0.1111111111111111, \"#46039f\"], [0.2222222222222222, \"#7201a8\"], [0.3333333333333333, \"#9c179e\"], [0.4444444444444444, \"#bd3786\"], [0.5555555555555556, \"#d8576b\"], [0.6666666666666666, \"#ed7953\"], [0.7777777777777778, \"#fb9f3a\"], [0.8888888888888888, \"#fdca26\"], [1.0, \"#f0f921\"]]}, \"colorway\": [\"#636efa\", \"#EF553B\", \"#00cc96\", \"#ab63fa\", \"#FFA15A\", \"#19d3f3\", \"#FF6692\", \"#B6E880\", \"#FF97FF\", \"#FECB52\"], \"font\": {\"color\": \"#2a3f5f\"}, \"geo\": {\"bgcolor\": \"white\", \"lakecolor\": \"white\", \"landcolor\": \"#E5ECF6\", \"showlakes\": true, \"showland\": true, \"subunitcolor\": \"white\"}, \"hoverlabel\": {\"align\": \"left\"}, \"hovermode\": \"closest\", \"mapbox\": {\"style\": \"light\"}, \"paper_bgcolor\": \"white\", \"plot_bgcolor\": \"#E5ECF6\", \"polar\": {\"angularaxis\": {\"gridcolor\": \"white\", \"linecolor\": \"white\", \"ticks\": \"\"}, \"bgcolor\": \"#E5ECF6\", \"radialaxis\": {\"gridcolor\": \"white\", \"linecolor\": \"white\", \"ticks\": \"\"}}, \"scene\": {\"xaxis\": {\"backgroundcolor\": \"#E5ECF6\", \"gridcolor\": \"white\", \"gridwidth\": 2, \"linecolor\": \"white\", \"showbackground\": true, \"ticks\": \"\", \"zerolinecolor\": \"white\"}, \"yaxis\": {\"backgroundcolor\": \"#E5ECF6\", \"gridcolor\": \"white\", \"gridwidth\": 2, \"linecolor\": \"white\", \"showbackground\": true, \"ticks\": \"\", \"zerolinecolor\": \"white\"}, \"zaxis\": {\"backgroundcolor\": \"#E5ECF6\", \"gridcolor\": \"white\", \"gridwidth\": 2, \"linecolor\": \"white\", \"showbackground\": true, \"ticks\": \"\", \"zerolinecolor\": \"white\"}}, \"shapedefaults\": {\"line\": {\"color\": \"#2a3f5f\"}}, \"ternary\": {\"aaxis\": {\"gridcolor\": \"white\", \"linecolor\": \"white\", \"ticks\": \"\"}, \"baxis\": {\"gridcolor\": \"white\", \"linecolor\": \"white\", \"ticks\": \"\"}, \"bgcolor\": \"#E5ECF6\", \"caxis\": {\"gridcolor\": \"white\", \"linecolor\": \"white\", \"ticks\": \"\"}}, \"title\": {\"x\": 0.05}, \"xaxis\": {\"automargin\": true, \"gridcolor\": \"white\", \"linecolor\": \"white\", \"ticks\": \"\", \"title\": {\"standoff\": 15}, \"zerolinecolor\": \"white\", \"zerolinewidth\": 2}, \"yaxis\": {\"automargin\": true, \"gridcolor\": \"white\", \"linecolor\": \"white\", \"ticks\": \"\", \"title\": {\"standoff\": 15}, \"zerolinecolor\": \"white\", \"zerolinewidth\": 2}}}, \"title\": {\"text\": \"Train vs Val Loss\"}, \"width\": 700, \"xaxis\": {\"title\": {\"text\": \"Epoch\"}}, \"yaxis\": {\"title\": {\"text\": \"loss\"}}},\n",
              "                        {\"responsive\": true}\n",
              "                    ).then(function(){\n",
              "                            \n",
              "var gd = document.getElementById('64465ca1-185e-4647-bfc6-5ae951658c2b');\n",
              "var x = new MutationObserver(function (mutations, observer) {{\n",
              "        var display = window.getComputedStyle(gd).display;\n",
              "        if (!display || display === 'none') {{\n",
              "            console.log([gd, 'removed!']);\n",
              "            Plotly.purge(gd);\n",
              "            observer.disconnect();\n",
              "        }}\n",
              "}});\n",
              "\n",
              "// Listen for the removal of the full notebook cells\n",
              "var notebookContainer = gd.closest('#notebook-container');\n",
              "if (notebookContainer) {{\n",
              "    x.observe(notebookContainer, {childList: true});\n",
              "}}\n",
              "\n",
              "// Listen for the clearing of the current output cell\n",
              "var outputEl = gd.closest('.output');\n",
              "if (outputEl) {{\n",
              "    x.observe(outputEl, {childList: true});\n",
              "}}\n",
              "\n",
              "                        })\n",
              "                };\n",
              "                \n",
              "            </script>\n",
              "        </div>\n",
              "</body>\n",
              "</html>"
            ]
          },
          "metadata": {
            "tags": []
          }
        },
        {
          "output_type": "display_data",
          "data": {
            "text/plain": [
              "<Figure size 432x288 with 0 Axes>"
            ]
          },
          "metadata": {
            "tags": []
          }
        }
      ]
    },
    {
      "cell_type": "code",
      "metadata": {
        "colab_type": "code",
        "id": "MTSKbozAiv8m",
        "colab": {
          "base_uri": "https://localhost:8080/",
          "height": 534
        },
        "outputId": "cea34701-46cf-4c64-84d4-bf9a838575f7"
      },
      "source": [
        "import plotly.graph_objects as go\n",
        "\n",
        "plt.clf()\n",
        "\n",
        "fig = go.Figure()\n",
        "fig.add_trace(go.Scatter(\n",
        "                    y=history.history['mae'],\n",
        "                    name='Train'))\n",
        "\n",
        "fig.add_trace(go.Scatter(\n",
        "                    y=history.history['val_mae'],\n",
        "                    name='Validation'))\n",
        "\n",
        "\n",
        "fig.update_layout(height=500, \n",
        "                  width=700,\n",
        "                  title='Train vs Val Mean Absolute Error',\n",
        "                  xaxis_title='Epoch',\n",
        "                  yaxis_title='mae')\n",
        "\n",
        "\n",
        "fig.show()"
      ],
      "execution_count": null,
      "outputs": [
        {
          "output_type": "display_data",
          "data": {
            "text/html": [
              "<html>\n",
              "<head><meta charset=\"utf-8\" /></head>\n",
              "<body>\n",
              "    <div>\n",
              "            <script src=\"https://cdnjs.cloudflare.com/ajax/libs/mathjax/2.7.5/MathJax.js?config=TeX-AMS-MML_SVG\"></script><script type=\"text/javascript\">if (window.MathJax) {MathJax.Hub.Config({SVG: {font: \"STIX-Web\"}});}</script>\n",
              "                <script type=\"text/javascript\">window.PlotlyConfig = {MathJaxConfig: 'local'};</script>\n",
              "        <script src=\"https://cdn.plot.ly/plotly-latest.min.js\"></script>    \n",
              "            <div id=\"9d8a6569-327b-4ca7-9bb8-61c08a03c5e8\" class=\"plotly-graph-div\" style=\"height:500px; width:700px;\"></div>\n",
              "            <script type=\"text/javascript\">\n",
              "                \n",
              "                    window.PLOTLYENV=window.PLOTLYENV || {};\n",
              "                    \n",
              "                if (document.getElementById(\"9d8a6569-327b-4ca7-9bb8-61c08a03c5e8\")) {\n",
              "                    Plotly.newPlot(\n",
              "                        '9d8a6569-327b-4ca7-9bb8-61c08a03c5e8',\n",
              "                        [{\"name\": \"Train\", \"type\": \"scatter\", \"y\": [16.46441650390625, 12.631730079650879, 11.22668743133545, 10.428092002868652, 9.679713249206543, 9.204771995544434, 8.796862602233887, 8.46786117553711, 8.192840576171875, 7.982670307159424, 7.823747634887695, 7.935053825378418, 7.580570697784424, 7.309433460235596, 7.191200256347656, 7.205112457275391, 7.134734630584717, 7.1884846687316895, 7.071290493011475, 6.960737228393555, 6.819096565246582, 6.68963623046875, 6.732264518737793, 6.706058502197266, 6.60290002822876, 6.5342841148376465, 6.506831169128418, 6.503358364105225, 6.469361782073975, 6.419028282165527, 6.412147045135498, 6.376720905303955, 6.301706314086914, 6.3056182861328125, 6.261082172393799, 6.246427536010742, 6.2283854484558105, 6.223082542419434, 6.22482442855835, 6.173332691192627]}, {\"name\": \"Validation\", \"type\": \"scatter\", \"y\": [13.895628929138184, 11.973464012145996, 10.926104545593262, 9.3800687789917, 9.88797664642334, 9.000218391418457, 8.991321563720703, 7.567737102508545, 7.469911098480225, 7.4585490226745605, 7.801772594451904, 7.97902250289917, 7.000344753265381, 6.983545303344727, 6.700067043304443, 6.620916366577148, 6.580048084259033, 6.518799304962158, 6.6284027099609375, 6.713802337646484, 6.507846832275391, 6.409850597381592, 6.732356071472168, 6.535910606384277, 6.439944267272949, 6.39353084564209, 6.291895389556885, 6.332510948181152, 6.299078941345215, 6.333216190338135, 6.297722339630127, 6.300953388214111, 6.241498947143555, 6.248821258544922, 6.204413414001465, 6.163813591003418, 6.174890518188477, 6.204990386962891, 6.188379287719727, 6.191165924072266]}],\n",
              "                        {\"height\": 500, \"template\": {\"data\": {\"bar\": [{\"error_x\": {\"color\": \"#2a3f5f\"}, \"error_y\": {\"color\": \"#2a3f5f\"}, \"marker\": {\"line\": {\"color\": \"#E5ECF6\", \"width\": 0.5}}, \"type\": \"bar\"}], \"barpolar\": [{\"marker\": {\"line\": {\"color\": \"#E5ECF6\", \"width\": 0.5}}, \"type\": \"barpolar\"}], \"carpet\": [{\"aaxis\": {\"endlinecolor\": \"#2a3f5f\", \"gridcolor\": \"white\", \"linecolor\": \"white\", \"minorgridcolor\": \"white\", \"startlinecolor\": \"#2a3f5f\"}, \"baxis\": {\"endlinecolor\": \"#2a3f5f\", \"gridcolor\": \"white\", \"linecolor\": \"white\", \"minorgridcolor\": \"white\", \"startlinecolor\": \"#2a3f5f\"}, \"type\": \"carpet\"}], \"choropleth\": [{\"colorbar\": {\"outlinewidth\": 0, \"ticks\": \"\"}, \"type\": \"choropleth\"}], \"contour\": [{\"colorbar\": {\"outlinewidth\": 0, \"ticks\": \"\"}, \"colorscale\": [[0.0, \"#0d0887\"], [0.1111111111111111, \"#46039f\"], [0.2222222222222222, \"#7201a8\"], [0.3333333333333333, \"#9c179e\"], [0.4444444444444444, \"#bd3786\"], [0.5555555555555556, \"#d8576b\"], [0.6666666666666666, \"#ed7953\"], [0.7777777777777778, \"#fb9f3a\"], [0.8888888888888888, \"#fdca26\"], [1.0, \"#f0f921\"]], \"type\": \"contour\"}], \"contourcarpet\": [{\"colorbar\": {\"outlinewidth\": 0, \"ticks\": \"\"}, \"type\": \"contourcarpet\"}], \"heatmap\": [{\"colorbar\": {\"outlinewidth\": 0, \"ticks\": \"\"}, \"colorscale\": [[0.0, \"#0d0887\"], [0.1111111111111111, \"#46039f\"], [0.2222222222222222, \"#7201a8\"], [0.3333333333333333, \"#9c179e\"], [0.4444444444444444, \"#bd3786\"], [0.5555555555555556, \"#d8576b\"], [0.6666666666666666, \"#ed7953\"], [0.7777777777777778, \"#fb9f3a\"], [0.8888888888888888, \"#fdca26\"], [1.0, \"#f0f921\"]], \"type\": \"heatmap\"}], \"heatmapgl\": [{\"colorbar\": {\"outlinewidth\": 0, \"ticks\": \"\"}, \"colorscale\": [[0.0, \"#0d0887\"], [0.1111111111111111, \"#46039f\"], [0.2222222222222222, \"#7201a8\"], [0.3333333333333333, \"#9c179e\"], [0.4444444444444444, \"#bd3786\"], [0.5555555555555556, \"#d8576b\"], [0.6666666666666666, \"#ed7953\"], [0.7777777777777778, \"#fb9f3a\"], [0.8888888888888888, \"#fdca26\"], [1.0, \"#f0f921\"]], \"type\": \"heatmapgl\"}], \"histogram\": [{\"marker\": {\"colorbar\": {\"outlinewidth\": 0, \"ticks\": \"\"}}, \"type\": \"histogram\"}], \"histogram2d\": [{\"colorbar\": {\"outlinewidth\": 0, \"ticks\": \"\"}, \"colorscale\": [[0.0, \"#0d0887\"], [0.1111111111111111, \"#46039f\"], [0.2222222222222222, \"#7201a8\"], [0.3333333333333333, \"#9c179e\"], [0.4444444444444444, \"#bd3786\"], [0.5555555555555556, \"#d8576b\"], [0.6666666666666666, \"#ed7953\"], [0.7777777777777778, \"#fb9f3a\"], [0.8888888888888888, \"#fdca26\"], [1.0, \"#f0f921\"]], \"type\": \"histogram2d\"}], \"histogram2dcontour\": [{\"colorbar\": {\"outlinewidth\": 0, \"ticks\": \"\"}, \"colorscale\": [[0.0, \"#0d0887\"], [0.1111111111111111, \"#46039f\"], [0.2222222222222222, \"#7201a8\"], [0.3333333333333333, \"#9c179e\"], [0.4444444444444444, \"#bd3786\"], [0.5555555555555556, \"#d8576b\"], [0.6666666666666666, \"#ed7953\"], [0.7777777777777778, \"#fb9f3a\"], [0.8888888888888888, \"#fdca26\"], [1.0, \"#f0f921\"]], \"type\": \"histogram2dcontour\"}], \"mesh3d\": [{\"colorbar\": {\"outlinewidth\": 0, \"ticks\": \"\"}, \"type\": \"mesh3d\"}], \"parcoords\": [{\"line\": {\"colorbar\": {\"outlinewidth\": 0, \"ticks\": \"\"}}, \"type\": \"parcoords\"}], \"pie\": [{\"automargin\": true, \"type\": \"pie\"}], \"scatter\": [{\"marker\": {\"colorbar\": {\"outlinewidth\": 0, \"ticks\": \"\"}}, \"type\": \"scatter\"}], \"scatter3d\": [{\"line\": {\"colorbar\": {\"outlinewidth\": 0, \"ticks\": \"\"}}, \"marker\": {\"colorbar\": {\"outlinewidth\": 0, \"ticks\": \"\"}}, \"type\": \"scatter3d\"}], \"scattercarpet\": [{\"marker\": {\"colorbar\": {\"outlinewidth\": 0, \"ticks\": \"\"}}, \"type\": \"scattercarpet\"}], \"scattergeo\": [{\"marker\": {\"colorbar\": {\"outlinewidth\": 0, \"ticks\": \"\"}}, \"type\": \"scattergeo\"}], \"scattergl\": [{\"marker\": {\"colorbar\": {\"outlinewidth\": 0, \"ticks\": \"\"}}, \"type\": \"scattergl\"}], \"scattermapbox\": [{\"marker\": {\"colorbar\": {\"outlinewidth\": 0, \"ticks\": \"\"}}, \"type\": \"scattermapbox\"}], \"scatterpolar\": [{\"marker\": {\"colorbar\": {\"outlinewidth\": 0, \"ticks\": \"\"}}, \"type\": \"scatterpolar\"}], \"scatterpolargl\": [{\"marker\": {\"colorbar\": {\"outlinewidth\": 0, \"ticks\": \"\"}}, \"type\": \"scatterpolargl\"}], \"scatterternary\": [{\"marker\": {\"colorbar\": {\"outlinewidth\": 0, \"ticks\": \"\"}}, \"type\": \"scatterternary\"}], \"surface\": [{\"colorbar\": {\"outlinewidth\": 0, \"ticks\": \"\"}, \"colorscale\": [[0.0, \"#0d0887\"], [0.1111111111111111, \"#46039f\"], [0.2222222222222222, \"#7201a8\"], [0.3333333333333333, \"#9c179e\"], [0.4444444444444444, \"#bd3786\"], [0.5555555555555556, \"#d8576b\"], [0.6666666666666666, \"#ed7953\"], [0.7777777777777778, \"#fb9f3a\"], [0.8888888888888888, \"#fdca26\"], [1.0, \"#f0f921\"]], \"type\": \"surface\"}], \"table\": [{\"cells\": {\"fill\": {\"color\": \"#EBF0F8\"}, \"line\": {\"color\": \"white\"}}, \"header\": {\"fill\": {\"color\": \"#C8D4E3\"}, \"line\": {\"color\": \"white\"}}, \"type\": \"table\"}]}, \"layout\": {\"annotationdefaults\": {\"arrowcolor\": \"#2a3f5f\", \"arrowhead\": 0, \"arrowwidth\": 1}, \"coloraxis\": {\"colorbar\": {\"outlinewidth\": 0, \"ticks\": \"\"}}, \"colorscale\": {\"diverging\": [[0, \"#8e0152\"], [0.1, \"#c51b7d\"], [0.2, \"#de77ae\"], [0.3, \"#f1b6da\"], [0.4, \"#fde0ef\"], [0.5, \"#f7f7f7\"], [0.6, \"#e6f5d0\"], [0.7, \"#b8e186\"], [0.8, \"#7fbc41\"], [0.9, \"#4d9221\"], [1, \"#276419\"]], \"sequential\": [[0.0, \"#0d0887\"], [0.1111111111111111, \"#46039f\"], [0.2222222222222222, \"#7201a8\"], [0.3333333333333333, \"#9c179e\"], [0.4444444444444444, \"#bd3786\"], [0.5555555555555556, \"#d8576b\"], [0.6666666666666666, \"#ed7953\"], [0.7777777777777778, \"#fb9f3a\"], [0.8888888888888888, \"#fdca26\"], [1.0, \"#f0f921\"]], \"sequentialminus\": [[0.0, \"#0d0887\"], [0.1111111111111111, \"#46039f\"], [0.2222222222222222, \"#7201a8\"], [0.3333333333333333, \"#9c179e\"], [0.4444444444444444, \"#bd3786\"], [0.5555555555555556, \"#d8576b\"], [0.6666666666666666, \"#ed7953\"], [0.7777777777777778, \"#fb9f3a\"], [0.8888888888888888, \"#fdca26\"], [1.0, \"#f0f921\"]]}, \"colorway\": [\"#636efa\", \"#EF553B\", \"#00cc96\", \"#ab63fa\", \"#FFA15A\", \"#19d3f3\", \"#FF6692\", \"#B6E880\", \"#FF97FF\", \"#FECB52\"], \"font\": {\"color\": \"#2a3f5f\"}, \"geo\": {\"bgcolor\": \"white\", \"lakecolor\": \"white\", \"landcolor\": \"#E5ECF6\", \"showlakes\": true, \"showland\": true, \"subunitcolor\": \"white\"}, \"hoverlabel\": {\"align\": \"left\"}, \"hovermode\": \"closest\", \"mapbox\": {\"style\": \"light\"}, \"paper_bgcolor\": \"white\", \"plot_bgcolor\": \"#E5ECF6\", \"polar\": {\"angularaxis\": {\"gridcolor\": \"white\", \"linecolor\": \"white\", \"ticks\": \"\"}, \"bgcolor\": \"#E5ECF6\", \"radialaxis\": {\"gridcolor\": \"white\", \"linecolor\": \"white\", \"ticks\": \"\"}}, \"scene\": {\"xaxis\": {\"backgroundcolor\": \"#E5ECF6\", \"gridcolor\": \"white\", \"gridwidth\": 2, \"linecolor\": \"white\", \"showbackground\": true, \"ticks\": \"\", \"zerolinecolor\": \"white\"}, \"yaxis\": {\"backgroundcolor\": \"#E5ECF6\", \"gridcolor\": \"white\", \"gridwidth\": 2, \"linecolor\": \"white\", \"showbackground\": true, \"ticks\": \"\", \"zerolinecolor\": \"white\"}, \"zaxis\": {\"backgroundcolor\": \"#E5ECF6\", \"gridcolor\": \"white\", \"gridwidth\": 2, \"linecolor\": \"white\", \"showbackground\": true, \"ticks\": \"\", \"zerolinecolor\": \"white\"}}, \"shapedefaults\": {\"line\": {\"color\": \"#2a3f5f\"}}, \"ternary\": {\"aaxis\": {\"gridcolor\": \"white\", \"linecolor\": \"white\", \"ticks\": \"\"}, \"baxis\": {\"gridcolor\": \"white\", \"linecolor\": \"white\", \"ticks\": \"\"}, \"bgcolor\": \"#E5ECF6\", \"caxis\": {\"gridcolor\": \"white\", \"linecolor\": \"white\", \"ticks\": \"\"}}, \"title\": {\"x\": 0.05}, \"xaxis\": {\"automargin\": true, \"gridcolor\": \"white\", \"linecolor\": \"white\", \"ticks\": \"\", \"title\": {\"standoff\": 15}, \"zerolinecolor\": \"white\", \"zerolinewidth\": 2}, \"yaxis\": {\"automargin\": true, \"gridcolor\": \"white\", \"linecolor\": \"white\", \"ticks\": \"\", \"title\": {\"standoff\": 15}, \"zerolinecolor\": \"white\", \"zerolinewidth\": 2}}}, \"title\": {\"text\": \"Train vs Val Mean Absolute Error\"}, \"width\": 700, \"xaxis\": {\"title\": {\"text\": \"Epoch\"}}, \"yaxis\": {\"title\": {\"text\": \"mae\"}}},\n",
              "                        {\"responsive\": true}\n",
              "                    ).then(function(){\n",
              "                            \n",
              "var gd = document.getElementById('9d8a6569-327b-4ca7-9bb8-61c08a03c5e8');\n",
              "var x = new MutationObserver(function (mutations, observer) {{\n",
              "        var display = window.getComputedStyle(gd).display;\n",
              "        if (!display || display === 'none') {{\n",
              "            console.log([gd, 'removed!']);\n",
              "            Plotly.purge(gd);\n",
              "            observer.disconnect();\n",
              "        }}\n",
              "}});\n",
              "\n",
              "// Listen for the removal of the full notebook cells\n",
              "var notebookContainer = gd.closest('#notebook-container');\n",
              "if (notebookContainer) {{\n",
              "    x.observe(notebookContainer, {childList: true});\n",
              "}}\n",
              "\n",
              "// Listen for the clearing of the current output cell\n",
              "var outputEl = gd.closest('.output');\n",
              "if (outputEl) {{\n",
              "    x.observe(outputEl, {childList: true});\n",
              "}}\n",
              "\n",
              "                        })\n",
              "                };\n",
              "                \n",
              "            </script>\n",
              "        </div>\n",
              "</body>\n",
              "</html>"
            ]
          },
          "metadata": {
            "tags": []
          }
        },
        {
          "output_type": "display_data",
          "data": {
            "text/plain": [
              "<Figure size 432x288 with 0 Axes>"
            ]
          },
          "metadata": {
            "tags": []
          }
        }
      ]
    },
    {
      "cell_type": "code",
      "metadata": {
        "colab_type": "code",
        "id": "5mmZOQEyiv8q",
        "colab": {
          "base_uri": "https://localhost:8080/",
          "height": 50
        },
        "outputId": "333f7a0a-a30d-4fa1-9aa8-309ecfd2b266"
      },
      "source": [
        "test_generator = generate_images(test_idx, is_training=False, batch_size=1)\n",
        "age_model.evaluate(test_generator, steps = 2371)\n",
        "\n",
        "# O/p of the format - Loss, mae , mse"
      ],
      "execution_count": null,
      "outputs": [
        {
          "output_type": "stream",
          "text": [
            "2371/2371 [==============================] - 18s 8ms/step\n"
          ],
          "name": "stdout"
        },
        {
          "output_type": "execute_result",
          "data": {
            "text/plain": [
              "[84.68167877197266, 5.858747482299805, 65.38154602050781]"
            ]
          },
          "metadata": {
            "tags": []
          },
          "execution_count": 59
        }
      ]
    },
    {
      "cell_type": "markdown",
      "metadata": {
        "id": "ptVNU5IINrHf",
        "colab_type": "text"
      },
      "source": [
        " This results are pretty good. It means that on average, our best model (**Adamax** ) will make a prediction off by about **5.67 yrs** to the actual age.\n",
        " It seems to have great generalizability as well which is vindicated by the results of testing on external images.\n",
        "\n"
      ]
    },
    {
      "cell_type": "markdown",
      "metadata": {
        "id": "uMb87-RsPn0n",
        "colab_type": "text"
      },
      "source": [
        "## Results on some external images - "
      ]
    },
    {
      "cell_type": "code",
      "metadata": {
        "id": "h_vrlsAof977",
        "colab_type": "code",
        "colab": {
          "base_uri": "https://localhost:8080/",
          "height": 286
        },
        "outputId": "a2a986e8-0205-4cb4-fe2d-13b1ae5b895d"
      },
      "source": [
        "from keras.preprocessing import image\n",
        "from keras.preprocessing.image import ImageDataGenerator\n",
        " \n",
        "def loadImage(filepath):\n",
        "  test_img = image.load_img(filepath, target_size=(180, 180))\n",
        "  test_img = image.img_to_array(test_img)\n",
        "  test_img = np.expand_dims(test_img, axis = 0)\n",
        "  test_img /= 255\n",
        "  return test_img\n",
        "\n",
        "picture = \"/content/drive/My Drive/Some testing photos/dd1.jpg\"                                     \n",
        "age_pred = new_model.predict(loadImage(picture))\n",
        "img = image.load_img(picture)                        \n",
        "plt.imshow(img)\n",
        "plt.show()\n",
        "print(age_pred)\n"
      ],
      "execution_count": null,
      "outputs": [
        {
          "output_type": "display_data",
          "data": {
            "image/png": "[encoded data removed]",
            "text/plain": [
              "<Figure size 432x288 with 1 Axes>"
            ]
          },
          "metadata": {
            "tags": [],
            "needs_background": "light"
          }
        },
        {
          "output_type": "stream",
          "text": [
            "[[76.202835]]\n"
          ],
          "name": "stdout"
        }
      ]
    },
    {
      "cell_type": "code",
      "metadata": {
        "id": "trhS-TesiOol",
        "colab_type": "code",
        "colab": {
          "base_uri": "https://localhost:8080/",
          "height": 286
        },
        "outputId": "7bcddd1d-349f-4e8d-a819-9cfaefd02ce4"
      },
      "source": [
        "from keras.preprocessing import image\n",
        "from keras.preprocessing.image import ImageDataGenerator\n",
        " \n",
        "def loadImage(filepath):\n",
        "  test_img = image.load_img(filepath, target_size=(180, 180))\n",
        "  test_img = image.img_to_array(test_img)\n",
        "  test_img = np.expand_dims(test_img, axis = 0)\n",
        "  test_img /= 255\n",
        "  return test_img\n",
        "\n",
        "picture = \"/content/drive/My Drive/Some testing photos/teen2.jpg\"                                     \n",
        "age_pred = new_model.predict(loadImage(picture))\n",
        "img = image.load_img(picture)                        \n",
        "plt.imshow(img)\n",
        "plt.show()\n",
        "print(age_pred)\n"
      ],
      "execution_count": null,
      "outputs": [
        {
          "output_type": "display_data",
          "data": {
            "image/png": "[encoded data removed]",
            "text/plain": [
              "<Figure size 432x288 with 1 Axes>"
            ]
          },
          "metadata": {
            "tags": [],
            "needs_background": "light"
          }
        },
        {
          "output_type": "stream",
          "text": [
            "[[9.907316]]\n"
          ],
          "name": "stdout"
        }
      ]
    },
    {
      "cell_type": "code",
      "metadata": {
        "id": "8IZ4h_11jyLP",
        "colab_type": "code",
        "colab": {
          "base_uri": "https://localhost:8080/",
          "height": 286
        },
        "outputId": "6ca1a781-58af-44be-f394-fa68e50252be"
      },
      "source": [
        "from keras.preprocessing import image\n",
        "from keras.preprocessing.image import ImageDataGenerator\n",
        " \n",
        "def loadImage(filepath):\n",
        "  test_img = image.load_img(filepath, target_size=(180, 180))\n",
        "  test_img = image.img_to_array(test_img)\n",
        "  test_img = np.expand_dims(test_img, axis = 0)\n",
        "  test_img /= 255\n",
        "  return test_img\n",
        "\n",
        "picture = \"/content/drive/My Drive/Some testing photos/tsit.jpg\"                                     \n",
        "age_pred = age_model.predict(loadImage(picture))\n",
        "img = image.load_img(picture)                        \n",
        "plt.imshow(img)\n",
        "plt.show()\n",
        "print(age_pred)\n"
      ],
      "execution_count": null,
      "outputs": [
        {
          "output_type": "display_data",
          "data": {
            "image/png": "[encoded data removed]",
            "text/plain": [
              "<Figure size 432x288 with 1 Axes>"
            ]
          },
          "metadata": {
            "tags": [],
            "needs_background": "light"
          }
        },
        {
          "output_type": "stream",
          "text": [
            "[[24.46875]]\n"
          ],
          "name": "stdout"
        }
      ]
    }
  ]
}